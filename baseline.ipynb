{
 "cells": [
  {
   "cell_type": "code",
   "execution_count": 2,
   "metadata": {},
   "outputs": [],
   "source": [
    "import warnings\n",
    "warnings.simplefilter('ignore')\n",
    "\n",
    "import pandas as pd\n",
    "pd.set_option('max_columns', None)\n",
    "pd.set_option('max_rows', 100)\n",
    "pd.set_option('display.float_format',lambda x : '%.2f' % x)\n",
    "import numpy as np\n",
    "np.set_printoptions(suppress=True)\n",
    "from tqdm.notebook import tqdm\n",
    "\n",
    "%matplotlib inline\n",
    "import matplotlib.pyplot as plt\n",
    "import seaborn as sns\n",
    "\n",
    "import gc\n",
    "\n",
    "from sklearn.preprocessing import LabelEncoder\n",
    "from sklearn.model_selection import StratifiedKFold\n",
    "from sklearn.metrics import f1_score, roc_auc_score\n",
    "\n",
    "import lightgbm as lgb"
   ]
  },
  {
   "cell_type": "code",
   "execution_count": 2,
   "metadata": {},
   "outputs": [
    {
     "output_type": "stream",
     "name": "stderr",
     "text": [
      "'ls' �����ڲ����ⲿ���Ҳ���ǿ����еĳ���\n���������ļ���\n"
     ]
    }
   ],
   "source": [
    "!ls -R raw_data/"
   ]
  },
  {
   "cell_type": "code",
   "execution_count": 4,
   "metadata": {},
   "outputs": [],
   "source": [
    "t_base_info = \"./dataset/train/base_info.csv\"\n",
    "t_annual_report_info = \"./dataset/train/annual_report_info.csv\"\n",
    "t_tax_info = \"./dataset/train/tax_info.csv\"\n",
    "t_change_info = \"./dataset/train/change_info.csv\"\n",
    "t_news_info = \"./dataset/train/news_info.csv\"\n",
    "t_other_info = \"./dataset/train/other_info.csv\"\n",
    "t_entprise_info = \"./dataset/train/entprise_info.csv\" # train labeled data"
   ]
  },
  {
   "cell_type": "code",
   "execution_count": 4,
   "metadata": {},
   "outputs": [
    {
     "output_type": "stream",
     "name": "stdout",
     "text": [
      "                                                 id  label\n0  59b38c56de3836831ff90a77d892a13523b7494f6ed09ff7      1\n1  da8691b210adb3f6be8064e006f220070565db287275ad38      0\n2  82750f1b9d122350918121f97c99bf96e11aa24ee91504a9      0\n3  f000950527a6feb6b2c6de6f85c1e7438ba5590be931e2ec      0\n4  f1c1045b13d1832927e3743e49d2917f2d98424f0849a373      0\n"
     ]
    }
   ],
   "source": [
    "df_label_info = pd.read_csv(t_entprise_info, header=0)\n",
    "print(df_label_info.head())"
   ]
  },
  {
   "cell_type": "code",
   "execution_count": 5,
   "metadata": {},
   "outputs": [
    {
     "output_type": "stream",
     "name": "stdout",
     "text": [
      "                                                 id  legal_judgment_num  \\\n0  f000950527a6feb6d340f91da09e61347d8200cd2f0d1602                4.00   \n1  f000950527a6feb608dd9322b74a99f60851207f36a3c94c                1.00   \n2  d8071a739aa75a3b9f23966f8dae78fd226c272515b9c255                2.00   \n3  216bd2aaf4d079242209b1496f81a36c7abed9dd0bb65ed3                 nan   \n4  e9f7b28ec10e0470de9631c789f49acdd4e7cf9ed6db094b                 nan   \n\n   brand_num  patent_num  \n0        nan         nan  \n1        nan         nan  \n2        nan         nan  \n3       1.00         nan  \n4       2.00         nan  \nid                     object\nlegal_judgment_num    float64\nbrand_num             float64\npatent_num            float64\ndtype: object\n"
     ]
    },
    {
     "output_type": "execute_result",
     "data": {
      "text/plain": [
       "                     count  mean   std  min  25%   50%   75%     max\n",
       "legal_judgment_num 1006.00 14.80 54.58 1.00 1.00  3.00  9.00  959.00\n",
       "brand_num           909.00 14.17 49.16 1.00 1.00  2.00  6.00  441.00\n",
       "patent_num          396.00 47.01 97.75 1.00 4.00 16.00 50.00 1087.00"
      ],
      "text/html": "<div>\n<style scoped>\n    .dataframe tbody tr th:only-of-type {\n        vertical-align: middle;\n    }\n\n    .dataframe tbody tr th {\n        vertical-align: top;\n    }\n\n    .dataframe thead th {\n        text-align: right;\n    }\n</style>\n<table border=\"1\" class=\"dataframe\">\n  <thead>\n    <tr style=\"text-align: right;\">\n      <th></th>\n      <th>count</th>\n      <th>mean</th>\n      <th>std</th>\n      <th>min</th>\n      <th>25%</th>\n      <th>50%</th>\n      <th>75%</th>\n      <th>max</th>\n    </tr>\n  </thead>\n  <tbody>\n    <tr>\n      <th>legal_judgment_num</th>\n      <td>1006.00</td>\n      <td>14.80</td>\n      <td>54.58</td>\n      <td>1.00</td>\n      <td>1.00</td>\n      <td>3.00</td>\n      <td>9.00</td>\n      <td>959.00</td>\n    </tr>\n    <tr>\n      <th>brand_num</th>\n      <td>909.00</td>\n      <td>14.17</td>\n      <td>49.16</td>\n      <td>1.00</td>\n      <td>1.00</td>\n      <td>2.00</td>\n      <td>6.00</td>\n      <td>441.00</td>\n    </tr>\n    <tr>\n      <th>patent_num</th>\n      <td>396.00</td>\n      <td>47.01</td>\n      <td>97.75</td>\n      <td>1.00</td>\n      <td>4.00</td>\n      <td>16.00</td>\n      <td>50.00</td>\n      <td>1087.00</td>\n    </tr>\n  </tbody>\n</table>\n</div>"
     },
     "metadata": {},
     "execution_count": 5
    }
   ],
   "source": [
    "df_other_info = pd.read_csv(t_other_info, header=0)\n",
    "print(df_other_info.head())\n",
    "print(df_other_info.dtypes)\n",
    "df_other_info.select_dtypes(['float64']).describe().T"
   ]
  },
  {
   "cell_type": "code",
   "execution_count": 6,
   "metadata": {},
   "outputs": [],
   "source": [
    "# for col in tqdm(df_other_info.select_dtypes(['float64']).columns):\n",
    "#     df_other_info[col] = df_other_info[col].fillna(df_other_info[col].median())\n",
    "# print(df_other_info.head())"
   ]
  },
  {
   "cell_type": "code",
   "execution_count": 7,
   "metadata": {},
   "outputs": [
    {
     "output_type": "stream",
     "name": "stdout",
     "text": [
      "(14865, 5)\n"
     ]
    }
   ],
   "source": [
    "training_set = pd.merge(df_label_info, df_other_info, how='left', on='id')\n",
    "training_set = training_set.groupby(['id'], as_index=False).mean()\n",
    "print(training_set.shape)"
   ]
  },
  {
   "cell_type": "code",
   "execution_count": 8,
   "metadata": {},
   "outputs": [
    {
     "output_type": "stream",
     "name": "stdout",
     "text": [
      "                                                 id positive_negtive  \\\n",
      "0  f000950527a6feb62669d6a175fe6fdccd1eb4f7ca8e5016               积极   \n",
      "1  f000950527a6feb6e8bd9919e2ca363359bcfa997a0f9de7               中立   \n",
      "2  f000950527a6feb6e8bd9919e2ca363359bcfa997a0f9de7               消极   \n",
      "3  d8071a739aa75a3bcf6fb0041ee883243251d30025ab9d45               中立   \n",
      "4  f000950527a6feb6d71de3382afa0bc5ff87bb65477f698a               积极   \n",
      "\n",
      "  public_date  \n",
      "0  2016-12-30  \n",
      "1  2017-08-09  \n",
      "2  2016-02-29  \n",
      "3  2018-06-08  \n",
      "4  2015-06-29  \n"
     ]
    },
    {
     "output_type": "error",
     "ename": "NameError",
     "evalue": "name 'check_date' is not defined",
     "traceback": [
      "\u001b[1;31m---------------------------------------------------------------------------\u001b[0m",
      "\u001b[1;31mNameError\u001b[0m                                 Traceback (most recent call last)",
      "\u001b[1;32m<ipython-input-8-df1dbcb9e347>\u001b[0m in \u001b[0;36m<module>\u001b[1;34m\u001b[0m\n\u001b[0;32m     14\u001b[0m     \u001b[1;32melse\u001b[0m\u001b[1;33m:\u001b[0m\u001b[1;33m\u001b[0m\u001b[1;33m\u001b[0m\u001b[0m\n\u001b[0;32m     15\u001b[0m         \u001b[1;32mreturn\u001b[0m \u001b[0mdays\u001b[0m\u001b[1;33m(\u001b[0m\u001b[0mcmp_date\u001b[0m\u001b[1;33m,\u001b[0m \u001b[0mstr\u001b[0m\u001b[1;33m)\u001b[0m\u001b[1;33m\u001b[0m\u001b[1;33m\u001b[0m\u001b[0m\n\u001b[1;32m---> 16\u001b[1;33m \u001b[0mdf_news_info\u001b[0m\u001b[1;33m[\u001b[0m\u001b[1;34m'public_date'\u001b[0m\u001b[1;33m]\u001b[0m \u001b[1;33m=\u001b[0m \u001b[0mdf_news_info\u001b[0m\u001b[1;33m[\u001b[0m\u001b[1;34m'public_date'\u001b[0m\u001b[1;33m]\u001b[0m\u001b[1;33m.\u001b[0m\u001b[0mmap\u001b[0m\u001b[1;33m(\u001b[0m\u001b[1;32mlambda\u001b[0m \u001b[0mx\u001b[0m\u001b[1;33m:\u001b[0m \u001b[0mhandle_public_date\u001b[0m\u001b[1;33m(\u001b[0m\u001b[0mx\u001b[0m\u001b[1;33m)\u001b[0m\u001b[1;33m)\u001b[0m\u001b[1;33m\u001b[0m\u001b[1;33m\u001b[0m\u001b[0m\n\u001b[0m\u001b[0;32m     17\u001b[0m \u001b[1;33m\u001b[0m\u001b[0m\n\u001b[0;32m     18\u001b[0m \u001b[1;31m# 新闻发布时间，越久远 因子越小\u001b[0m\u001b[1;33m\u001b[0m\u001b[1;33m\u001b[0m\u001b[1;33m\u001b[0m\u001b[0m\n",
      "\u001b[1;32mE:\\anaconda\\pkg\\lib\\site-packages\\pandas\\core\\series.py\u001b[0m in \u001b[0;36mmap\u001b[1;34m(self, arg, na_action)\u001b[0m\n\u001b[0;32m   3628\u001b[0m         \u001b[0mdtype\u001b[0m\u001b[1;33m:\u001b[0m \u001b[0mobject\u001b[0m\u001b[1;33m\u001b[0m\u001b[1;33m\u001b[0m\u001b[0m\n\u001b[0;32m   3629\u001b[0m         \"\"\"\n\u001b[1;32m-> 3630\u001b[1;33m         \u001b[0mnew_values\u001b[0m \u001b[1;33m=\u001b[0m \u001b[0msuper\u001b[0m\u001b[1;33m(\u001b[0m\u001b[1;33m)\u001b[0m\u001b[1;33m.\u001b[0m\u001b[0m_map_values\u001b[0m\u001b[1;33m(\u001b[0m\u001b[0marg\u001b[0m\u001b[1;33m,\u001b[0m \u001b[0mna_action\u001b[0m\u001b[1;33m=\u001b[0m\u001b[0mna_action\u001b[0m\u001b[1;33m)\u001b[0m\u001b[1;33m\u001b[0m\u001b[1;33m\u001b[0m\u001b[0m\n\u001b[0m\u001b[0;32m   3631\u001b[0m         \u001b[1;32mreturn\u001b[0m \u001b[0mself\u001b[0m\u001b[1;33m.\u001b[0m\u001b[0m_constructor\u001b[0m\u001b[1;33m(\u001b[0m\u001b[0mnew_values\u001b[0m\u001b[1;33m,\u001b[0m \u001b[0mindex\u001b[0m\u001b[1;33m=\u001b[0m\u001b[0mself\u001b[0m\u001b[1;33m.\u001b[0m\u001b[0mindex\u001b[0m\u001b[1;33m)\u001b[0m\u001b[1;33m.\u001b[0m\u001b[0m__finalize__\u001b[0m\u001b[1;33m(\u001b[0m\u001b[0mself\u001b[0m\u001b[1;33m)\u001b[0m\u001b[1;33m\u001b[0m\u001b[1;33m\u001b[0m\u001b[0m\n\u001b[0;32m   3632\u001b[0m \u001b[1;33m\u001b[0m\u001b[0m\n",
      "\u001b[1;32mE:\\anaconda\\pkg\\lib\\site-packages\\pandas\\core\\base.py\u001b[0m in \u001b[0;36m_map_values\u001b[1;34m(self, mapper, na_action)\u001b[0m\n\u001b[0;32m   1143\u001b[0m \u001b[1;33m\u001b[0m\u001b[0m\n\u001b[0;32m   1144\u001b[0m         \u001b[1;31m# mapper is a function\u001b[0m\u001b[1;33m\u001b[0m\u001b[1;33m\u001b[0m\u001b[1;33m\u001b[0m\u001b[0m\n\u001b[1;32m-> 1145\u001b[1;33m         \u001b[0mnew_values\u001b[0m \u001b[1;33m=\u001b[0m \u001b[0mmap_f\u001b[0m\u001b[1;33m(\u001b[0m\u001b[0mvalues\u001b[0m\u001b[1;33m,\u001b[0m \u001b[0mmapper\u001b[0m\u001b[1;33m)\u001b[0m\u001b[1;33m\u001b[0m\u001b[1;33m\u001b[0m\u001b[0m\n\u001b[0m\u001b[0;32m   1146\u001b[0m \u001b[1;33m\u001b[0m\u001b[0m\n\u001b[0;32m   1147\u001b[0m         \u001b[1;32mreturn\u001b[0m \u001b[0mnew_values\u001b[0m\u001b[1;33m\u001b[0m\u001b[1;33m\u001b[0m\u001b[0m\n",
      "\u001b[1;32mpandas\\_libs\\lib.pyx\u001b[0m in \u001b[0;36mpandas._libs.lib.map_infer\u001b[1;34m()\u001b[0m\n",
      "\u001b[1;32m<ipython-input-8-df1dbcb9e347>\u001b[0m in \u001b[0;36m<lambda>\u001b[1;34m(x)\u001b[0m\n\u001b[0;32m     14\u001b[0m     \u001b[1;32melse\u001b[0m\u001b[1;33m:\u001b[0m\u001b[1;33m\u001b[0m\u001b[1;33m\u001b[0m\u001b[0m\n\u001b[0;32m     15\u001b[0m         \u001b[1;32mreturn\u001b[0m \u001b[0mdays\u001b[0m\u001b[1;33m(\u001b[0m\u001b[0mcmp_date\u001b[0m\u001b[1;33m,\u001b[0m \u001b[0mstr\u001b[0m\u001b[1;33m)\u001b[0m\u001b[1;33m\u001b[0m\u001b[1;33m\u001b[0m\u001b[0m\n\u001b[1;32m---> 16\u001b[1;33m \u001b[0mdf_news_info\u001b[0m\u001b[1;33m[\u001b[0m\u001b[1;34m'public_date'\u001b[0m\u001b[1;33m]\u001b[0m \u001b[1;33m=\u001b[0m \u001b[0mdf_news_info\u001b[0m\u001b[1;33m[\u001b[0m\u001b[1;34m'public_date'\u001b[0m\u001b[1;33m]\u001b[0m\u001b[1;33m.\u001b[0m\u001b[0mmap\u001b[0m\u001b[1;33m(\u001b[0m\u001b[1;32mlambda\u001b[0m \u001b[0mx\u001b[0m\u001b[1;33m:\u001b[0m \u001b[0mhandle_public_date\u001b[0m\u001b[1;33m(\u001b[0m\u001b[0mx\u001b[0m\u001b[1;33m)\u001b[0m\u001b[1;33m)\u001b[0m\u001b[1;33m\u001b[0m\u001b[1;33m\u001b[0m\u001b[0m\n\u001b[0m\u001b[0;32m     17\u001b[0m \u001b[1;33m\u001b[0m\u001b[0m\n\u001b[0;32m     18\u001b[0m \u001b[1;31m# 新闻发布时间，越久远 因子越小\u001b[0m\u001b[1;33m\u001b[0m\u001b[1;33m\u001b[0m\u001b[1;33m\u001b[0m\u001b[0m\n",
      "\u001b[1;32m<ipython-input-8-df1dbcb9e347>\u001b[0m in \u001b[0;36mhandle_public_date\u001b[1;34m(str)\u001b[0m\n\u001b[0;32m     10\u001b[0m \u001b[1;31m# 处理\"xx小时前\" 数据统一为昨天更新\u001b[0m\u001b[1;33m\u001b[0m\u001b[1;33m\u001b[0m\u001b[1;33m\u001b[0m\u001b[0m\n\u001b[0;32m     11\u001b[0m \u001b[1;32mdef\u001b[0m \u001b[0mhandle_public_date\u001b[0m\u001b[1;33m(\u001b[0m\u001b[0mstr\u001b[0m\u001b[1;33m)\u001b[0m\u001b[1;33m:\u001b[0m\u001b[1;33m\u001b[0m\u001b[1;33m\u001b[0m\u001b[0m\n\u001b[1;32m---> 12\u001b[1;33m     \u001b[1;32mif\u001b[0m\u001b[1;33m(\u001b[0m\u001b[0mcheck_date\u001b[0m\u001b[1;33m(\u001b[0m\u001b[0mstr\u001b[0m\u001b[1;33m)\u001b[0m \u001b[1;32mis\u001b[0m \u001b[1;32mFalse\u001b[0m\u001b[1;33m)\u001b[0m\u001b[1;33m:\u001b[0m\u001b[1;33m\u001b[0m\u001b[1;33m\u001b[0m\u001b[0m\n\u001b[0m\u001b[0;32m     13\u001b[0m         \u001b[1;32mreturn\u001b[0m \u001b[1;36m1\u001b[0m\u001b[1;33m\u001b[0m\u001b[1;33m\u001b[0m\u001b[0m\n\u001b[0;32m     14\u001b[0m     \u001b[1;32melse\u001b[0m\u001b[1;33m:\u001b[0m\u001b[1;33m\u001b[0m\u001b[1;33m\u001b[0m\u001b[0m\n",
      "\u001b[1;31mNameError\u001b[0m: name 'check_date' is not defined"
     ]
    }
   ],
   "source": [
    "df_news_info = pd.read_csv(t_news_info, header=0)\n",
    "print(df_news_info.head())\n",
    "dict_atitude = {\"积极\": 1, \"中立\": 0, \"消极\": -1}\n",
    "df_news_info['positive_negtive'] = df_news_info['positive_negtive'].map(lambda x : dict_atitude[x])\n",
    "# public date 转变成迄今为止发生时间\n",
    "cmp_date = \"2020-10-09\"\n",
    "# df_news_info['public_date'] = df_news_info['public_date'].map(lambda x: check_date(x))\n",
    "# df_news_info['public_date'].value_counts()\n",
    "\n",
    "# 处理\"xx小时前\" 数据统一为昨天更新 \n",
    "def handle_public_date(str):\n",
    "    if(check_date(str) is False):\n",
    "        return 1\n",
    "    else:\n",
    "        return days(cmp_date, str)\n",
    "df_news_info['public_date'] = df_news_info['public_date'].map(lambda x: handle_public_date(x))\n",
    "\n",
    "# 新闻发布时间，越久远 因子越小\n",
    "df_news_info['news_factor'] = 1 - (df_news_info['public_date'] / df_news_info['public_date'].max())\n",
    "df_news_info['news_factor'] = df_news_info[['news_factor', 'positive_negtive']].apply(lambda x: x['news_factor'] * x['positive_negtive'], axis=1)\n",
    "\n",
    "# del df_news_info['positive_negtive']\n",
    "# del df_news_info['public_date']\n",
    "print(df_news_info.head())\n",
    "df_news_info = df_news_info.groupby(['id'], as_index=False).sum()"
   ]
  },
  {
   "cell_type": "code",
   "execution_count": 90,
   "metadata": {},
   "outputs": [
    {
     "output_type": "stream",
     "name": "stdout",
     "text": [
      "                                                    id  bgcnt\n",
      "0     09912c34159b1720558a419983a989f1dd2e0ed69a044ca3      9\n",
      "1     0ba26b418aa50d3c35e3d01d414b2c9f07efa6997fbf4394      5\n",
      "2     175ebe5f059ec05007223e9af0a48b885f4cbfa833d93eed     11\n",
      "3     175ebe5f059ec05036d901021be6da41057ae3ee1fe6b8bb     15\n",
      "4     175ebe5f059ec0503eb86987a7b6da7c40c6e69d5b54736f      2\n",
      "...                                                ...    ...\n",
      "8721  f1c1045b13d18329fff6b6c261a696a54cc111b991a55a72      1\n",
      "8722  f6eb47aa168d4141ebdc3e35a7b37a3cb15baa8608f730a0      2\n",
      "8723  ff2c78b9022767a53da2e5a811e4aa9583e32efc9899f9f3      2\n",
      "8724  ff2c78b9022767a5439dae566c7603a03a6178241dacf5c9     13\n",
      "8725  ff2c78b9022767a583c0800a3f450666162ea0e4566cfd19     22\n",
      "\n",
      "[8726 rows x 2 columns]\n",
      "(8726, 3)\n",
      "                                                 id  bgcnt  bgrq\n",
      "0  09912c34159b1720558a419983a989f1dd2e0ed69a044ca3      9  2019\n",
      "1  0ba26b418aa50d3c35e3d01d414b2c9f07efa6997fbf4394      5  2019\n",
      "2  175ebe5f059ec05007223e9af0a48b885f4cbfa833d93eed     11  2017\n",
      "3  175ebe5f059ec05036d901021be6da41057ae3ee1fe6b8bb     15  2019\n",
      "4  175ebe5f059ec0503eb86987a7b6da7c40c6e69d5b54736f      2  2020\n"
     ]
    }
   ],
   "source": [
    "df_change_info = pd.read_csv(t_change_info, header=0)\n",
    "del df_change_info['bgxmdm']\n",
    "del df_change_info['bgq']\n",
    "del df_change_info['bgh']\n",
    "# del df_change_info['bgrq']\n",
    "# print(df_change_info.head())\n",
    "# print(df_change_info.shape)\n",
    "\n",
    "df_change_info['bgcnt'] = 1\n",
    "df_tmp = df_change_info[['id', 'bgcnt']]\n",
    "df_tmp = df_tmp.groupby(['id'], as_index=False).sum()\n",
    "print(df_tmp)\n",
    "\n",
    "def get_last_time(x):\n",
    "    return x.sort_values(ascending = False)[:1]\n",
    "df_bgrq = df_change_info['bgrq'].groupby(df_change_info['id']).apply(get_last_time)\n",
    "\n",
    "df_change_info = pd.merge(df_tmp, df_bgrq, how='left', on='id')\n",
    "df_change_info['bgrq'] = df_change_info['bgrq'].apply(lambda x: str(x)[:4])\n",
    "\n",
    "print(df_change_info.shape)\n",
    "print(df_change_info.head())\n",
    "\n",
    "# df_change_info = df_change_info.groupby(['id'], as_index=False).sum()\n"
   ]
  },
  {
   "cell_type": "code",
   "execution_count": 20,
   "metadata": {},
   "outputs": [
    {
     "output_type": "stream",
     "name": "stdout",
     "text": [
      "(14865, 2)\n"
     ]
    },
    {
     "output_type": "execute_result",
     "data": {
      "text/plain": [
       "                                                 id  label\n",
       "0  59b38c56de3836831ff90a77d892a13523b7494f6ed09ff7      1\n",
       "1  da8691b210adb3f6be8064e006f220070565db287275ad38      0\n",
       "2  82750f1b9d122350918121f97c99bf96e11aa24ee91504a9      0\n",
       "3  f000950527a6feb6b2c6de6f85c1e7438ba5590be931e2ec      0\n",
       "4  f1c1045b13d1832927e3743e49d2917f2d98424f0849a373      0"
      ],
      "text/html": "<div>\n<style scoped>\n    .dataframe tbody tr th:only-of-type {\n        vertical-align: middle;\n    }\n\n    .dataframe tbody tr th {\n        vertical-align: top;\n    }\n\n    .dataframe thead th {\n        text-align: right;\n    }\n</style>\n<table border=\"1\" class=\"dataframe\">\n  <thead>\n    <tr style=\"text-align: right;\">\n      <th></th>\n      <th>id</th>\n      <th>label</th>\n    </tr>\n  </thead>\n  <tbody>\n    <tr>\n      <th>0</th>\n      <td>59b38c56de3836831ff90a77d892a13523b7494f6ed09ff7</td>\n      <td>1</td>\n    </tr>\n    <tr>\n      <th>1</th>\n      <td>da8691b210adb3f6be8064e006f220070565db287275ad38</td>\n      <td>0</td>\n    </tr>\n    <tr>\n      <th>2</th>\n      <td>82750f1b9d122350918121f97c99bf96e11aa24ee91504a9</td>\n      <td>0</td>\n    </tr>\n    <tr>\n      <th>3</th>\n      <td>f000950527a6feb6b2c6de6f85c1e7438ba5590be931e2ec</td>\n      <td>0</td>\n    </tr>\n    <tr>\n      <th>4</th>\n      <td>f1c1045b13d1832927e3743e49d2917f2d98424f0849a373</td>\n      <td>0</td>\n    </tr>\n  </tbody>\n</table>\n</div>"
     },
     "metadata": {},
     "execution_count": 20
    }
   ],
   "source": [
    "# 数据集7：entprise_info.csv\n",
    "# 带标注的企业数据。每一行代表一个企业，每一行2列，其中id列为企业唯一标识，label列为标注（1：有非法集资风险，0：无非法集资风险），列之间采用“,”分隔符分割。\n",
    "\n",
    "# 训练集 id 及标签\n",
    "\n",
    "entprise_info = pd.read_csv(t_entprise_info)\n",
    "\n",
    "print(entprise_info.shape)\n",
    "entprise_info.head()"
   ]
  },
  {
   "cell_type": "code",
   "execution_count": 21,
   "metadata": {},
   "outputs": [
    {
     "output_type": "stream",
     "name": "stdout",
     "text": [
      "(10000, 2)\n"
     ]
    },
    {
     "output_type": "execute_result",
     "data": {
      "text/plain": [
       "                                                 id  score\n",
       "0  82750f1b9d1223508ee329d47e27d35176c93eb9f35e9c1a    nan\n",
       "1  f000950527a6feb670cc1c87c2025f3922aaa4a0206a0a33    nan\n",
       "2  e9f7b28ec10e04700ef4db75a494f9a1e8e8b09555e6afa1    nan\n",
       "3  beb4aaaa89e0a0ae9d77bd5d7665be6342f552f51840cf19    nan\n",
       "4  e9f7b28ec10e0470ee4172cec0133b6826c34f27d3dff204    nan"
      ],
      "text/html": "<div>\n<style scoped>\n    .dataframe tbody tr th:only-of-type {\n        vertical-align: middle;\n    }\n\n    .dataframe tbody tr th {\n        vertical-align: top;\n    }\n\n    .dataframe thead th {\n        text-align: right;\n    }\n</style>\n<table border=\"1\" class=\"dataframe\">\n  <thead>\n    <tr style=\"text-align: right;\">\n      <th></th>\n      <th>id</th>\n      <th>score</th>\n    </tr>\n  </thead>\n  <tbody>\n    <tr>\n      <th>0</th>\n      <td>82750f1b9d1223508ee329d47e27d35176c93eb9f35e9c1a</td>\n      <td>nan</td>\n    </tr>\n    <tr>\n      <th>1</th>\n      <td>f000950527a6feb670cc1c87c2025f3922aaa4a0206a0a33</td>\n      <td>nan</td>\n    </tr>\n    <tr>\n      <th>2</th>\n      <td>e9f7b28ec10e04700ef4db75a494f9a1e8e8b09555e6afa1</td>\n      <td>nan</td>\n    </tr>\n    <tr>\n      <th>3</th>\n      <td>beb4aaaa89e0a0ae9d77bd5d7665be6342f552f51840cf19</td>\n      <td>nan</td>\n    </tr>\n    <tr>\n      <th>4</th>\n      <td>e9f7b28ec10e0470ee4172cec0133b6826c34f27d3dff204</td>\n      <td>nan</td>\n    </tr>\n  </tbody>\n</table>\n</div>"
     },
     "metadata": {},
     "execution_count": 21
    }
   ],
   "source": [
    "# 数据集8（验证集）：entprise_evaluate.csv\n",
    "# 未标注企业数据。参赛队伍需提交的最终结果数据集，每一行代表一个企业，每一行有 2 列, 其中id列为企业唯一标识，score列为空，列之间采用“,”分隔符分割。\n",
    "\n",
    "# 测试集 id\n",
    "\n",
    "entprise_evaluate = pd.read_csv('./dataset/entprise_evaluate.csv')\n",
    "\n",
    "print(entprise_evaluate.shape)\n",
    "entprise_evaluate.head()"
   ]
  },
  {
   "cell_type": "code",
   "execution_count": 23,
   "metadata": {},
   "outputs": [
    {
     "output_type": "stream",
     "name": "stdout",
     "text": [
      "(24865, 33)\n"
     ]
    },
    {
     "output_type": "execute_result",
     "data": {
      "text/plain": [
       "                                                 id  oplocdistrict  \\\n",
       "0  47645761dc56bb8c5fae00114b768b5d9b6e917c3aec07c4         340223   \n",
       "1  9c7fa510616a683058ce97d0bc768a621cd85ab1e87da2a3         340222   \n",
       "2  59b38c56de3836838082cfcb1a298951abfe15e6940c49ba         340202   \n",
       "3  e9f7b28ec10e047000d16ab79e1b5e6da434a1697cce7818         340221   \n",
       "4  f000950527a6feb63ee1ce82bb22ddd1ab8b8fdffa3b91fb         340202   \n",
       "\n",
       "  industryphy  industryco                                                dom  \\\n",
       "0           M     7513.00  31487d8f256f16bd6244b7251be2ebb24d1db51663c654...   \n",
       "1           O     8090.00  31487d8f256f16bd6244b7251be2ebb27b17bdfd95c8f3...   \n",
       "2           R     9053.00  31487d8f256f16bd6244b7251be2ebb2ae36cd652943e8...   \n",
       "3           L     7212.00  746df9aaed8578571760c563abe882c8ba25209fc6d5db...   \n",
       "4           R     8810.00  31487d8f256f16bd6244b7251be2ebb2ae36cd652943e8...   \n",
       "\n",
       "                                             opscope  enttype  enttypeitem  \\\n",
       "0  纳米新材料、机械设备、五金配件加工、销售及技术推广服务，道路货物运输。（依法须经批准的项目，...     1100      1150.00   \n",
       "1                  健身服务。（依法须经批准的项目，经相关部门批准后方可开展经营活动）     9600          nan   \n",
       "2  文化娱乐经纪人服务；境内文艺活动组织与策划；文化艺术交流活动组织策划；演出经纪；其他文化艺术...     1100      1150.00   \n",
       "3  投资管理及咨询(证券、期货除外)；企业管理。（依法须经批准的项目，经相关部门批准后方可开展经...     4500      4540.00   \n",
       "4  境内文化艺术交流活动策划；企业形象策划；礼仪庆典服务；翻译服务；专利代理；广告设计、制作、代...     1100      1130.00   \n",
       "\n",
       "                opfrom        opto  state               orgid  \\\n",
       "0  2019-07-11 00:00:00         NaN      6  340223010010000000   \n",
       "1           2017-09-06         NaN      6  340222060010000000   \n",
       "2  2020-09-14 14:46:30         NaN      6  340202010010000000   \n",
       "3           2015-09-30         NaN      6  340221010010000000   \n",
       "4           2017-12-01  2067-11-30      7  340200000000000000   \n",
       "\n",
       "                jobid  adbusign  townsign  regtype  empnum  compform  parnum  \\\n",
       "0  340200000000115392         0         0        1    5.00       nan     nan   \n",
       "1  340200000000112114         0         1        1    3.00      1.00     nan   \n",
       "2  400000000000753910         0         0        1    2.00       nan    1.00   \n",
       "3  400000000000013538         0         1        1    2.00       nan     nan   \n",
       "4  400000000000283237         0         0        1     nan       nan     nan   \n",
       "\n",
       "   exenum      opform  ptbusscope  venind  enttypeminu  midpreindcode  \\\n",
       "0     nan         NaN         nan     nan      1151.00            nan   \n",
       "1     nan          10         nan    3.00          nan            nan   \n",
       "2     nan         NaN         nan     nan      1151.00            nan   \n",
       "3     nan  01-以个人财产出资         nan     nan          nan            nan   \n",
       "4     nan         NaN         nan     nan          nan            nan   \n",
       "\n",
       "   protype                                              oploc  regcap  reccap  \\\n",
       "0      nan                                   2367b4cac96d8598   50.00     nan   \n",
       "1      nan  31487d8f256f16bd6244b7251be2ebb27b17bdfd95c8f3...   10.00     nan   \n",
       "2      nan                                   2367b4cac96d8598  100.00     nan   \n",
       "3      nan                                   2367b4cac96d8598   10.00     nan   \n",
       "4      nan                                   2367b4cac96d8598  100.00     nan   \n",
       "\n",
       "   forreccap  forregcap  congro  enttypegb  \n",
       "0        nan        nan     nan       1151  \n",
       "1        nan        nan     nan       9600  \n",
       "2        nan        nan     nan       1151  \n",
       "3        nan        nan     nan       4540  \n",
       "4        nan        nan     nan       1130  "
      ],
      "text/html": "<div>\n<style scoped>\n    .dataframe tbody tr th:only-of-type {\n        vertical-align: middle;\n    }\n\n    .dataframe tbody tr th {\n        vertical-align: top;\n    }\n\n    .dataframe thead th {\n        text-align: right;\n    }\n</style>\n<table border=\"1\" class=\"dataframe\">\n  <thead>\n    <tr style=\"text-align: right;\">\n      <th></th>\n      <th>id</th>\n      <th>oplocdistrict</th>\n      <th>industryphy</th>\n      <th>industryco</th>\n      <th>dom</th>\n      <th>opscope</th>\n      <th>enttype</th>\n      <th>enttypeitem</th>\n      <th>opfrom</th>\n      <th>opto</th>\n      <th>state</th>\n      <th>orgid</th>\n      <th>jobid</th>\n      <th>adbusign</th>\n      <th>townsign</th>\n      <th>regtype</th>\n      <th>empnum</th>\n      <th>compform</th>\n      <th>parnum</th>\n      <th>exenum</th>\n      <th>opform</th>\n      <th>ptbusscope</th>\n      <th>venind</th>\n      <th>enttypeminu</th>\n      <th>midpreindcode</th>\n      <th>protype</th>\n      <th>oploc</th>\n      <th>regcap</th>\n      <th>reccap</th>\n      <th>forreccap</th>\n      <th>forregcap</th>\n      <th>congro</th>\n      <th>enttypegb</th>\n    </tr>\n  </thead>\n  <tbody>\n    <tr>\n      <th>0</th>\n      <td>47645761dc56bb8c5fae00114b768b5d9b6e917c3aec07c4</td>\n      <td>340223</td>\n      <td>M</td>\n      <td>7513.00</td>\n      <td>31487d8f256f16bd6244b7251be2ebb24d1db51663c654...</td>\n      <td>纳米新材料、机械设备、五金配件加工、销售及技术推广服务，道路货物运输。（依法须经批准的项目，...</td>\n      <td>1100</td>\n      <td>1150.00</td>\n      <td>2019-07-11 00:00:00</td>\n      <td>NaN</td>\n      <td>6</td>\n      <td>340223010010000000</td>\n      <td>340200000000115392</td>\n      <td>0</td>\n      <td>0</td>\n      <td>1</td>\n      <td>5.00</td>\n      <td>nan</td>\n      <td>nan</td>\n      <td>nan</td>\n      <td>NaN</td>\n      <td>nan</td>\n      <td>nan</td>\n      <td>1151.00</td>\n      <td>nan</td>\n      <td>nan</td>\n      <td>2367b4cac96d8598</td>\n      <td>50.00</td>\n      <td>nan</td>\n      <td>nan</td>\n      <td>nan</td>\n      <td>nan</td>\n      <td>1151</td>\n    </tr>\n    <tr>\n      <th>1</th>\n      <td>9c7fa510616a683058ce97d0bc768a621cd85ab1e87da2a3</td>\n      <td>340222</td>\n      <td>O</td>\n      <td>8090.00</td>\n      <td>31487d8f256f16bd6244b7251be2ebb27b17bdfd95c8f3...</td>\n      <td>健身服务。（依法须经批准的项目，经相关部门批准后方可开展经营活动）</td>\n      <td>9600</td>\n      <td>nan</td>\n      <td>2017-09-06</td>\n      <td>NaN</td>\n      <td>6</td>\n      <td>340222060010000000</td>\n      <td>340200000000112114</td>\n      <td>0</td>\n      <td>1</td>\n      <td>1</td>\n      <td>3.00</td>\n      <td>1.00</td>\n      <td>nan</td>\n      <td>nan</td>\n      <td>10</td>\n      <td>nan</td>\n      <td>3.00</td>\n      <td>nan</td>\n      <td>nan</td>\n      <td>nan</td>\n      <td>31487d8f256f16bd6244b7251be2ebb27b17bdfd95c8f3...</td>\n      <td>10.00</td>\n      <td>nan</td>\n      <td>nan</td>\n      <td>nan</td>\n      <td>nan</td>\n      <td>9600</td>\n    </tr>\n    <tr>\n      <th>2</th>\n      <td>59b38c56de3836838082cfcb1a298951abfe15e6940c49ba</td>\n      <td>340202</td>\n      <td>R</td>\n      <td>9053.00</td>\n      <td>31487d8f256f16bd6244b7251be2ebb2ae36cd652943e8...</td>\n      <td>文化娱乐经纪人服务；境内文艺活动组织与策划；文化艺术交流活动组织策划；演出经纪；其他文化艺术...</td>\n      <td>1100</td>\n      <td>1150.00</td>\n      <td>2020-09-14 14:46:30</td>\n      <td>NaN</td>\n      <td>6</td>\n      <td>340202010010000000</td>\n      <td>400000000000753910</td>\n      <td>0</td>\n      <td>0</td>\n      <td>1</td>\n      <td>2.00</td>\n      <td>nan</td>\n      <td>1.00</td>\n      <td>nan</td>\n      <td>NaN</td>\n      <td>nan</td>\n      <td>nan</td>\n      <td>1151.00</td>\n      <td>nan</td>\n      <td>nan</td>\n      <td>2367b4cac96d8598</td>\n      <td>100.00</td>\n      <td>nan</td>\n      <td>nan</td>\n      <td>nan</td>\n      <td>nan</td>\n      <td>1151</td>\n    </tr>\n    <tr>\n      <th>3</th>\n      <td>e9f7b28ec10e047000d16ab79e1b5e6da434a1697cce7818</td>\n      <td>340221</td>\n      <td>L</td>\n      <td>7212.00</td>\n      <td>746df9aaed8578571760c563abe882c8ba25209fc6d5db...</td>\n      <td>投资管理及咨询(证券、期货除外)；企业管理。（依法须经批准的项目，经相关部门批准后方可开展经...</td>\n      <td>4500</td>\n      <td>4540.00</td>\n      <td>2015-09-30</td>\n      <td>NaN</td>\n      <td>6</td>\n      <td>340221010010000000</td>\n      <td>400000000000013538</td>\n      <td>0</td>\n      <td>1</td>\n      <td>1</td>\n      <td>2.00</td>\n      <td>nan</td>\n      <td>nan</td>\n      <td>nan</td>\n      <td>01-以个人财产出资</td>\n      <td>nan</td>\n      <td>nan</td>\n      <td>nan</td>\n      <td>nan</td>\n      <td>nan</td>\n      <td>2367b4cac96d8598</td>\n      <td>10.00</td>\n      <td>nan</td>\n      <td>nan</td>\n      <td>nan</td>\n      <td>nan</td>\n      <td>4540</td>\n    </tr>\n    <tr>\n      <th>4</th>\n      <td>f000950527a6feb63ee1ce82bb22ddd1ab8b8fdffa3b91fb</td>\n      <td>340202</td>\n      <td>R</td>\n      <td>8810.00</td>\n      <td>31487d8f256f16bd6244b7251be2ebb2ae36cd652943e8...</td>\n      <td>境内文化艺术交流活动策划；企业形象策划；礼仪庆典服务；翻译服务；专利代理；广告设计、制作、代...</td>\n      <td>1100</td>\n      <td>1130.00</td>\n      <td>2017-12-01</td>\n      <td>2067-11-30</td>\n      <td>7</td>\n      <td>340200000000000000</td>\n      <td>400000000000283237</td>\n      <td>0</td>\n      <td>0</td>\n      <td>1</td>\n      <td>nan</td>\n      <td>nan</td>\n      <td>nan</td>\n      <td>nan</td>\n      <td>NaN</td>\n      <td>nan</td>\n      <td>nan</td>\n      <td>nan</td>\n      <td>nan</td>\n      <td>nan</td>\n      <td>2367b4cac96d8598</td>\n      <td>100.00</td>\n      <td>nan</td>\n      <td>nan</td>\n      <td>nan</td>\n      <td>nan</td>\n      <td>1130</td>\n    </tr>\n  </tbody>\n</table>\n</div>"
     },
     "metadata": {},
     "execution_count": 23
    }
   ],
   "source": [
    "# 数据集1：base_info.csv\n",
    "# 包含数据集7和8中涉及到的所有企业的基本信息，每一行代表一个企业的基本数据，每一行有33列，其中id列为企业唯一标识，列之间采用“,”分隔符分割。\n",
    "# 数据格式如下：\n",
    "# [id:企业唯一标识, oplocdistrict:行政区划代码, industryphy:行业类别代码, industryco:行业细类代码, dom:经营地址, opscope:经营范围, enttype:企业类型, enttypeitem:企业类型小类, opfrom:经营期限起, opto:经营期限止, state:状态, orgid:机构标识, jobid:职位标识, adbusign:是否广告经营, townsign:是否城镇, regtype:主题登记类型, empnum:从业人数, compform:组织形式, parnum:合伙人数, exenum:执行人数, opform:经营方式, ptbusscope:兼营范围, venind:风险行业, enttypeminu:企业类型细类, midpreindcode:中西部优势产业代码, protype:项目类型, oploc:经营场所, regcap:注册资本（金）, reccap:实缴资本, forreccap:实缴资本（外方）, forregcap:注册资本（外方）, congro:投资总额, enttypegb:企业（机构）类型]\n",
    "\n",
    "# 基础信息表\n",
    "\n",
    "base_info = pd.read_csv(t_base_info)\n",
    "\n",
    "print(base_info.shape)\n",
    "base_info.head()"
   ]
  },
  {
   "cell_type": "code",
   "execution_count": 24,
   "metadata": {
    "scrolled": false
   },
   "outputs": [
    {
     "output_type": "display_data",
     "data": {
      "text/plain": "HBox(children=(FloatProgress(value=0.0, max=33.0), HTML(value='')))",
      "application/vnd.jupyter.widget-view+json": {
       "version_major": 2,
       "version_minor": 0,
       "model_id": "1228ad636ec8482e884ae3a9d31a8131"
      }
     },
     "metadata": {}
    },
    {
     "output_type": "stream",
     "name": "stdout",
     "text": [
      "id 24865\noplocdistrict 16\nindustryphy 20\nindustryco 346\ndom 23278\nopscope 20815\nenttype 17\nenttypeitem 32\nopfrom 6620\nopto 5747\nstate 6\norgid 78\njobid 434\nadbusign 2\ntownsign 2\nregtype 3\nempnum 63\ncompform 3\nparnum 52\nexenum 51\nopform 34\nptbusscope 1\nvenind 4\nenttypeminu 27\nmidpreindcode 1\nprotype 3\noploc 5351\nregcap 1144\nreccap 598\nforreccap 12\nforregcap 39\ncongro 34\nenttypegb 53\n\n"
     ]
    }
   ],
   "source": [
    "for col in tqdm(base_info.columns):\n",
    "    print(col, base_info[col].nunique(dropna=False))"
   ]
  },
  {
   "cell_type": "code",
   "execution_count": 25,
   "metadata": {},
   "outputs": [
    {
     "output_type": "execute_result",
     "data": {
      "text/plain": [
       "1797"
      ]
     },
     "metadata": {},
     "execution_count": 25
    }
   ],
   "source": [
    "# 去掉只有一种类别的 columns\n",
    "\n",
    "del base_info['ptbusscope']\n",
    "del base_info['midpreindcode']\n",
    "\n",
    "gc.collect()"
   ]
  },
  {
   "cell_type": "code",
   "execution_count": 26,
   "metadata": {},
   "outputs": [
    {
     "output_type": "execute_result",
     "data": {
      "text/plain": [
       "20"
      ]
     },
     "metadata": {},
     "execution_count": 26
    }
   ],
   "source": [
    "# 去掉类别太多的 columns\n",
    "\n",
    "del base_info['dom']\n",
    "del base_info['opscope']  # 后面可以分词后用 svd 抽取特征, 但感觉效果不大\n",
    "\n",
    "gc.collect()"
   ]
  },
  {
   "cell_type": "code",
   "execution_count": 9,
   "metadata": {},
   "outputs": [
    {
     "data": {
      "text/html": [
       "<div>\n",
       "<style scoped>\n",
       "    .dataframe tbody tr th:only-of-type {\n",
       "        vertical-align: middle;\n",
       "    }\n",
       "\n",
       "    .dataframe tbody tr th {\n",
       "        vertical-align: top;\n",
       "    }\n",
       "\n",
       "    .dataframe thead th {\n",
       "        text-align: right;\n",
       "    }\n",
       "</style>\n",
       "<table border=\"1\" class=\"dataframe\">\n",
       "  <thead>\n",
       "    <tr style=\"text-align: right;\">\n",
       "      <th></th>\n",
       "      <th>id</th>\n",
       "      <th>oplocdistrict</th>\n",
       "      <th>industryphy</th>\n",
       "      <th>industryco</th>\n",
       "      <th>enttype</th>\n",
       "      <th>enttypeitem</th>\n",
       "      <th>opfrom</th>\n",
       "      <th>opto</th>\n",
       "      <th>state</th>\n",
       "      <th>orgid</th>\n",
       "      <th>jobid</th>\n",
       "      <th>adbusign</th>\n",
       "      <th>townsign</th>\n",
       "      <th>regtype</th>\n",
       "      <th>empnum</th>\n",
       "      <th>compform</th>\n",
       "      <th>parnum</th>\n",
       "      <th>exenum</th>\n",
       "      <th>opform</th>\n",
       "      <th>venind</th>\n",
       "      <th>enttypeminu</th>\n",
       "      <th>protype</th>\n",
       "      <th>oploc</th>\n",
       "      <th>regcap</th>\n",
       "      <th>reccap</th>\n",
       "      <th>forreccap</th>\n",
       "      <th>forregcap</th>\n",
       "      <th>congro</th>\n",
       "      <th>enttypegb</th>\n",
       "    </tr>\n",
       "  </thead>\n",
       "  <tbody>\n",
       "    <tr>\n",
       "      <td>0</td>\n",
       "      <td>47645761dc56bb8c5fae00114b768b5d9b6e917c3aec07c4</td>\n",
       "      <td>340223</td>\n",
       "      <td>M</td>\n",
       "      <td>7513.00</td>\n",
       "      <td>1100</td>\n",
       "      <td>1150.00</td>\n",
       "      <td>2019-07-11 00:00:00</td>\n",
       "      <td>NaN</td>\n",
       "      <td>6</td>\n",
       "      <td>340223010010000000</td>\n",
       "      <td>340200000000115392</td>\n",
       "      <td>0</td>\n",
       "      <td>0</td>\n",
       "      <td>1</td>\n",
       "      <td>5.00</td>\n",
       "      <td>nan</td>\n",
       "      <td>nan</td>\n",
       "      <td>nan</td>\n",
       "      <td>NaN</td>\n",
       "      <td>nan</td>\n",
       "      <td>1151.00</td>\n",
       "      <td>nan</td>\n",
       "      <td>2367b4cac96d8598</td>\n",
       "      <td>50.00</td>\n",
       "      <td>nan</td>\n",
       "      <td>nan</td>\n",
       "      <td>nan</td>\n",
       "      <td>nan</td>\n",
       "      <td>1151</td>\n",
       "    </tr>\n",
       "    <tr>\n",
       "      <td>1</td>\n",
       "      <td>9c7fa510616a683058ce97d0bc768a621cd85ab1e87da2a3</td>\n",
       "      <td>340222</td>\n",
       "      <td>O</td>\n",
       "      <td>8090.00</td>\n",
       "      <td>9600</td>\n",
       "      <td>nan</td>\n",
       "      <td>2017-09-06</td>\n",
       "      <td>NaN</td>\n",
       "      <td>6</td>\n",
       "      <td>340222060010000000</td>\n",
       "      <td>340200000000112114</td>\n",
       "      <td>0</td>\n",
       "      <td>1</td>\n",
       "      <td>1</td>\n",
       "      <td>3.00</td>\n",
       "      <td>1.00</td>\n",
       "      <td>nan</td>\n",
       "      <td>nan</td>\n",
       "      <td>10</td>\n",
       "      <td>3.00</td>\n",
       "      <td>nan</td>\n",
       "      <td>nan</td>\n",
       "      <td>31487d8f256f16bd6244b7251be2ebb27b17bdfd95c8f3...</td>\n",
       "      <td>10.00</td>\n",
       "      <td>nan</td>\n",
       "      <td>nan</td>\n",
       "      <td>nan</td>\n",
       "      <td>nan</td>\n",
       "      <td>9600</td>\n",
       "    </tr>\n",
       "    <tr>\n",
       "      <td>2</td>\n",
       "      <td>59b38c56de3836838082cfcb1a298951abfe15e6940c49ba</td>\n",
       "      <td>340202</td>\n",
       "      <td>R</td>\n",
       "      <td>9053.00</td>\n",
       "      <td>1100</td>\n",
       "      <td>1150.00</td>\n",
       "      <td>2020-09-14 14:46:30</td>\n",
       "      <td>NaN</td>\n",
       "      <td>6</td>\n",
       "      <td>340202010010000000</td>\n",
       "      <td>400000000000753910</td>\n",
       "      <td>0</td>\n",
       "      <td>0</td>\n",
       "      <td>1</td>\n",
       "      <td>2.00</td>\n",
       "      <td>nan</td>\n",
       "      <td>1.00</td>\n",
       "      <td>nan</td>\n",
       "      <td>NaN</td>\n",
       "      <td>nan</td>\n",
       "      <td>1151.00</td>\n",
       "      <td>nan</td>\n",
       "      <td>2367b4cac96d8598</td>\n",
       "      <td>100.00</td>\n",
       "      <td>nan</td>\n",
       "      <td>nan</td>\n",
       "      <td>nan</td>\n",
       "      <td>nan</td>\n",
       "      <td>1151</td>\n",
       "    </tr>\n",
       "    <tr>\n",
       "      <td>3</td>\n",
       "      <td>e9f7b28ec10e047000d16ab79e1b5e6da434a1697cce7818</td>\n",
       "      <td>340221</td>\n",
       "      <td>L</td>\n",
       "      <td>7212.00</td>\n",
       "      <td>4500</td>\n",
       "      <td>4540.00</td>\n",
       "      <td>2015-09-30</td>\n",
       "      <td>NaN</td>\n",
       "      <td>6</td>\n",
       "      <td>340221010010000000</td>\n",
       "      <td>400000000000013538</td>\n",
       "      <td>0</td>\n",
       "      <td>1</td>\n",
       "      <td>1</td>\n",
       "      <td>2.00</td>\n",
       "      <td>nan</td>\n",
       "      <td>nan</td>\n",
       "      <td>nan</td>\n",
       "      <td>01-以个人财产出资</td>\n",
       "      <td>nan</td>\n",
       "      <td>nan</td>\n",
       "      <td>nan</td>\n",
       "      <td>2367b4cac96d8598</td>\n",
       "      <td>10.00</td>\n",
       "      <td>nan</td>\n",
       "      <td>nan</td>\n",
       "      <td>nan</td>\n",
       "      <td>nan</td>\n",
       "      <td>4540</td>\n",
       "    </tr>\n",
       "    <tr>\n",
       "      <td>4</td>\n",
       "      <td>f000950527a6feb63ee1ce82bb22ddd1ab8b8fdffa3b91fb</td>\n",
       "      <td>340202</td>\n",
       "      <td>R</td>\n",
       "      <td>8810.00</td>\n",
       "      <td>1100</td>\n",
       "      <td>1130.00</td>\n",
       "      <td>2017-12-01</td>\n",
       "      <td>2067-11-30</td>\n",
       "      <td>7</td>\n",
       "      <td>340200000000000000</td>\n",
       "      <td>400000000000283237</td>\n",
       "      <td>0</td>\n",
       "      <td>0</td>\n",
       "      <td>1</td>\n",
       "      <td>nan</td>\n",
       "      <td>nan</td>\n",
       "      <td>nan</td>\n",
       "      <td>nan</td>\n",
       "      <td>NaN</td>\n",
       "      <td>nan</td>\n",
       "      <td>nan</td>\n",
       "      <td>nan</td>\n",
       "      <td>2367b4cac96d8598</td>\n",
       "      <td>100.00</td>\n",
       "      <td>nan</td>\n",
       "      <td>nan</td>\n",
       "      <td>nan</td>\n",
       "      <td>nan</td>\n",
       "      <td>1130</td>\n",
       "    </tr>\n",
       "  </tbody>\n",
       "</table>\n",
       "</div>"
      ],
      "text/plain": [
       "                                                 id  oplocdistrict  \\\n",
       "0  47645761dc56bb8c5fae00114b768b5d9b6e917c3aec07c4         340223   \n",
       "1  9c7fa510616a683058ce97d0bc768a621cd85ab1e87da2a3         340222   \n",
       "2  59b38c56de3836838082cfcb1a298951abfe15e6940c49ba         340202   \n",
       "3  e9f7b28ec10e047000d16ab79e1b5e6da434a1697cce7818         340221   \n",
       "4  f000950527a6feb63ee1ce82bb22ddd1ab8b8fdffa3b91fb         340202   \n",
       "\n",
       "  industryphy  industryco  enttype  enttypeitem               opfrom  \\\n",
       "0           M     7513.00     1100      1150.00  2019-07-11 00:00:00   \n",
       "1           O     8090.00     9600          nan           2017-09-06   \n",
       "2           R     9053.00     1100      1150.00  2020-09-14 14:46:30   \n",
       "3           L     7212.00     4500      4540.00           2015-09-30   \n",
       "4           R     8810.00     1100      1130.00           2017-12-01   \n",
       "\n",
       "         opto  state               orgid               jobid  adbusign  \\\n",
       "0         NaN      6  340223010010000000  340200000000115392         0   \n",
       "1         NaN      6  340222060010000000  340200000000112114         0   \n",
       "2         NaN      6  340202010010000000  400000000000753910         0   \n",
       "3         NaN      6  340221010010000000  400000000000013538         0   \n",
       "4  2067-11-30      7  340200000000000000  400000000000283237         0   \n",
       "\n",
       "   townsign  regtype  empnum  compform  parnum  exenum      opform  venind  \\\n",
       "0         0        1    5.00       nan     nan     nan         NaN     nan   \n",
       "1         1        1    3.00      1.00     nan     nan          10    3.00   \n",
       "2         0        1    2.00       nan    1.00     nan         NaN     nan   \n",
       "3         1        1    2.00       nan     nan     nan  01-以个人财产出资     nan   \n",
       "4         0        1     nan       nan     nan     nan         NaN     nan   \n",
       "\n",
       "   enttypeminu  protype                                              oploc  \\\n",
       "0      1151.00      nan                                   2367b4cac96d8598   \n",
       "1          nan      nan  31487d8f256f16bd6244b7251be2ebb27b17bdfd95c8f3...   \n",
       "2      1151.00      nan                                   2367b4cac96d8598   \n",
       "3          nan      nan                                   2367b4cac96d8598   \n",
       "4          nan      nan                                   2367b4cac96d8598   \n",
       "\n",
       "   regcap  reccap  forreccap  forregcap  congro  enttypegb  \n",
       "0   50.00     nan        nan        nan     nan       1151  \n",
       "1   10.00     nan        nan        nan     nan       9600  \n",
       "2  100.00     nan        nan        nan     nan       1151  \n",
       "3   10.00     nan        nan        nan     nan       4540  \n",
       "4  100.00     nan        nan        nan     nan       1130  "
      ]
     },
     "execution_count": 9,
     "metadata": {},
     "output_type": "execute_result"
    }
   ],
   "source": [
    "base_info.head()"
   ]
  },
  {
   "cell_type": "code",
   "execution_count": 44,
   "metadata": {},
   "outputs": [
    {
     "output_type": "error",
     "ename": "NameError",
     "evalue": "name 'base_info' is not defined",
     "traceback": [
      "\u001b[1;31m---------------------------------------------------------------------------\u001b[0m",
      "\u001b[1;31mNameError\u001b[0m                                 Traceback (most recent call last)",
      "\u001b[1;32m<ipython-input-44-c53c2d75fef4>\u001b[0m in \u001b[0;36m<module>\u001b[1;34m\u001b[0m\n\u001b[0;32m      1\u001b[0m \u001b[1;31m# 时间转换, 暂时先抽取年份特征\u001b[0m\u001b[1;33m\u001b[0m\u001b[1;33m\u001b[0m\u001b[1;33m\u001b[0m\u001b[0m\n\u001b[0;32m      2\u001b[0m \u001b[1;33m\u001b[0m\u001b[0m\n\u001b[1;32m----> 3\u001b[1;33m \u001b[0mbase_info\u001b[0m\u001b[1;33m[\u001b[0m\u001b[1;34m'opfrom'\u001b[0m\u001b[1;33m]\u001b[0m \u001b[1;33m=\u001b[0m \u001b[0mpd\u001b[0m\u001b[1;33m.\u001b[0m\u001b[0mto_datetime\u001b[0m\u001b[1;33m(\u001b[0m\u001b[0mbase_info\u001b[0m\u001b[1;33m.\u001b[0m\u001b[0mopfrom\u001b[0m\u001b[1;33m)\u001b[0m\u001b[1;33m\u001b[0m\u001b[1;33m\u001b[0m\u001b[0m\n\u001b[0m\u001b[0;32m      4\u001b[0m \u001b[0mbase_info\u001b[0m\u001b[1;33m[\u001b[0m\u001b[1;34m'opfrom_year'\u001b[0m\u001b[1;33m]\u001b[0m \u001b[1;33m=\u001b[0m \u001b[0mbase_info\u001b[0m\u001b[1;33m[\u001b[0m\u001b[1;34m'opfrom'\u001b[0m\u001b[1;33m]\u001b[0m\u001b[1;33m.\u001b[0m\u001b[0mdt\u001b[0m\u001b[1;33m.\u001b[0m\u001b[0myear\u001b[0m\u001b[1;33m.\u001b[0m\u001b[0mastype\u001b[0m\u001b[1;33m(\u001b[0m\u001b[1;34m'int'\u001b[0m\u001b[1;33m)\u001b[0m\u001b[1;33m\u001b[0m\u001b[1;33m\u001b[0m\u001b[0m\n\u001b[0;32m      5\u001b[0m \u001b[0mprint\u001b[0m\u001b[1;33m(\u001b[0m\u001b[0mbase_info\u001b[0m\u001b[1;33m[\u001b[0m\u001b[1;34m'opfrom_year'\u001b[0m\u001b[1;33m]\u001b[0m\u001b[1;33m)\u001b[0m\u001b[1;33m\u001b[0m\u001b[1;33m\u001b[0m\u001b[0m\n",
      "\u001b[1;31mNameError\u001b[0m: name 'base_info' is not defined"
     ]
    }
   ],
   "source": [
    "# 时间转换, 暂时先抽取年份特征\n",
    "\n",
    "base_info['opfrom'] = pd.to_datetime(base_info.opfrom)\n",
    "base_info['opfrom_year'] = base_info['opfrom'].dt.year.astype('int')\n",
    "base_info['opto'] = pd.to_datetime(base_info.opto)\n",
    "base_info['opto_year'] = base_info['opto'].dt.year.fillna(-1).astype('int')\n",
    "\n",
    "del base_info['opfrom']\n",
    "del base_info['opto']\n",
    "gc.collect()"
   ]
  },
  {
   "cell_type": "code",
   "execution_count": 29,
   "metadata": {},
   "outputs": [
    {
     "output_type": "execute_result",
     "data": {
      "text/plain": [
       "                                                 id  oplocdistrict  \\\n",
       "0  47645761dc56bb8c5fae00114b768b5d9b6e917c3aec07c4         340223   \n",
       "1  9c7fa510616a683058ce97d0bc768a621cd85ab1e87da2a3         340222   \n",
       "2  59b38c56de3836838082cfcb1a298951abfe15e6940c49ba         340202   \n",
       "3  e9f7b28ec10e047000d16ab79e1b5e6da434a1697cce7818         340221   \n",
       "4  f000950527a6feb63ee1ce82bb22ddd1ab8b8fdffa3b91fb         340202   \n",
       "\n",
       "  industryphy  industryco  enttype  enttypeitem  state               orgid  \\\n",
       "0           M     7513.00     1100      1150.00      6  340223010010000000   \n",
       "1           O     8090.00     9600          nan      6  340222060010000000   \n",
       "2           R     9053.00     1100      1150.00      6  340202010010000000   \n",
       "3           L     7212.00     4500      4540.00      6  340221010010000000   \n",
       "4           R     8810.00     1100      1130.00      7  340200000000000000   \n",
       "\n",
       "                jobid  adbusign  townsign  regtype  empnum  compform  parnum  \\\n",
       "0  340200000000115392         0         0        1    5.00       nan     nan   \n",
       "1  340200000000112114         0         1        1    3.00      1.00     nan   \n",
       "2  400000000000753910         0         0        1    2.00       nan    1.00   \n",
       "3  400000000000013538         0         1        1    2.00       nan     nan   \n",
       "4  400000000000283237         0         0        1     nan       nan     nan   \n",
       "\n",
       "   exenum      opform  venind  enttypeminu  protype  \\\n",
       "0     nan         NaN     nan      1151.00      nan   \n",
       "1     nan          10    3.00          nan      nan   \n",
       "2     nan         NaN     nan      1151.00      nan   \n",
       "3     nan  01-以个人财产出资     nan          nan      nan   \n",
       "4     nan         NaN     nan          nan      nan   \n",
       "\n",
       "                                               oploc  regcap  reccap  \\\n",
       "0                                   2367b4cac96d8598   50.00     nan   \n",
       "1  31487d8f256f16bd6244b7251be2ebb27b17bdfd95c8f3...   10.00     nan   \n",
       "2                                   2367b4cac96d8598  100.00     nan   \n",
       "3                                   2367b4cac96d8598   10.00     nan   \n",
       "4                                   2367b4cac96d8598  100.00     nan   \n",
       "\n",
       "   forreccap  forregcap  congro  enttypegb  opfrom_year  opto_year  \n",
       "0        nan        nan     nan       1151         2019         -1  \n",
       "1        nan        nan     nan       9600         2017         -1  \n",
       "2        nan        nan     nan       1151         2020         -1  \n",
       "3        nan        nan     nan       4540         2015         -1  \n",
       "4        nan        nan     nan       1130         2017       2067  "
      ],
      "text/html": "<div>\n<style scoped>\n    .dataframe tbody tr th:only-of-type {\n        vertical-align: middle;\n    }\n\n    .dataframe tbody tr th {\n        vertical-align: top;\n    }\n\n    .dataframe thead th {\n        text-align: right;\n    }\n</style>\n<table border=\"1\" class=\"dataframe\">\n  <thead>\n    <tr style=\"text-align: right;\">\n      <th></th>\n      <th>id</th>\n      <th>oplocdistrict</th>\n      <th>industryphy</th>\n      <th>industryco</th>\n      <th>enttype</th>\n      <th>enttypeitem</th>\n      <th>state</th>\n      <th>orgid</th>\n      <th>jobid</th>\n      <th>adbusign</th>\n      <th>townsign</th>\n      <th>regtype</th>\n      <th>empnum</th>\n      <th>compform</th>\n      <th>parnum</th>\n      <th>exenum</th>\n      <th>opform</th>\n      <th>venind</th>\n      <th>enttypeminu</th>\n      <th>protype</th>\n      <th>oploc</th>\n      <th>regcap</th>\n      <th>reccap</th>\n      <th>forreccap</th>\n      <th>forregcap</th>\n      <th>congro</th>\n      <th>enttypegb</th>\n      <th>opfrom_year</th>\n      <th>opto_year</th>\n    </tr>\n  </thead>\n  <tbody>\n    <tr>\n      <th>0</th>\n      <td>47645761dc56bb8c5fae00114b768b5d9b6e917c3aec07c4</td>\n      <td>340223</td>\n      <td>M</td>\n      <td>7513.00</td>\n      <td>1100</td>\n      <td>1150.00</td>\n      <td>6</td>\n      <td>340223010010000000</td>\n      <td>340200000000115392</td>\n      <td>0</td>\n      <td>0</td>\n      <td>1</td>\n      <td>5.00</td>\n      <td>nan</td>\n      <td>nan</td>\n      <td>nan</td>\n      <td>NaN</td>\n      <td>nan</td>\n      <td>1151.00</td>\n      <td>nan</td>\n      <td>2367b4cac96d8598</td>\n      <td>50.00</td>\n      <td>nan</td>\n      <td>nan</td>\n      <td>nan</td>\n      <td>nan</td>\n      <td>1151</td>\n      <td>2019</td>\n      <td>-1</td>\n    </tr>\n    <tr>\n      <th>1</th>\n      <td>9c7fa510616a683058ce97d0bc768a621cd85ab1e87da2a3</td>\n      <td>340222</td>\n      <td>O</td>\n      <td>8090.00</td>\n      <td>9600</td>\n      <td>nan</td>\n      <td>6</td>\n      <td>340222060010000000</td>\n      <td>340200000000112114</td>\n      <td>0</td>\n      <td>1</td>\n      <td>1</td>\n      <td>3.00</td>\n      <td>1.00</td>\n      <td>nan</td>\n      <td>nan</td>\n      <td>10</td>\n      <td>3.00</td>\n      <td>nan</td>\n      <td>nan</td>\n      <td>31487d8f256f16bd6244b7251be2ebb27b17bdfd95c8f3...</td>\n      <td>10.00</td>\n      <td>nan</td>\n      <td>nan</td>\n      <td>nan</td>\n      <td>nan</td>\n      <td>9600</td>\n      <td>2017</td>\n      <td>-1</td>\n    </tr>\n    <tr>\n      <th>2</th>\n      <td>59b38c56de3836838082cfcb1a298951abfe15e6940c49ba</td>\n      <td>340202</td>\n      <td>R</td>\n      <td>9053.00</td>\n      <td>1100</td>\n      <td>1150.00</td>\n      <td>6</td>\n      <td>340202010010000000</td>\n      <td>400000000000753910</td>\n      <td>0</td>\n      <td>0</td>\n      <td>1</td>\n      <td>2.00</td>\n      <td>nan</td>\n      <td>1.00</td>\n      <td>nan</td>\n      <td>NaN</td>\n      <td>nan</td>\n      <td>1151.00</td>\n      <td>nan</td>\n      <td>2367b4cac96d8598</td>\n      <td>100.00</td>\n      <td>nan</td>\n      <td>nan</td>\n      <td>nan</td>\n      <td>nan</td>\n      <td>1151</td>\n      <td>2020</td>\n      <td>-1</td>\n    </tr>\n    <tr>\n      <th>3</th>\n      <td>e9f7b28ec10e047000d16ab79e1b5e6da434a1697cce7818</td>\n      <td>340221</td>\n      <td>L</td>\n      <td>7212.00</td>\n      <td>4500</td>\n      <td>4540.00</td>\n      <td>6</td>\n      <td>340221010010000000</td>\n      <td>400000000000013538</td>\n      <td>0</td>\n      <td>1</td>\n      <td>1</td>\n      <td>2.00</td>\n      <td>nan</td>\n      <td>nan</td>\n      <td>nan</td>\n      <td>01-以个人财产出资</td>\n      <td>nan</td>\n      <td>nan</td>\n      <td>nan</td>\n      <td>2367b4cac96d8598</td>\n      <td>10.00</td>\n      <td>nan</td>\n      <td>nan</td>\n      <td>nan</td>\n      <td>nan</td>\n      <td>4540</td>\n      <td>2015</td>\n      <td>-1</td>\n    </tr>\n    <tr>\n      <th>4</th>\n      <td>f000950527a6feb63ee1ce82bb22ddd1ab8b8fdffa3b91fb</td>\n      <td>340202</td>\n      <td>R</td>\n      <td>8810.00</td>\n      <td>1100</td>\n      <td>1130.00</td>\n      <td>7</td>\n      <td>340200000000000000</td>\n      <td>400000000000283237</td>\n      <td>0</td>\n      <td>0</td>\n      <td>1</td>\n      <td>nan</td>\n      <td>nan</td>\n      <td>nan</td>\n      <td>nan</td>\n      <td>NaN</td>\n      <td>nan</td>\n      <td>nan</td>\n      <td>nan</td>\n      <td>2367b4cac96d8598</td>\n      <td>100.00</td>\n      <td>nan</td>\n      <td>nan</td>\n      <td>nan</td>\n      <td>nan</td>\n      <td>1130</td>\n      <td>2017</td>\n      <td>2067</td>\n    </tr>\n  </tbody>\n</table>\n</div>"
     },
     "metadata": {},
     "execution_count": 29
    }
   ],
   "source": [
    "base_info.head()"
   ]
  },
  {
   "cell_type": "code",
   "execution_count": 12,
   "metadata": {},
   "outputs": [
    {
     "data": {
      "text/plain": [
       "id                object\n",
       "oplocdistrict      int64\n",
       "industryphy       object\n",
       "industryco       float64\n",
       "enttype            int64\n",
       "enttypeitem      float64\n",
       "state              int64\n",
       "orgid              int64\n",
       "jobid              int64\n",
       "adbusign           int64\n",
       "townsign           int64\n",
       "regtype            int64\n",
       "empnum           float64\n",
       "compform         float64\n",
       "parnum           float64\n",
       "exenum           float64\n",
       "opform            object\n",
       "venind           float64\n",
       "enttypeminu      float64\n",
       "protype          float64\n",
       "oploc             object\n",
       "regcap           float64\n",
       "reccap           float64\n",
       "forreccap        float64\n",
       "forregcap        float64\n",
       "congro           float64\n",
       "enttypegb          int64\n",
       "opfrom_year        int64\n",
       "opto_year          int64\n",
       "dtype: object"
      ]
     },
     "execution_count": 12,
     "metadata": {},
     "output_type": "execute_result"
    }
   ],
   "source": [
    "base_info.dtypes"
   ]
  },
  {
   "cell_type": "code",
   "execution_count": 30,
   "metadata": {},
   "outputs": [
    {
     "output_type": "display_data",
     "data": {
      "text/plain": "HBox(children=(FloatProgress(value=0.0, max=6.0), HTML(value='')))",
      "application/vnd.jupyter.widget-view+json": {
       "version_major": 2,
       "version_minor": 0,
       "model_id": "9d2d2ab5b3af455ba1b518d5407a42cd"
      }
     },
     "metadata": {}
    },
    {
     "output_type": "stream",
     "name": "stdout",
     "text": [
      "\n"
     ]
    }
   ],
   "source": [
    "# 类别清理\n",
    "\n",
    "for col in tqdm(['industryco', 'enttypeitem', 'compform', 'venind', \n",
    "                 'enttypeminu', 'protype']):\n",
    "    base_info[col] = base_info[col].fillna(-1).astype('int')"
   ]
  },
  {
   "cell_type": "code",
   "execution_count": 14,
   "metadata": {},
   "outputs": [
    {
     "data": {
      "text/html": [
       "<div>\n",
       "<style scoped>\n",
       "    .dataframe tbody tr th:only-of-type {\n",
       "        vertical-align: middle;\n",
       "    }\n",
       "\n",
       "    .dataframe tbody tr th {\n",
       "        vertical-align: top;\n",
       "    }\n",
       "\n",
       "    .dataframe thead th {\n",
       "        text-align: right;\n",
       "    }\n",
       "</style>\n",
       "<table border=\"1\" class=\"dataframe\">\n",
       "  <thead>\n",
       "    <tr style=\"text-align: right;\">\n",
       "      <th></th>\n",
       "      <th>count</th>\n",
       "      <th>mean</th>\n",
       "      <th>std</th>\n",
       "      <th>min</th>\n",
       "      <th>25%</th>\n",
       "      <th>50%</th>\n",
       "      <th>75%</th>\n",
       "      <th>max</th>\n",
       "    </tr>\n",
       "  </thead>\n",
       "  <tbody>\n",
       "    <tr>\n",
       "      <td>empnum</td>\n",
       "      <td>19615.00</td>\n",
       "      <td>4.40</td>\n",
       "      <td>15.39</td>\n",
       "      <td>0.00</td>\n",
       "      <td>2.00</td>\n",
       "      <td>3.00</td>\n",
       "      <td>5.00</td>\n",
       "      <td>1500.00</td>\n",
       "    </tr>\n",
       "    <tr>\n",
       "      <td>parnum</td>\n",
       "      <td>2339.00</td>\n",
       "      <td>4.59</td>\n",
       "      <td>8.75</td>\n",
       "      <td>0.00</td>\n",
       "      <td>2.00</td>\n",
       "      <td>2.00</td>\n",
       "      <td>3.00</td>\n",
       "      <td>100.00</td>\n",
       "    </tr>\n",
       "    <tr>\n",
       "      <td>exenum</td>\n",
       "      <td>1378.00</td>\n",
       "      <td>77.75</td>\n",
       "      <td>2693.74</td>\n",
       "      <td>0.00</td>\n",
       "      <td>1.00</td>\n",
       "      <td>1.00</td>\n",
       "      <td>3.00</td>\n",
       "      <td>100000.00</td>\n",
       "    </tr>\n",
       "    <tr>\n",
       "      <td>regcap</td>\n",
       "      <td>24674.00</td>\n",
       "      <td>5151.44</td>\n",
       "      <td>67770.86</td>\n",
       "      <td>0.00</td>\n",
       "      <td>15.00</td>\n",
       "      <td>80.00</td>\n",
       "      <td>500.00</td>\n",
       "      <td>5000100.00</td>\n",
       "    </tr>\n",
       "    <tr>\n",
       "      <td>reccap</td>\n",
       "      <td>7084.00</td>\n",
       "      <td>4198.17</td>\n",
       "      <td>36537.98</td>\n",
       "      <td>0.00</td>\n",
       "      <td>0.00</td>\n",
       "      <td>0.00</td>\n",
       "      <td>100.00</td>\n",
       "      <td>1278900.00</td>\n",
       "    </tr>\n",
       "    <tr>\n",
       "      <td>forreccap</td>\n",
       "      <td>227.00</td>\n",
       "      <td>292.64</td>\n",
       "      <td>1841.31</td>\n",
       "      <td>0.00</td>\n",
       "      <td>0.00</td>\n",
       "      <td>0.00</td>\n",
       "      <td>0.00</td>\n",
       "      <td>15428.17</td>\n",
       "    </tr>\n",
       "    <tr>\n",
       "      <td>forregcap</td>\n",
       "      <td>250.00</td>\n",
       "      <td>1212.58</td>\n",
       "      <td>8113.27</td>\n",
       "      <td>0.00</td>\n",
       "      <td>0.00</td>\n",
       "      <td>0.00</td>\n",
       "      <td>0.00</td>\n",
       "      <td>88817.92</td>\n",
       "    </tr>\n",
       "    <tr>\n",
       "      <td>congro</td>\n",
       "      <td>249.00</td>\n",
       "      <td>2805.26</td>\n",
       "      <td>18131.95</td>\n",
       "      <td>0.00</td>\n",
       "      <td>0.00</td>\n",
       "      <td>0.00</td>\n",
       "      <td>0.00</td>\n",
       "      <td>221453.76</td>\n",
       "    </tr>\n",
       "  </tbody>\n",
       "</table>\n",
       "</div>"
      ],
      "text/plain": [
       "             count    mean      std  min   25%   50%    75%        max\n",
       "empnum    19615.00    4.40    15.39 0.00  2.00  3.00   5.00    1500.00\n",
       "parnum     2339.00    4.59     8.75 0.00  2.00  2.00   3.00     100.00\n",
       "exenum     1378.00   77.75  2693.74 0.00  1.00  1.00   3.00  100000.00\n",
       "regcap    24674.00 5151.44 67770.86 0.00 15.00 80.00 500.00 5000100.00\n",
       "reccap     7084.00 4198.17 36537.98 0.00  0.00  0.00 100.00 1278900.00\n",
       "forreccap   227.00  292.64  1841.31 0.00  0.00  0.00   0.00   15428.17\n",
       "forregcap   250.00 1212.58  8113.27 0.00  0.00  0.00   0.00   88817.92\n",
       "congro      249.00 2805.26 18131.95 0.00  0.00  0.00   0.00  221453.76"
      ]
     },
     "execution_count": 14,
     "metadata": {},
     "output_type": "execute_result"
    }
   ],
   "source": [
    "# 数字类型\n",
    "\n",
    "base_info.select_dtypes(['float64']).describe().T"
   ]
  },
  {
   "cell_type": "code",
   "execution_count": 31,
   "metadata": {},
   "outputs": [
    {
     "output_type": "display_data",
     "data": {
      "text/plain": "HBox(children=(FloatProgress(value=0.0, max=8.0), HTML(value='')))",
      "application/vnd.jupyter.widget-view+json": {
       "version_major": 2,
       "version_minor": 0,
       "model_id": "71b3b39da64347ab84e175994466ed4f"
      }
     },
     "metadata": {}
    },
    {
     "output_type": "stream",
     "name": "stdout",
     "text": [
      "\n"
     ]
    }
   ],
   "source": [
    "# 数字类型缺失值太多, 且部分 columns std 较大, 先考虑用中值填充\n",
    "\n",
    "for col in tqdm(base_info.select_dtypes(['float64']).columns):\n",
    "    base_info[col] = base_info[col].fillna(base_info[col].median())"
   ]
  },
  {
   "cell_type": "code",
   "execution_count": 32,
   "metadata": {},
   "outputs": [
    {
     "output_type": "execute_result",
     "data": {
      "text/plain": [
       "                                                     id industryphy  \\\n",
       "0      47645761dc56bb8c5fae00114b768b5d9b6e917c3aec07c4           M   \n",
       "1      9c7fa510616a683058ce97d0bc768a621cd85ab1e87da2a3           O   \n",
       "2      59b38c56de3836838082cfcb1a298951abfe15e6940c49ba           R   \n",
       "3      e9f7b28ec10e047000d16ab79e1b5e6da434a1697cce7818           L   \n",
       "4      f000950527a6feb63ee1ce82bb22ddd1ab8b8fdffa3b91fb           R   \n",
       "...                                                 ...         ...   \n",
       "24860  f1c1045b13d18329a2bd99d2a7e2227688c0d69bf1d1e325           O   \n",
       "24861  f000950527a6feb6bde38216d7cbbf32e66d3a3a96d4dbda           J   \n",
       "24862  da8691b210adb3f65b43370d3a362f4aa1d3b16b5ba0c9d7           O   \n",
       "24863  516ab81418ed215dcbbf0614a7b929e691f8eed153d7bb31           O   \n",
       "24864  9c7fa510616a68303d3427d4bfd4b0cf3e4843f2bf3f637a           N   \n",
       "\n",
       "           opform                                              oploc  \n",
       "0             NaN                                   2367b4cac96d8598  \n",
       "1              10  31487d8f256f16bd6244b7251be2ebb27b17bdfd95c8f3...  \n",
       "2             NaN                                   2367b4cac96d8598  \n",
       "3      01-以个人财产出资                                   2367b4cac96d8598  \n",
       "4             NaN                                   2367b4cac96d8598  \n",
       "...           ...                                                ...  \n",
       "24860          10  f67c1b92f52ac52e424308ab51241cdef9be3e39c8e1c6...  \n",
       "24861         NaN                                   2367b4cac96d8598  \n",
       "24862          10                                   2367b4cac96d8598  \n",
       "24863         NaN                                   2367b4cac96d8598  \n",
       "24864          10  31487d8f256f16bd6244b7251be2ebb27b17bdfd95c8f3...  \n",
       "\n",
       "[24865 rows x 4 columns]"
      ],
      "text/html": "<div>\n<style scoped>\n    .dataframe tbody tr th:only-of-type {\n        vertical-align: middle;\n    }\n\n    .dataframe tbody tr th {\n        vertical-align: top;\n    }\n\n    .dataframe thead th {\n        text-align: right;\n    }\n</style>\n<table border=\"1\" class=\"dataframe\">\n  <thead>\n    <tr style=\"text-align: right;\">\n      <th></th>\n      <th>id</th>\n      <th>industryphy</th>\n      <th>opform</th>\n      <th>oploc</th>\n    </tr>\n  </thead>\n  <tbody>\n    <tr>\n      <th>0</th>\n      <td>47645761dc56bb8c5fae00114b768b5d9b6e917c3aec07c4</td>\n      <td>M</td>\n      <td>NaN</td>\n      <td>2367b4cac96d8598</td>\n    </tr>\n    <tr>\n      <th>1</th>\n      <td>9c7fa510616a683058ce97d0bc768a621cd85ab1e87da2a3</td>\n      <td>O</td>\n      <td>10</td>\n      <td>31487d8f256f16bd6244b7251be2ebb27b17bdfd95c8f3...</td>\n    </tr>\n    <tr>\n      <th>2</th>\n      <td>59b38c56de3836838082cfcb1a298951abfe15e6940c49ba</td>\n      <td>R</td>\n      <td>NaN</td>\n      <td>2367b4cac96d8598</td>\n    </tr>\n    <tr>\n      <th>3</th>\n      <td>e9f7b28ec10e047000d16ab79e1b5e6da434a1697cce7818</td>\n      <td>L</td>\n      <td>01-以个人财产出资</td>\n      <td>2367b4cac96d8598</td>\n    </tr>\n    <tr>\n      <th>4</th>\n      <td>f000950527a6feb63ee1ce82bb22ddd1ab8b8fdffa3b91fb</td>\n      <td>R</td>\n      <td>NaN</td>\n      <td>2367b4cac96d8598</td>\n    </tr>\n    <tr>\n      <th>...</th>\n      <td>...</td>\n      <td>...</td>\n      <td>...</td>\n      <td>...</td>\n    </tr>\n    <tr>\n      <th>24860</th>\n      <td>f1c1045b13d18329a2bd99d2a7e2227688c0d69bf1d1e325</td>\n      <td>O</td>\n      <td>10</td>\n      <td>f67c1b92f52ac52e424308ab51241cdef9be3e39c8e1c6...</td>\n    </tr>\n    <tr>\n      <th>24861</th>\n      <td>f000950527a6feb6bde38216d7cbbf32e66d3a3a96d4dbda</td>\n      <td>J</td>\n      <td>NaN</td>\n      <td>2367b4cac96d8598</td>\n    </tr>\n    <tr>\n      <th>24862</th>\n      <td>da8691b210adb3f65b43370d3a362f4aa1d3b16b5ba0c9d7</td>\n      <td>O</td>\n      <td>10</td>\n      <td>2367b4cac96d8598</td>\n    </tr>\n    <tr>\n      <th>24863</th>\n      <td>516ab81418ed215dcbbf0614a7b929e691f8eed153d7bb31</td>\n      <td>O</td>\n      <td>NaN</td>\n      <td>2367b4cac96d8598</td>\n    </tr>\n    <tr>\n      <th>24864</th>\n      <td>9c7fa510616a68303d3427d4bfd4b0cf3e4843f2bf3f637a</td>\n      <td>N</td>\n      <td>10</td>\n      <td>31487d8f256f16bd6244b7251be2ebb27b17bdfd95c8f3...</td>\n    </tr>\n  </tbody>\n</table>\n<p>24865 rows × 4 columns</p>\n</div>"
     },
     "metadata": {},
     "execution_count": 32
    }
   ],
   "source": [
    "# object 类型\n",
    "\n",
    "base_info.select_dtypes(['object'])"
   ]
  },
  {
   "cell_type": "code",
   "execution_count": 33,
   "metadata": {},
   "outputs": [],
   "source": [
    "# 数据清理\n",
    "base_info['opform'] = base_info['opform'].replace('01', '01-以个人财产出资').replace('02', '02-以家庭共有财产作为个人出资')"
   ]
  },
  {
   "cell_type": "code",
   "execution_count": 35,
   "metadata": {
    "tags": []
   },
   "outputs": [
    {
     "output_type": "display_data",
     "data": {
      "text/plain": "HBox(children=(FloatProgress(value=0.0, max=10.0), HTML(value='')))",
      "application/vnd.jupyter.widget-view+json": {
       "version_major": 2,
       "version_minor": 0,
       "model_id": "e7a5e110121846b791523681ec3bd443"
      }
     },
     "metadata": {}
    },
    {
     "output_type": "stream",
     "name": "stdout",
     "text": [
      "0         4\n",
      "1         6\n",
      "2         9\n",
      "3         3\n",
      "4         9\n",
      "         ..\n",
      "24860     6\n",
      "24861    19\n",
      "24862     6\n",
      "24863     6\n",
      "24864     5\n",
      "Name: industryphy, Length: 24865, dtype: int32\n",
      "0        26\n",
      "1        23\n",
      "2        26\n",
      "3         1\n",
      "4        26\n",
      "         ..\n",
      "24860    23\n",
      "24861    26\n",
      "24862    23\n",
      "24863    26\n",
      "24864    23\n",
      "Name: opform, Length: 24865, dtype: int32\n",
      "0          91\n",
      "1        1100\n",
      "2          91\n",
      "3          91\n",
      "4          91\n",
      "         ... \n",
      "24860    4362\n",
      "24861      91\n",
      "24862      91\n",
      "24863      91\n",
      "24864     964\n",
      "Name: oploc, Length: 24865, dtype: int32\n",
      "0        59\n",
      "1        54\n",
      "2        26\n",
      "3        46\n",
      "4         1\n",
      "         ..\n",
      "24860    14\n",
      "24861     1\n",
      "24862    41\n",
      "24863    10\n",
      "24864    55\n",
      "Name: orgid, Length: 24865, dtype: int32\n",
      "0         16\n",
      "1        392\n",
      "2        360\n",
      "3        248\n",
      "4        275\n",
      "        ... \n",
      "24860    185\n",
      "24861     19\n",
      "24862     15\n",
      "24863    225\n",
      "24864    131\n",
      "Name: jobid, Length: 24865, dtype: int32\n",
      "0         2\n",
      "1        15\n",
      "2         9\n",
      "3        14\n",
      "4         9\n",
      "         ..\n",
      "24860     4\n",
      "24861    12\n",
      "24862    12\n",
      "24863     4\n",
      "24864    15\n",
      "Name: oplocdistrict, Length: 24865, dtype: int32\n",
      "0        49\n",
      "1        48\n",
      "2        49\n",
      "3        33\n",
      "4        34\n",
      "         ..\n",
      "24860    48\n",
      "24861    32\n",
      "24862    48\n",
      "24863    34\n",
      "24864    48\n",
      "Name: enttypegb, Length: 24865, dtype: int32\n",
      "0        110\n",
      "1        162\n",
      "2        265\n",
      "3         47\n",
      "4        238\n",
      "        ... \n",
      "24860    172\n",
      "24861     29\n",
      "24862    164\n",
      "24863    162\n",
      "24864    140\n",
      "Name: industryco, Length: 24865, dtype: int32\n",
      "0         0\n",
      "1         8\n",
      "2         0\n",
      "3        16\n",
      "4         0\n",
      "         ..\n",
      "24860     8\n",
      "24861    16\n",
      "24862     8\n",
      "24863     0\n",
      "24864     8\n",
      "Name: enttype, Length: 24865, dtype: int32\n",
      "0        27\n",
      "1         0\n",
      "2        27\n",
      "3        11\n",
      "4        23\n",
      "         ..\n",
      "24860     0\n",
      "24861    10\n",
      "24862     0\n",
      "24863    23\n",
      "24864    25\n",
      "Name: enttypeitem, Length: 24865, dtype: int32\n",
      "\n"
     ]
    }
   ],
   "source": [
    "# 数据比较长尾, label encoding 和 freq 处理\n",
    "\n",
    "for col in tqdm(['industryphy', 'opform', 'oploc', 'orgid', 'jobid', 'oplocdistrict',\n",
    "                 'enttypegb', 'industryco', 'enttype', 'enttypeitem']):\n",
    "    lbl = LabelEncoder()\n",
    "    base_info[col] = lbl.fit_transform(base_info[col].astype(str))\n",
    "    vc = base_info[col].value_counts(dropna=True, normalize=True).to_dict()\n",
    "    base_info[f'{col}_freq'] = base_info[col].map(vc)\n",
    "#     base_info[col] = base_info[col].map(vc)"
   ]
  },
  {
   "cell_type": "code",
   "execution_count": 36,
   "metadata": {},
   "outputs": [
    {
     "output_type": "execute_result",
     "data": {
      "text/plain": [
       "1471"
      ]
     },
     "metadata": {},
     "execution_count": 36
    }
   ],
   "source": [
    "# 通过上一次模型的重要度输出发现的分裂次数为 0 的特征\n",
    "del base_info['forreccap']\n",
    "del base_info['forregcap']\n",
    "del base_info['protype']\n",
    "del base_info['congro']\n",
    "\n",
    "gc.collect()"
   ]
  },
  {
   "cell_type": "code",
   "execution_count": 20,
   "metadata": {},
   "outputs": [
    {
     "name": "stdout",
     "output_type": "stream",
     "text": [
      "<class 'pandas.core.frame.DataFrame'>\n",
      "RangeIndex: 24865 entries, 0 to 24864\n",
      "Data columns (total 35 columns):\n",
      "id                    24865 non-null object\n",
      "oplocdistrict         24865 non-null int64\n",
      "industryphy           24865 non-null int64\n",
      "industryco            24865 non-null int64\n",
      "enttype               24865 non-null int64\n",
      "enttypeitem           24865 non-null int64\n",
      "state                 24865 non-null int64\n",
      "orgid                 24865 non-null int64\n",
      "jobid                 24865 non-null int64\n",
      "adbusign              24865 non-null int64\n",
      "townsign              24865 non-null int64\n",
      "regtype               24865 non-null int64\n",
      "empnum                24865 non-null float64\n",
      "compform              24865 non-null int64\n",
      "parnum                24865 non-null float64\n",
      "exenum                24865 non-null float64\n",
      "opform                24865 non-null int64\n",
      "venind                24865 non-null int64\n",
      "enttypeminu           24865 non-null int64\n",
      "oploc                 24865 non-null int64\n",
      "regcap                24865 non-null float64\n",
      "reccap                24865 non-null float64\n",
      "enttypegb             24865 non-null int64\n",
      "opfrom_year           24865 non-null int64\n",
      "opto_year             24865 non-null int64\n",
      "industryphy_freq      24865 non-null float64\n",
      "opform_freq           24865 non-null float64\n",
      "oploc_freq            24865 non-null float64\n",
      "orgid_freq            24865 non-null float64\n",
      "jobid_freq            24865 non-null float64\n",
      "oplocdistrict_freq    24865 non-null float64\n",
      "enttypegb_freq        24865 non-null float64\n",
      "industryco_freq       24865 non-null float64\n",
      "enttype_freq          24865 non-null float64\n",
      "enttypeitem_freq      24865 non-null float64\n",
      "dtypes: float64(15), int64(19), object(1)\n",
      "memory usage: 6.6+ MB\n"
     ]
    }
   ],
   "source": [
    "base_info.info()"
   ]
  },
  {
   "cell_type": "code",
   "execution_count": 39,
   "metadata": {},
   "outputs": [
    {
     "output_type": "stream",
     "name": "stdout",
     "text": [
      "                                                 id  ANCHEYEAR  STATE  FUNDAM  \\\n0  9c7fa510616a683058ce97d0bc768a621cd85ab1e87da2a3    2017.00   2.00    5.00   \n1  9c7fa510616a683058ce97d0bc768a621cd85ab1e87da2a3    2018.00   2.00    2.00   \n2  f000950527a6feb63ee1ce82bb22ddd1ab8b8fdffa3b91fb    2017.00   2.00     nan   \n3  f000950527a6feb63ee1ce82bb22ddd1ab8b8fdffa3b91fb    2018.00   2.00     nan   \n4  9c7fa510616a68309e4badf2a7a3123c0462fb85bf28ef17    2017.00   2.00    5.00   \n\n   MEMNUM  FARNUM  ANNNEWMEMNUM  ANNREDMEMNUM  EMPNUM  EMPNUMSIGN BUSSTNAME  \\\n0     nan     nan           nan           nan   10.00         nan       NaN   \n1     nan     nan           nan           nan    2.00         nan       NaN   \n2     nan     nan           nan           nan    4.00        2.00        开业   \n3     nan     nan           nan           nan    3.00        2.00        开业   \n4     nan     nan           nan           nan   10.00         nan       NaN   \n\n   COLGRANUM  RETSOLNUM  DISPERNUM  UNENUM  COLEMPLNUM  RETEMPLNUM  \\\n0       0.00       0.00       0.00    0.00        0.00        0.00   \n1       0.00       0.00       0.00    0.00        0.00        0.00   \n2       3.00       0.00       0.00    0.00        1.00        0.00   \n3       1.00       0.00       0.00    0.00        2.00        0.00   \n4       0.00       0.00       0.00    0.00        0.00        0.00   \n\n   DISEMPLNUM  UNEEMPLNUM  WEBSITSIGN  FORINVESTSIGN  STOCKTRANSIGN  PUBSTATE  \n0        0.00        0.00        2.00            nan            nan      3.00  \n1        0.00        0.00        2.00            nan            nan      3.00  \n2        0.00        0.00        2.00           2.00           2.00      3.00  \n3        0.00        0.00        2.00           2.00           2.00      3.00  \n4        0.00        0.00        2.00            nan            nan      3.00  \n"
     ]
    },
    {
     "output_type": "display_data",
     "data": {
      "text/plain": "HBox(children=(FloatProgress(value=0.0, max=23.0), HTML(value='')))",
      "application/vnd.jupyter.widget-view+json": {
       "version_major": 2,
       "version_minor": 0,
       "model_id": "a8434e3370734d4c8a367194d4c72d3a"
      }
     },
     "metadata": {}
    },
    {
     "output_type": "stream",
     "name": "stdout",
     "text": [
      "id 8937\nANCHEYEAR 4\nSTATE 3\nFUNDAM 168\nMEMNUM 6\nFARNUM 7\nANNNEWMEMNUM 4\nANNREDMEMNUM 2\nEMPNUM 271\nEMPNUMSIGN 3\nBUSSTNAME 5\nCOLGRANUM 44\nRETSOLNUM 15\nDISPERNUM 6\nUNENUM 36\nCOLEMPLNUM 95\nRETEMPLNUM 27\nDISEMPLNUM 17\nUNEEMPLNUM 73\nWEBSITSIGN 3\nFORINVESTSIGN 3\nSTOCKTRANSIGN 3\nPUBSTATE 4\n\n"
     ]
    }
   ],
   "source": [
    "df_anreport_info = pd.read_csv(t_annual_report_info, header=0)\n",
    "print(df_anreport_info.head())\n",
    "\n",
    "for col in tqdm(df_anreport_info.columns):\n",
    "    print(col, df_anreport_info[col].nunique(dropna=False))\n",
    "\n",
    "gc.collect()"
   ]
  },
  {
   "cell_type": "code",
   "execution_count": 46,
   "metadata": {},
   "outputs": [
    {
     "output_type": "execute_result",
     "data": {
      "text/plain": [
       "id                object\n",
       "ANCHEYEAR        float64\n",
       "STATE            float64\n",
       "FUNDAM           float64\n",
       "MEMNUM           float64\n",
       "FARNUM           float64\n",
       "ANNNEWMEMNUM     float64\n",
       "ANNREDMEMNUM     float64\n",
       "EMPNUM           float64\n",
       "EMPNUMSIGN       float64\n",
       "COLGRANUM        float64\n",
       "RETSOLNUM        float64\n",
       "DISPERNUM        float64\n",
       "UNENUM           float64\n",
       "COLEMPLNUM       float64\n",
       "RETEMPLNUM       float64\n",
       "DISEMPLNUM       float64\n",
       "UNEEMPLNUM       float64\n",
       "WEBSITSIGN       float64\n",
       "FORINVESTSIGN    float64\n",
       "STOCKTRANSIGN    float64\n",
       "PUBSTATE         float64\n",
       "busstname_停业       uint8\n",
       "busstname_开业       uint8\n",
       "busstname_歇业       uint8\n",
       "busstname_清算       uint8\n",
       "dtype: object"
      ]
     },
     "metadata": {},
     "execution_count": 46
    }
   ],
   "source": [
    "df_anreport_info.dtypes"
   ]
  },
  {
   "cell_type": "code",
   "execution_count": 47,
   "metadata": {},
   "outputs": [
    {
     "output_type": "error",
     "ename": "KeyError",
     "evalue": "'BUSSTNAME'",
     "traceback": [
      "\u001b[1;31m---------------------------------------------------------------------------\u001b[0m",
      "\u001b[1;31mKeyError\u001b[0m                                  Traceback (most recent call last)",
      "\u001b[1;32mE:\\anaconda\\pkg\\lib\\site-packages\\pandas\\core\\indexes\\base.py\u001b[0m in \u001b[0;36mget_loc\u001b[1;34m(self, key, method, tolerance)\u001b[0m\n\u001b[0;32m   2645\u001b[0m             \u001b[1;32mtry\u001b[0m\u001b[1;33m:\u001b[0m\u001b[1;33m\u001b[0m\u001b[1;33m\u001b[0m\u001b[0m\n\u001b[1;32m-> 2646\u001b[1;33m                 \u001b[1;32mreturn\u001b[0m \u001b[0mself\u001b[0m\u001b[1;33m.\u001b[0m\u001b[0m_engine\u001b[0m\u001b[1;33m.\u001b[0m\u001b[0mget_loc\u001b[0m\u001b[1;33m(\u001b[0m\u001b[0mkey\u001b[0m\u001b[1;33m)\u001b[0m\u001b[1;33m\u001b[0m\u001b[1;33m\u001b[0m\u001b[0m\n\u001b[0m\u001b[0;32m   2647\u001b[0m             \u001b[1;32mexcept\u001b[0m \u001b[0mKeyError\u001b[0m\u001b[1;33m:\u001b[0m\u001b[1;33m\u001b[0m\u001b[1;33m\u001b[0m\u001b[0m\n",
      "\u001b[1;32mpandas\\_libs\\index.pyx\u001b[0m in \u001b[0;36mpandas._libs.index.IndexEngine.get_loc\u001b[1;34m()\u001b[0m\n",
      "\u001b[1;32mpandas\\_libs\\index.pyx\u001b[0m in \u001b[0;36mpandas._libs.index.IndexEngine.get_loc\u001b[1;34m()\u001b[0m\n",
      "\u001b[1;32mpandas\\_libs\\hashtable_class_helper.pxi\u001b[0m in \u001b[0;36mpandas._libs.hashtable.PyObjectHashTable.get_item\u001b[1;34m()\u001b[0m\n",
      "\u001b[1;32mpandas\\_libs\\hashtable_class_helper.pxi\u001b[0m in \u001b[0;36mpandas._libs.hashtable.PyObjectHashTable.get_item\u001b[1;34m()\u001b[0m\n",
      "\u001b[1;31mKeyError\u001b[0m: 'BUSSTNAME'",
      "\nDuring handling of the above exception, another exception occurred:\n",
      "\u001b[1;31mKeyError\u001b[0m                                  Traceback (most recent call last)",
      "\u001b[1;32m<ipython-input-47-571d99668e63>\u001b[0m in \u001b[0;36m<module>\u001b[1;34m\u001b[0m\n\u001b[1;32m----> 1\u001b[1;33m \u001b[0mdf_af\u001b[0m \u001b[1;33m=\u001b[0m \u001b[0mpd\u001b[0m\u001b[1;33m.\u001b[0m\u001b[0mget_dummies\u001b[0m\u001b[1;33m(\u001b[0m\u001b[0mdf_anreport_info\u001b[0m\u001b[1;33m[\u001b[0m\u001b[1;34m'BUSSTNAME'\u001b[0m\u001b[1;33m]\u001b[0m\u001b[1;33m,\u001b[0m \u001b[0mprefix\u001b[0m\u001b[1;33m=\u001b[0m\u001b[1;34m'busstname'\u001b[0m\u001b[1;33m)\u001b[0m\u001b[1;33m\u001b[0m\u001b[1;33m\u001b[0m\u001b[0m\n\u001b[0m\u001b[0;32m      2\u001b[0m \u001b[0mprint\u001b[0m\u001b[1;33m(\u001b[0m\u001b[0mdf_af\u001b[0m\u001b[1;33m)\u001b[0m\u001b[1;33m\u001b[0m\u001b[1;33m\u001b[0m\u001b[0m\n",
      "\u001b[1;32mE:\\anaconda\\pkg\\lib\\site-packages\\pandas\\core\\frame.py\u001b[0m in \u001b[0;36m__getitem__\u001b[1;34m(self, key)\u001b[0m\n\u001b[0;32m   2798\u001b[0m             \u001b[1;32mif\u001b[0m \u001b[0mself\u001b[0m\u001b[1;33m.\u001b[0m\u001b[0mcolumns\u001b[0m\u001b[1;33m.\u001b[0m\u001b[0mnlevels\u001b[0m \u001b[1;33m>\u001b[0m \u001b[1;36m1\u001b[0m\u001b[1;33m:\u001b[0m\u001b[1;33m\u001b[0m\u001b[1;33m\u001b[0m\u001b[0m\n\u001b[0;32m   2799\u001b[0m                 \u001b[1;32mreturn\u001b[0m \u001b[0mself\u001b[0m\u001b[1;33m.\u001b[0m\u001b[0m_getitem_multilevel\u001b[0m\u001b[1;33m(\u001b[0m\u001b[0mkey\u001b[0m\u001b[1;33m)\u001b[0m\u001b[1;33m\u001b[0m\u001b[1;33m\u001b[0m\u001b[0m\n\u001b[1;32m-> 2800\u001b[1;33m             \u001b[0mindexer\u001b[0m \u001b[1;33m=\u001b[0m \u001b[0mself\u001b[0m\u001b[1;33m.\u001b[0m\u001b[0mcolumns\u001b[0m\u001b[1;33m.\u001b[0m\u001b[0mget_loc\u001b[0m\u001b[1;33m(\u001b[0m\u001b[0mkey\u001b[0m\u001b[1;33m)\u001b[0m\u001b[1;33m\u001b[0m\u001b[1;33m\u001b[0m\u001b[0m\n\u001b[0m\u001b[0;32m   2801\u001b[0m             \u001b[1;32mif\u001b[0m \u001b[0mis_integer\u001b[0m\u001b[1;33m(\u001b[0m\u001b[0mindexer\u001b[0m\u001b[1;33m)\u001b[0m\u001b[1;33m:\u001b[0m\u001b[1;33m\u001b[0m\u001b[1;33m\u001b[0m\u001b[0m\n\u001b[0;32m   2802\u001b[0m                 \u001b[0mindexer\u001b[0m \u001b[1;33m=\u001b[0m \u001b[1;33m[\u001b[0m\u001b[0mindexer\u001b[0m\u001b[1;33m]\u001b[0m\u001b[1;33m\u001b[0m\u001b[1;33m\u001b[0m\u001b[0m\n",
      "\u001b[1;32mE:\\anaconda\\pkg\\lib\\site-packages\\pandas\\core\\indexes\\base.py\u001b[0m in \u001b[0;36mget_loc\u001b[1;34m(self, key, method, tolerance)\u001b[0m\n\u001b[0;32m   2646\u001b[0m                 \u001b[1;32mreturn\u001b[0m \u001b[0mself\u001b[0m\u001b[1;33m.\u001b[0m\u001b[0m_engine\u001b[0m\u001b[1;33m.\u001b[0m\u001b[0mget_loc\u001b[0m\u001b[1;33m(\u001b[0m\u001b[0mkey\u001b[0m\u001b[1;33m)\u001b[0m\u001b[1;33m\u001b[0m\u001b[1;33m\u001b[0m\u001b[0m\n\u001b[0;32m   2647\u001b[0m             \u001b[1;32mexcept\u001b[0m \u001b[0mKeyError\u001b[0m\u001b[1;33m:\u001b[0m\u001b[1;33m\u001b[0m\u001b[1;33m\u001b[0m\u001b[0m\n\u001b[1;32m-> 2648\u001b[1;33m                 \u001b[1;32mreturn\u001b[0m \u001b[0mself\u001b[0m\u001b[1;33m.\u001b[0m\u001b[0m_engine\u001b[0m\u001b[1;33m.\u001b[0m\u001b[0mget_loc\u001b[0m\u001b[1;33m(\u001b[0m\u001b[0mself\u001b[0m\u001b[1;33m.\u001b[0m\u001b[0m_maybe_cast_indexer\u001b[0m\u001b[1;33m(\u001b[0m\u001b[0mkey\u001b[0m\u001b[1;33m)\u001b[0m\u001b[1;33m)\u001b[0m\u001b[1;33m\u001b[0m\u001b[1;33m\u001b[0m\u001b[0m\n\u001b[0m\u001b[0;32m   2649\u001b[0m         \u001b[0mindexer\u001b[0m \u001b[1;33m=\u001b[0m \u001b[0mself\u001b[0m\u001b[1;33m.\u001b[0m\u001b[0mget_indexer\u001b[0m\u001b[1;33m(\u001b[0m\u001b[1;33m[\u001b[0m\u001b[0mkey\u001b[0m\u001b[1;33m]\u001b[0m\u001b[1;33m,\u001b[0m \u001b[0mmethod\u001b[0m\u001b[1;33m=\u001b[0m\u001b[0mmethod\u001b[0m\u001b[1;33m,\u001b[0m \u001b[0mtolerance\u001b[0m\u001b[1;33m=\u001b[0m\u001b[0mtolerance\u001b[0m\u001b[1;33m)\u001b[0m\u001b[1;33m\u001b[0m\u001b[1;33m\u001b[0m\u001b[0m\n\u001b[0;32m   2650\u001b[0m         \u001b[1;32mif\u001b[0m \u001b[0mindexer\u001b[0m\u001b[1;33m.\u001b[0m\u001b[0mndim\u001b[0m \u001b[1;33m>\u001b[0m \u001b[1;36m1\u001b[0m \u001b[1;32mor\u001b[0m \u001b[0mindexer\u001b[0m\u001b[1;33m.\u001b[0m\u001b[0msize\u001b[0m \u001b[1;33m>\u001b[0m \u001b[1;36m1\u001b[0m\u001b[1;33m:\u001b[0m\u001b[1;33m\u001b[0m\u001b[1;33m\u001b[0m\u001b[0m\n",
      "\u001b[1;32mpandas\\_libs\\index.pyx\u001b[0m in \u001b[0;36mpandas._libs.index.IndexEngine.get_loc\u001b[1;34m()\u001b[0m\n",
      "\u001b[1;32mpandas\\_libs\\index.pyx\u001b[0m in \u001b[0;36mpandas._libs.index.IndexEngine.get_loc\u001b[1;34m()\u001b[0m\n",
      "\u001b[1;32mpandas\\_libs\\hashtable_class_helper.pxi\u001b[0m in \u001b[0;36mpandas._libs.hashtable.PyObjectHashTable.get_item\u001b[1;34m()\u001b[0m\n",
      "\u001b[1;32mpandas\\_libs\\hashtable_class_helper.pxi\u001b[0m in \u001b[0;36mpandas._libs.hashtable.PyObjectHashTable.get_item\u001b[1;34m()\u001b[0m\n",
      "\u001b[1;31mKeyError\u001b[0m: 'BUSSTNAME'"
     ]
    }
   ],
   "source": [
    "df_af = pd.get_dummies(df_anreport_info['BUSSTNAME'], prefix='busstname')  \n",
    "print(df_af)  "
   ]
  },
  {
   "cell_type": "code",
   "execution_count": 18,
   "metadata": {},
   "outputs": [
    {
     "output_type": "error",
     "ename": "NameError",
     "evalue": "name 'df_anreport_info' is not defined",
     "traceback": [
      "\u001b[1;31m---------------------------------------------------------------------------\u001b[0m",
      "\u001b[1;31mNameError\u001b[0m                                 Traceback (most recent call last)",
      "\u001b[1;32m<ipython-input-18-2cd69aeefc04>\u001b[0m in \u001b[0;36m<module>\u001b[1;34m\u001b[0m\n\u001b[1;32m----> 1\u001b[1;33m \u001b[0mdf_anreport_info\u001b[0m \u001b[1;33m=\u001b[0m \u001b[0mpd\u001b[0m\u001b[1;33m.\u001b[0m\u001b[0mconcat\u001b[0m\u001b[1;33m(\u001b[0m\u001b[1;33m[\u001b[0m\u001b[0mdf_anreport_info\u001b[0m\u001b[1;33m,\u001b[0m \u001b[0mdf_af\u001b[0m\u001b[1;33m]\u001b[0m\u001b[1;33m,\u001b[0m \u001b[0maxis\u001b[0m\u001b[1;33m=\u001b[0m\u001b[1;36m1\u001b[0m\u001b[1;33m)\u001b[0m\u001b[1;33m\u001b[0m\u001b[1;33m\u001b[0m\u001b[0m\n\u001b[0m\u001b[0;32m      2\u001b[0m \u001b[1;32mdel\u001b[0m \u001b[0mdf_anreport_info\u001b[0m\u001b[1;33m[\u001b[0m\u001b[1;34m'BUSSTNAME'\u001b[0m\u001b[1;33m]\u001b[0m\u001b[1;33m\u001b[0m\u001b[1;33m\u001b[0m\u001b[0m\n\u001b[0;32m      3\u001b[0m \u001b[0mprint\u001b[0m\u001b[1;33m(\u001b[0m\u001b[0mdf_anreport_info\u001b[0m\u001b[1;33m.\u001b[0m\u001b[0mdtypes\u001b[0m\u001b[1;33m)\u001b[0m\u001b[1;33m\u001b[0m\u001b[1;33m\u001b[0m\u001b[0m\n\u001b[0;32m      4\u001b[0m \u001b[0mprint\u001b[0m\u001b[1;33m(\u001b[0m\u001b[0mdf_anreport_info\u001b[0m\u001b[1;33m.\u001b[0m\u001b[0mhead\u001b[0m\u001b[1;33m(\u001b[0m\u001b[1;33m)\u001b[0m\u001b[1;33m)\u001b[0m\u001b[1;33m\u001b[0m\u001b[1;33m\u001b[0m\u001b[0m\n",
      "\u001b[1;31mNameError\u001b[0m: name 'df_anreport_info' is not defined"
     ]
    }
   ],
   "source": [
    "df_anreport_info = pd.concat([df_anreport_info, df_af], axis=1)\n",
    "del df_anreport_info['BUSSTNAME']\n",
    "print(df_anreport_info.dtypes)\n",
    "print(df_anreport_info.head())\n"
   ]
  },
  {
   "cell_type": "code",
   "execution_count": 38,
   "metadata": {},
   "outputs": [
    {
     "output_type": "stream",
     "name": "stdout",
     "text": [
      "tax info: \n                                                      id  START_DATE  \\\n0      f000950527a6feb6c2f40c9d8477e73a439dfa0897830397  2015/09/01   \n1      f000950527a6feb6c2f40c9d8477e73a439dfa0897830397  2015/09/01   \n2      f000950527a6feb6c2f40c9d8477e73a439dfa0897830397  2015/09/01   \n3      f000950527a6feb6c2f40c9d8477e73a439dfa0897830397  2015/09/01   \n4      f000950527a6feb6c2f40c9d8477e73a439dfa0897830397  2015/09/01   \n...                                                 ...         ...   \n29190  f000950527a6feb6cb8976eb56233ede461cb23103f85f32  2015/12/08   \n29191  f000950527a6feb6cb8976eb56233ede461cb23103f85f32  2015/12/08   \n29192  d8071a739aa75a3bbb9e08ebd134ae1289f194b70cac0e95  2016/07/01   \n29193  d8071a739aa75a3bbb9e08ebd134ae1289f194b70cac0e95  2016/07/01   \n29194  d8071a739aa75a3bbb9e08ebd134ae1289f194b70cac0e95  2016/07/01   \n\n         END_DATE TAX_CATEGORIES     TAX_ITEMS  TAXATION_BASIS  TAX_RATE  \\\n0      2015/09/30            印花税      工伤保险（单位）        72530.75      0.00   \n1      2015/09/30            印花税      失业保险（单位）        72530.75      0.00   \n2      2015/09/30            印花税      医疗保险（单位）        72530.75      0.00   \n3      2015/09/30            印花税  企业养老保险基金（单位）        72530.75      0.00   \n4      2015/09/30            印花税          烟叶收购        72530.75      0.00   \n...           ...            ...           ...             ...       ...   \n29190  2015/12/08            印花税       销售额或营业额            0.00      0.20   \n29191  2015/12/08            印花税     增消营税额（1%）            0.00      0.20   \n29192  2016/07/31            房产税          从价计征             nan       nan   \n29193  2016/07/31          个人所得税        工资薪金所得             nan       nan   \n29194  2016/07/31          个人所得税        工资薪金所得             nan       nan   \n\n       DEDUCTION  TAX_AMOUNT  \n0          -0.04       21.80  \n1          -0.04       21.80  \n2          -0.04       21.80  \n3          -0.04       21.80  \n4          -0.04       21.80  \n...          ...         ...  \n29190        nan       60.00  \n29191        nan       60.00  \n29192        nan       94.96  \n29193        nan      837.48  \n29194        nan      114.01  \n\n[29195 rows x 9 columns]\ntax info: \n (29195, 9)\n"
     ]
    }
   ],
   "source": [
    "df_tax_info = pd.read_csv(t_tax_info, header=0)\n",
    "print(\"tax info: \\n\", df_tax_info)\n",
    "print(\"tax info: \\n\", df_tax_info.shape)"
   ]
  },
  {
   "cell_type": "code",
   "execution_count": 39,
   "metadata": {},
   "outputs": [
    {
     "output_type": "stream",
     "name": "stdout",
     "text": [
      "id                 object\nTAX_CATEGORIES     object\nTAX_ITEMS          object\nTAXATION_BASIS    float64\nTAX_RATE          float64\nDEDUCTION         float64\nTAX_AMOUNT        float64\nTAX_DAYS            int64\ndtype: object\n                                                 id TAX_CATEGORIES  \\\n0  f000950527a6feb6c2f40c9d8477e73a439dfa0897830397            印花税   \n1  f000950527a6feb6c2f40c9d8477e73a439dfa0897830397            印花税   \n2  f000950527a6feb6c2f40c9d8477e73a439dfa0897830397            印花税   \n3  f000950527a6feb6c2f40c9d8477e73a439dfa0897830397            印花税   \n4  f000950527a6feb6c2f40c9d8477e73a439dfa0897830397            印花税   \n\n      TAX_ITEMS  TAXATION_BASIS  TAX_RATE  DEDUCTION  TAX_AMOUNT  TAX_DAYS  \n0      工伤保险（单位）        72530.75      0.00      -0.04       21.80        29  \n1      失业保险（单位）        72530.75      0.00      -0.04       21.80        29  \n2      医疗保险（单位）        72530.75      0.00      -0.04       21.80        29  \n3  企业养老保险基金（单位）        72530.75      0.00      -0.04       21.80        29  \n4          烟叶收购        72530.75      0.00      -0.04       21.80        29  \n                                                 id TAX_CATEGORIES  \\\n0  f000950527a6feb6c2f40c9d8477e73a439dfa0897830397            印花税   \n1  f000950527a6feb6c2f40c9d8477e73a439dfa0897830397            印花税   \n2  f000950527a6feb6c2f40c9d8477e73a439dfa0897830397            印花税   \n3  f000950527a6feb6c2f40c9d8477e73a439dfa0897830397            印花税   \n4  f000950527a6feb6c2f40c9d8477e73a439dfa0897830397            印花税   \n\n      TAX_ITEMS  TAXATION_BASIS  TAX_RATE  DEDUCTION  TAX_AMOUNT  TAX_DAYS  \n0      工伤保险（单位）        72530.75      0.00      -0.04       21.80        29  \n1      失业保险（单位）        72530.75      0.00      -0.04       21.80        29  \n2      医疗保险（单位）        72530.75      0.00      -0.04       21.80        29  \n3  企业养老保险基金（单位）        72530.75      0.00      -0.04       21.80        29  \n4          烟叶收购        72530.75      0.00      -0.04       21.80        29  \n"
     ]
    }
   ],
   "source": [
    "## 提取天数差\n",
    "from util import *\n",
    "df_tax_info['TAX_DAYS'] = df_tax_info[['START_DATE', 'END_DATE']].apply(lambda x : days_v1(x['END_DATE'], x['START_DATE']), axis=1)\n",
    "\n",
    "del df_tax_info['START_DATE']\n",
    "del df_tax_info['END_DATE']\n",
    "\n",
    "print(df_tax_info.dtypes)\n",
    "print(df_tax_info.head())\n",
    "\n",
    "## float类型的数据转成每天\n",
    "# df_tax_info['TAXATION_BASIS'] = df_tax_info['TAXATION_BASIS'] / df_tax_info['TAX_DAYS']\n",
    "# df_tax_info['TAX_RATE'] = df_tax_info['TAX_RATE'] / df_tax_info['TAX_DAYS']\n",
    "# df_tax_info['DEDUCTION'] = df_tax_info['DEDUCTION'] / df_tax_info['TAX_DAYS']\n",
    "# df_tax_info['TAX_AMOUNT'] = df_tax_info['TAX_AMOUNT'] / df_tax_info['TAX_DAYS']\n",
    "\n",
    "# del df_tax_info['TAX_DAYS'] \n",
    "print(df_tax_info.head())\n"
   ]
  },
  {
   "cell_type": "code",
   "execution_count": 40,
   "metadata": {
    "tags": [
     "outputPrepend"
    ]
   },
   "outputs": [
    {
     "output_type": "stream",
     "name": "stdout",
     "text": [
      "                   0                 0   \n3                     0                     0                 0   \n4                     0                     0                 0   \n\n   tax_items_失业保险滞纳金  tax_items_失业保险违章罚款  tax_items_失业保险（单位）  \\\n0                  0                   0                   0   \n1                  0                   0                   1   \n2                  0                   0                   0   \n3                  0                   0                   0   \n4                  0                   0                   0   \n\n   tax_items_失地农民养老保险费  tax_items_契税  tax_items_娱乐业  tax_items_安装  \\\n0                    0             0              0             0   \n1                    0             0              0             0   \n2                    0             0              0             0   \n3                    0             0              0             0   \n4                    0             0              0             0   \n\n   tax_items_对企事业单位的承包、承租经营所得  tax_items_工会筹备金  tax_items_工会经费  \\\n0                           0                0               0   \n1                           0                0               0   \n2                           0                0               0   \n3                           0                0               0   \n4                           0                0               0   \n\n   tax_items_工伤保险滞纳金  tax_items_工伤保险趸交  tax_items_工伤保险违章罚款  \\\n0                  0                 0                   0   \n1                  0                 0                   0   \n2                  0                 0                   0   \n3                  0                 0                   0   \n4                  0                 0                   0   \n\n   tax_items_工伤保险（单位）  tax_items_工资薪金所得  tax_items_市区、县、镇 1%  \\\n0                   1                 0                    0   \n1                   0                 0                    0   \n2                   0                 0                    0   \n3                   0                 0                    0   \n4                   0                 0                    0   \n\n   tax_items_市区（增值税附征）  tax_items_市区（营业税附征）  tax_items_广告业  tax_items_应纳税所得额  \\\n0                    0                    0              0                 0   \n1                    0                    0              0                 0   \n2                    0                    0              0                 0   \n3                    0                    0              0                 0   \n4                    0                    0              0                 0   \n\n   tax_items_应纳税所得额（随征）  tax_items_建筑  tax_items_建筑业营业收入  \\\n0                     0             0                  0   \n1                     0             0                  0   \n2                     0             0                  0   \n3                     0             0                  0   \n4                     0             0                  0   \n\n   tax_items_建筑业营业收入(个)  tax_items_建筑安装工程承包合同  tax_items_建设工程勘察设计合同  \\\n0                     0                     0                     0   \n1                     0                     0                     0   \n2                     0                     0                     0   \n3                     0                     0                     0   \n4                     0                     0                     0   \n\n   tax_items_房产余值  tax_items_房产出租收入  tax_items_房产税补差  tax_items_房屋买卖  \\\n0               0                 0                0               0   \n1               0                 0                0               0   \n2               0                 0                0               0   \n3               0                 0                0               0   \n4               0                 0                0               0   \n\n   tax_items_房屋交换  tax_items_房屋作价入股  tax_items_房屋出租  tax_items_房屋租赁  \\\n0               0                 0               0               0   \n1               0                 0               0               0   \n2               0                 0               0               0   \n3               0                 0               0               0   \n4               0                 0               0               0   \n\n   tax_items_房屋赠与  tax_items_房屋转让所得  tax_items_技术合同  tax_items_拆迁安置住房  \\\n0               0                 0               0                 0   \n1               0                 0               0                 0   \n2               0                 0               0                 0   \n3               0                 0               0                 0   \n4               0                 0               0                 0   \n\n   tax_items_按5%税率征收其它  tax_items_按5%税率征收基建  tax_items_按5%税率征收更改  \\\n0                    0                    0                    0   \n1                    0                    0                    0   \n2                    0                    0                    0   \n3                    0                    0                    0   \n4                    0                    0                    0   \n\n   tax_items_教育费附加  tax_items_文化业  tax_items_文化事业建设费收入  tax_items_旅店业  \\\n0                0              0                    0              0   \n1                0              0                    0              0   \n2                0              0                    0              0   \n3                0              0                    0              0   \n4                0              0                    0              0   \n\n   tax_items_旅游业  tax_items_普通住宅（预征）  tax_items_普通标准住宅  tax_items_服务业营业收入  \\\n0              0                   0                 0                  0   \n1              0                   0                 0                  0   \n2              0                   0                 0                  0   \n3              0                   0                 0                  0   \n4              0                   0                 0                  0   \n\n   tax_items_服务业营业收入(个)  tax_items_机关事业单位养老保险基金（个人）  \\\n0                     0                           0   \n1                     0                           0   \n2                     0                           0   \n3                     0                           0   \n4                     0                           0   \n\n   tax_items_机关事业单位养老保险基金（代理）  tax_items_机关事业单位养老保险基金（全额单位）  \\\n0                           0                             0   \n1                           0                             0   \n2                           0                             0   \n3                           0                             0   \n4                           0                             0   \n\n   tax_items_机关事业单位养老保险基金（差额单位）  tax_items_机械制造销售收入  tax_items_机械制造销售收入(个)  \\\n0                             0                   0                      0   \n1                             0                   0                      0   \n2                             0                   0                      0   \n3                             0                   0                      0   \n4                             0                   0                      0   \n\n   tax_items_权利、许可证照  tax_items_歌厅、舞厅、卡拉OK歌舞厅  tax_items_残疾人保障金  \\\n0                  0                        0                 0   \n1                  0                        0                 0   \n2                  0                        0                 0   \n3                  0                        0                 0   \n4                  0                        0                 0   \n\n   tax_items_残疾人就业保障金  tax_items_没收非法所得  tax_items_消费税  tax_items_消费税附征  \\\n0                   0                 0              0                0   \n1                   0                 0              0                0   \n2                   0                 0              0                0   \n3                   0                 0              0                0   \n4                   0                 0              0                0   \n\n   tax_items_消费税附征(非市区、县城、镇)  tax_items_消费税随征  tax_items_滞纳金  tax_items_烟叶收购  \\\n0                          0                0              0               0   \n1                          0                0              0               0   \n2                          0                0              0               0   \n3                          0                0              0               0   \n4                          0                0              0               1   \n\n   tax_items_煤炭销售收入  tax_items_特许权使用费所得  tax_items_生产用房  tax_items_生猪  \\\n0                 0                   0               0             0   \n1                 0                   0               0             0   \n2                 0                   0               0             0   \n3                 0                   0               0             0   \n4                 0                   0               0             0   \n\n   tax_items_生育保险利息  tax_items_生育保险滞纳金  tax_items_生育保险违章罚款  \\\n0                 0                  0                   0   \n1                 0                  0                   0   \n2                 0                  0                   0   \n3                 0                  0                   0   \n4                 0                  0                   0   \n\n   tax_items_生育保险（机关事业）  tax_items_电力销售收入  tax_items_电力销售收入(个)  tax_items_矿泉水  \\\n0                     0                 0                    0              0   \n1                     0                 0                    0              0   \n2                     0                 0                    0              0   \n3                     0                 0                    0              0   \n4                     0                 0                    0              0   \n\n   tax_items_租赁业  tax_items_税务代保管资金利息  tax_items_税务部门罚没收入  tax_items_稿酬所得  \\\n0              0                    0                   0               0   \n1              0                    0                   0               0   \n2              0                    0                   0               0   \n3              0                    0                   0               0   \n4              0                    0                   0               0   \n\n   tax_items_纺织销售收入  tax_items_纺织销售收入(个)  tax_items_罚款  tax_items_羊  \\\n0                 0                    0             0            0   \n1                 0                    0             0            0   \n2                 0                    0             0            0   \n3                 0                    0             0            0   \n4                 0                    0             0            0   \n\n   tax_items_职工个人（合肥市）  tax_items_职工标准工资  tax_items_职工用房  tax_items_菜牛  \\\n0                    0                 0               0             0   \n1                    0                 0               0             0   \n2                    0                 0               0             0   \n3                    0                 0               0             0   \n4                    0                 0               0             0   \n\n   tax_items_营业帐簿  tax_items_营业用房  tax_items_营业税地方教育附加  tax_items_营业税教育费附加  \\\n0               0               0                    0                   0   \n1               0               0                    0                   0   \n2               0               0                    0                   0   \n3               0               0                    0                   0   \n4               0               0                    0                   0   \n\n   tax_items_营业税附征  tax_items_营业税附征(县城、镇)  tax_items_营业税附征(市区)  \\\n0                0                      0                    0   \n1                0                      0                    0   \n2                0                      0                    0   \n3                0                      0                    0   \n4                0                      0                    0   \n\n   tax_items_营业税附征(非市区、县城、镇)  tax_items_营业税随征  tax_items_营业额  \\\n0                          0                0              0   \n1                          0                0              0   \n2                          0                0              0   \n3                          0                0              0   \n4                          0                0              0   \n\n   tax_items_补缴保险费额  tax_items_装卸搬运  tax_items_装璜业  tax_items_计费折旧总值  \\\n0                 0               0              0                 0   \n1                 0               0              0                 0   \n2                 0               0              0                 0   \n3                 0               0              0                 0   \n4                 0               0              0                 0   \n\n   tax_items_证券  tax_items_财产保险合同  tax_items_财产租赁合同  tax_items_财产租赁所得  \\\n0             0                 0                 0                 0   \n1             0                 0                 0                 0   \n2             0                 0                 0                 0   \n3             0                 0                 0                 0   \n4             0                 0                 0                 0   \n\n   tax_items_财产转让所得  tax_items_货物运输合同(按运输费用万分之五贴花)  \\\n0                 0                              0   \n1                 0                              0   \n2                 0                              0   \n3                 0                              0   \n4                 0                              0   \n\n   tax_items_货物运输合同（按运输费用万分之五贴花）  tax_items_购买其他房屋  tax_items_购买家庭唯一普通住房  \\\n0                              0                 0                     0   \n1                              0                 0                     0   \n2                              0                 0                     0   \n3                              0                 0                     0   \n4                              0                 0                     0   \n\n   tax_items_购销合同  tax_items_资金帐簿、实收资本、资本公积  tax_items_资金账簿  tax_items_转让商标权  \\\n0               0                         0               0                0   \n1               0                         0               0                0   \n2               0                         0               0                0   \n3               0                         0               0                0   \n4               0                         0               0                0   \n\n   tax_items_转让国有土地使用权  tax_items_转让土地使用权  tax_items_转让地上建筑物及附着  \\\n0                    0                  0                     0   \n1                    0                  0                     0   \n2                    0                  0                     0   \n3                    0                  0                     0   \n4                    0                  0                     0   \n\n   tax_items_转让著作权  tax_items_转让非专利技术  tax_items_违章所得  tax_items_违章罚款  \\\n0                0                  0               0               0   \n1                0                  0               0               0   \n2                0                  0               0               0   \n3                0                  0               0               0   \n4                0                  0               0               0   \n\n   tax_items_逾期申报罚款  tax_items_逾期登记罚款  tax_items_道路运输  tax_items_金融  \\\n0                 0                 0               0             0   \n1                 0                 0               0             0   \n2                 0                 0               0             0   \n3                 0                 0               0             0   \n4                 0                 0               0             0   \n\n   tax_items_金融保险营业税额  tax_items_铁路线路  tax_items_铁路运输  tax_items_销售商品房  \\\n0                   0               0               0                0   \n1                   0               0               0                0   \n2                   0               0               0                0   \n3                   0               0               0                0   \n4                   0               0               0                0   \n\n   tax_items_销售建筑物或构筑物  tax_items_销售额或营业额  tax_items_非普通住宅（预征）  \\\n0                    0                  0                    0   \n1                    0                  0                    0   \n2                    0                  0                    0   \n3                    0                  0                    0   \n4                    0                  0                    0   \n\n   tax_items_非机动车  tax_items_面积（旅店业、餐饮业、娱乐业）  tax_items_预提所得税  \\\n0               0                          0                0   \n1               0                          0                0   \n2               0                          0                0   \n3               0                          0                0   \n4               0                          0                0   \n\n   tax_items_飞机场跑道、停机坪  tax_items_餐饮、住宿、娱乐营业额随征  tax_items_餐饮业  tax_items_饮食业  \\\n0                    0                        0              0              0   \n1                    0                        0              0              0   \n2                    0                        0              0              0   \n3                    0                        0              0              0   \n4                    0                        0              0              0   \n\n   tax_categories_个人所得税  tax_categories_企业所得税  tax_categories_其他专项收入  \\\n0                     0                     0                      0   \n1                     0                     0                      0   \n2                     0                     0                      0   \n3                     0                     0                      0   \n4                     0                     0                      0   \n\n   tax_categories_其他收入  tax_categories_印花税  tax_categories_土地增值税  \\\n0                    0                   1                     0   \n1                    0                   1                     0   \n2                    0                   1                     0   \n3                    0                   1                     0   \n4                    0                   1                     0   \n\n   tax_categories_地方教育附加  tax_categories_城市维护建设税  tax_categories_城镇土地使用税  \\\n0                      0                       0                       0   \n1                      0                       0                       0   \n2                      0                       0                       0   \n3                      0                       0                       0   \n4                      0                       0                       0   \n\n   tax_categories_契税  tax_categories_房产税  tax_categories_教育费附加  \\\n0                  0                   0                     0   \n1                  0                   0                     0   \n2                  0                   0                     0   \n3                  0                   0                     0   \n4                  0                   0                     0   \n\n   tax_categories_残疾人就业保障金  tax_categories_水利建设专项收入  tax_categories_税务部门罚没收入  \\\n0                        0                        0                        0   \n1                        0                        0                        0   \n2                        0                        0                        0   \n3                        0                        0                        0   \n4                        0                        0                        0   \n\n   tax_categories_耕地占用税  tax_categories_营业税  \n0                     0                   0  \n1                     0                   0  \n2                     0                   0  \n3                     0                   0  \n4                     0                   0  \n(29195, 298)\n"
     ]
    }
   ],
   "source": [
    "# one-hot\n",
    "df_tax_item = pd.get_dummies(df_tax_info['TAX_ITEMS'], prefix='tax_items')\n",
    "df_tax_cate = pd.get_dummies(df_tax_info['TAX_CATEGORIES'], prefix='tax_categories')\n",
    "\n",
    "df_tax_info = pd.concat([df_tax_info, df_tax_item, df_tax_cate], axis=1)\n",
    "\n",
    "del df_tax_info['TAX_ITEMS']\n",
    "del df_tax_info['TAX_CATEGORIES']\n",
    "\n",
    "print(df_tax_info.head())\n",
    "print(df_tax_info.shape)\n"
   ]
  },
  {
   "cell_type": "code",
   "execution_count": 42,
   "metadata": {},
   "outputs": [
    {
     "output_type": "stream",
     "name": "stdout",
     "text": [
      "Index(['id', 'TAXATION_BASIS', 'TAX_RATE', 'DEDUCTION', 'TAX_AMOUNT',\n       'TAX_DAYS', 'tax_items_10吨以下非机动船', 'tax_items_150吨以下机动船',\n       'tax_items_20人以上汽车及2.2升以上小轿车', 'tax_items_20人以下乘人汽车',\n       ...\n       'tax_categories_城市维护建设税', 'tax_categories_城镇土地使用税', 'tax_categories_契税',\n       'tax_categories_房产税', 'tax_categories_教育费附加', 'tax_categories_残疾人就业保障金',\n       'tax_categories_水利建设专项收入', 'tax_categories_税务部门罚没收入',\n       'tax_categories_耕地占用税', 'tax_categories_营业税'],\n      dtype='object', length=298)\nitems: \n Index(['tax_items_10吨以下非机动船', 'tax_items_150吨以下机动船',\n       'tax_items_20人以上汽车及2.2升以上小轿车', 'tax_items_20人以下乘人汽车', 'tax_items_一等',\n       'tax_items_一等（县区）', 'tax_items_一类地区', 'tax_items_一类地区（占用基本农田）',\n       'tax_items_一般房屋出租', 'tax_items_三等',\n       ...\n       'tax_items_销售建筑物或构筑物', 'tax_items_销售额或营业额', 'tax_items_非普通住宅（预征）',\n       'tax_items_非机动车', 'tax_items_面积（旅店业、餐饮业、娱乐业）', 'tax_items_预提所得税',\n       'tax_items_飞机场跑道、停机坪', 'tax_items_餐饮、住宿、娱乐营业额随征', 'tax_items_餐饮业',\n       'tax_items_饮食业'],\n      dtype='object', length=275)\ncategories: \n Index(['tax_categories_个人所得税', 'tax_categories_企业所得税', 'tax_categories_其他专项收入',\n       'tax_categories_其他收入', 'tax_categories_印花税', 'tax_categories_土地增值税',\n       'tax_categories_地方教育附加', 'tax_categories_城市维护建设税',\n       'tax_categories_城镇土地使用税', 'tax_categories_契税', 'tax_categories_房产税',\n       'tax_categories_教育费附加', 'tax_categories_残疾人就业保障金',\n       'tax_categories_水利建设专项收入', 'tax_categories_税务部门罚没收入',\n       'tax_categories_耕地占用税', 'tax_categories_营业税'],\n      dtype='object')\n"
     ]
    }
   ],
   "source": [
    "print(df_tax_info.columns)\n",
    "print(\"items: \\n\", df_tax_item.columns)\n",
    "print(\"categories: \\n\", df_tax_cate.columns)"
   ]
  },
  {
   "cell_type": "code",
   "execution_count": 62,
   "metadata": {
    "tags": []
   },
   "outputs": [
    {
     "output_type": "error",
     "ename": "KeyError",
     "evalue": "\"['id'] not in index\"",
     "traceback": [
      "\u001b[1;31m---------------------------------------------------------------------------\u001b[0m",
      "\u001b[1;31mKeyError\u001b[0m                                  Traceback (most recent call last)",
      "\u001b[1;32m<ipython-input-62-abb07fa719fd>\u001b[0m in \u001b[0;36m<module>\u001b[1;34m\u001b[0m\n\u001b[0;32m      8\u001b[0m \u001b[1;32mfor\u001b[0m \u001b[0mid\u001b[0m\u001b[1;33m,\u001b[0m \u001b[0mcol\u001b[0m \u001b[1;32min\u001b[0m \u001b[0menumerate\u001b[0m\u001b[1;33m(\u001b[0m\u001b[0mdf_tax_item\u001b[0m\u001b[1;33m.\u001b[0m\u001b[0mcolumns\u001b[0m\u001b[1;33m)\u001b[0m\u001b[1;33m:\u001b[0m\u001b[1;33m\u001b[0m\u001b[1;33m\u001b[0m\u001b[0m\n\u001b[0;32m      9\u001b[0m     \u001b[0mdf_tmp\u001b[0m \u001b[1;33m=\u001b[0m \u001b[0mdf_tax_info\u001b[0m\u001b[1;33m.\u001b[0m\u001b[0mgroupby\u001b[0m\u001b[1;33m(\u001b[0m\u001b[1;33m[\u001b[0m\u001b[1;34m'id'\u001b[0m\u001b[1;33m,\u001b[0m\u001b[0mcol\u001b[0m\u001b[1;33m]\u001b[0m\u001b[1;33m)\u001b[0m\u001b[1;33m.\u001b[0m\u001b[0msum\u001b[0m\u001b[1;33m(\u001b[0m\u001b[1;33m)\u001b[0m\u001b[1;33m\u001b[0m\u001b[1;33m\u001b[0m\u001b[0m\n\u001b[1;32m---> 10\u001b[1;33m     \u001b[0mdf_to_merge\u001b[0m \u001b[1;33m=\u001b[0m \u001b[0mdf_tmp\u001b[0m\u001b[1;33m[\u001b[0m\u001b[1;33m[\u001b[0m\u001b[1;34m'id'\u001b[0m\u001b[1;33m,\u001b[0m \u001b[1;34m'TAXATION_BASIS'\u001b[0m\u001b[1;33m,\u001b[0m \u001b[1;34m'TAX_RATE'\u001b[0m\u001b[1;33m,\u001b[0m \u001b[1;34m'DEDUCTION'\u001b[0m\u001b[1;33m,\u001b[0m \u001b[1;34m'TAX_AMOUNT'\u001b[0m\u001b[1;33m,\u001b[0m \u001b[1;34m'TAX_DAYS'\u001b[0m\u001b[1;33m]\u001b[0m\u001b[1;33m]\u001b[0m\u001b[1;33m\u001b[0m\u001b[1;33m\u001b[0m\u001b[0m\n\u001b[0m\u001b[0;32m     11\u001b[0m     \u001b[1;32mif\u001b[0m\u001b[1;33m(\u001b[0m\u001b[0mid\u001b[0m \u001b[1;33m==\u001b[0m \u001b[1;36m0\u001b[0m\u001b[1;33m)\u001b[0m\u001b[1;33m:\u001b[0m\u001b[1;33m\u001b[0m\u001b[1;33m\u001b[0m\u001b[0m\n\u001b[0;32m     12\u001b[0m         \u001b[0mprint\u001b[0m\u001b[1;33m(\u001b[0m\u001b[0mdf_tmp\u001b[0m\u001b[1;33m.\u001b[0m\u001b[0mhead\u001b[0m\u001b[1;33m(\u001b[0m\u001b[1;33m)\u001b[0m\u001b[1;33m)\u001b[0m\u001b[1;33m\u001b[0m\u001b[1;33m\u001b[0m\u001b[0m\n",
      "\u001b[1;32mE:\\anaconda\\pkg\\lib\\site-packages\\pandas\\core\\frame.py\u001b[0m in \u001b[0;36m__getitem__\u001b[1;34m(self, key)\u001b[0m\n\u001b[0;32m   2804\u001b[0m             \u001b[1;32mif\u001b[0m \u001b[0mis_iterator\u001b[0m\u001b[1;33m(\u001b[0m\u001b[0mkey\u001b[0m\u001b[1;33m)\u001b[0m\u001b[1;33m:\u001b[0m\u001b[1;33m\u001b[0m\u001b[1;33m\u001b[0m\u001b[0m\n\u001b[0;32m   2805\u001b[0m                 \u001b[0mkey\u001b[0m \u001b[1;33m=\u001b[0m \u001b[0mlist\u001b[0m\u001b[1;33m(\u001b[0m\u001b[0mkey\u001b[0m\u001b[1;33m)\u001b[0m\u001b[1;33m\u001b[0m\u001b[1;33m\u001b[0m\u001b[0m\n\u001b[1;32m-> 2806\u001b[1;33m             \u001b[0mindexer\u001b[0m \u001b[1;33m=\u001b[0m \u001b[0mself\u001b[0m\u001b[1;33m.\u001b[0m\u001b[0mloc\u001b[0m\u001b[1;33m.\u001b[0m\u001b[0m_get_listlike_indexer\u001b[0m\u001b[1;33m(\u001b[0m\u001b[0mkey\u001b[0m\u001b[1;33m,\u001b[0m \u001b[0maxis\u001b[0m\u001b[1;33m=\u001b[0m\u001b[1;36m1\u001b[0m\u001b[1;33m,\u001b[0m \u001b[0mraise_missing\u001b[0m\u001b[1;33m=\u001b[0m\u001b[1;32mTrue\u001b[0m\u001b[1;33m)\u001b[0m\u001b[1;33m[\u001b[0m\u001b[1;36m1\u001b[0m\u001b[1;33m]\u001b[0m\u001b[1;33m\u001b[0m\u001b[1;33m\u001b[0m\u001b[0m\n\u001b[0m\u001b[0;32m   2807\u001b[0m \u001b[1;33m\u001b[0m\u001b[0m\n\u001b[0;32m   2808\u001b[0m         \u001b[1;31m# take() does not accept boolean indexers\u001b[0m\u001b[1;33m\u001b[0m\u001b[1;33m\u001b[0m\u001b[1;33m\u001b[0m\u001b[0m\n",
      "\u001b[1;32mE:\\anaconda\\pkg\\lib\\site-packages\\pandas\\core\\indexing.py\u001b[0m in \u001b[0;36m_get_listlike_indexer\u001b[1;34m(self, key, axis, raise_missing)\u001b[0m\n\u001b[0;32m   1550\u001b[0m             \u001b[0mkeyarr\u001b[0m\u001b[1;33m,\u001b[0m \u001b[0mindexer\u001b[0m\u001b[1;33m,\u001b[0m \u001b[0mnew_indexer\u001b[0m \u001b[1;33m=\u001b[0m \u001b[0max\u001b[0m\u001b[1;33m.\u001b[0m\u001b[0m_reindex_non_unique\u001b[0m\u001b[1;33m(\u001b[0m\u001b[0mkeyarr\u001b[0m\u001b[1;33m)\u001b[0m\u001b[1;33m\u001b[0m\u001b[1;33m\u001b[0m\u001b[0m\n\u001b[0;32m   1551\u001b[0m \u001b[1;33m\u001b[0m\u001b[0m\n\u001b[1;32m-> 1552\u001b[1;33m         self._validate_read_indexer(\n\u001b[0m\u001b[0;32m   1553\u001b[0m             \u001b[0mkeyarr\u001b[0m\u001b[1;33m,\u001b[0m \u001b[0mindexer\u001b[0m\u001b[1;33m,\u001b[0m \u001b[0mo\u001b[0m\u001b[1;33m.\u001b[0m\u001b[0m_get_axis_number\u001b[0m\u001b[1;33m(\u001b[0m\u001b[0maxis\u001b[0m\u001b[1;33m)\u001b[0m\u001b[1;33m,\u001b[0m \u001b[0mraise_missing\u001b[0m\u001b[1;33m=\u001b[0m\u001b[0mraise_missing\u001b[0m\u001b[1;33m\u001b[0m\u001b[1;33m\u001b[0m\u001b[0m\n\u001b[0;32m   1554\u001b[0m         )\n",
      "\u001b[1;32mE:\\anaconda\\pkg\\lib\\site-packages\\pandas\\core\\indexing.py\u001b[0m in \u001b[0;36m_validate_read_indexer\u001b[1;34m(self, key, indexer, axis, raise_missing)\u001b[0m\n\u001b[0;32m   1644\u001b[0m             \u001b[1;32mif\u001b[0m \u001b[1;32mnot\u001b[0m \u001b[1;33m(\u001b[0m\u001b[0mself\u001b[0m\u001b[1;33m.\u001b[0m\u001b[0mname\u001b[0m \u001b[1;33m==\u001b[0m \u001b[1;34m\"loc\"\u001b[0m \u001b[1;32mand\u001b[0m \u001b[1;32mnot\u001b[0m \u001b[0mraise_missing\u001b[0m\u001b[1;33m)\u001b[0m\u001b[1;33m:\u001b[0m\u001b[1;33m\u001b[0m\u001b[1;33m\u001b[0m\u001b[0m\n\u001b[0;32m   1645\u001b[0m                 \u001b[0mnot_found\u001b[0m \u001b[1;33m=\u001b[0m \u001b[0mlist\u001b[0m\u001b[1;33m(\u001b[0m\u001b[0mset\u001b[0m\u001b[1;33m(\u001b[0m\u001b[0mkey\u001b[0m\u001b[1;33m)\u001b[0m \u001b[1;33m-\u001b[0m \u001b[0mset\u001b[0m\u001b[1;33m(\u001b[0m\u001b[0max\u001b[0m\u001b[1;33m)\u001b[0m\u001b[1;33m)\u001b[0m\u001b[1;33m\u001b[0m\u001b[1;33m\u001b[0m\u001b[0m\n\u001b[1;32m-> 1646\u001b[1;33m                 \u001b[1;32mraise\u001b[0m \u001b[0mKeyError\u001b[0m\u001b[1;33m(\u001b[0m\u001b[1;34mf\"{not_found} not in index\"\u001b[0m\u001b[1;33m)\u001b[0m\u001b[1;33m\u001b[0m\u001b[1;33m\u001b[0m\u001b[0m\n\u001b[0m\u001b[0;32m   1647\u001b[0m \u001b[1;33m\u001b[0m\u001b[0m\n\u001b[0;32m   1648\u001b[0m             \u001b[1;31m# we skip the warning on Categorical/Interval\u001b[0m\u001b[1;33m\u001b[0m\u001b[1;33m\u001b[0m\u001b[1;33m\u001b[0m\u001b[0m\n",
      "\u001b[1;31mKeyError\u001b[0m: \"['id'] not in index\""
     ]
    }
   ],
   "source": [
    "items_nums = len(df_tax_item.columns)\n",
    "categories_nums = len(df_tax_cate.columns)\n",
    "# print(\"items nums : [%d]\" % items_nums)\n",
    "# print(\"categories nums : [%d]\" % categories_nums)\n",
    "\n",
    "# TAX_ITEMS  TAXATION_BASIS  TAX_RATE  DEDUCTION  TAX_AMOUNT  TAX_DAYS \n",
    "\n",
    "for id, col in enumerate(df_tax_item.columns):\n",
    "    df_tmp = df_tax_info.groupby(['id',col]).sum()\n",
    "    df_to_merge = df_tmp[['id', 'TAXATION_BASIS', 'TAX_RATE', 'DEDUCTION', 'TAX_AMOUNT', 'TAX_DAYS']]\n",
    "    if(id == 0):\n",
    "        print(df_tmp.head())\n",
    "    # print(df_tmp)\n",
    "    # if(id == 0):\n",
    "    #     df_tax = df_tmp\n",
    "    # df_tax = pd.concat([df_tax, df_tmp], axis=1)\n",
    "\n",
    "# print(df_tax.shape)"
   ]
  },
  {
   "cell_type": "code",
   "execution_count": 31,
   "metadata": {},
   "outputs": [
    {
     "output_type": "stream",
     "name": "stdout",
     "text": [
      "                                                     id  START_DATE  \\\n0      f000950527a6feb6c2f40c9d8477e73a439dfa0897830397  2015/09/01   \n1      f000950527a6feb6c2f40c9d8477e73a439dfa0897830397  2015/09/01   \n2      f000950527a6feb6c2f40c9d8477e73a439dfa0897830397  2015/09/01   \n3      f000950527a6feb6c2f40c9d8477e73a439dfa0897830397  2015/09/01   \n4      f000950527a6feb6c2f40c9d8477e73a439dfa0897830397  2015/09/01   \n...                                                 ...         ...   \n29166  f000950527a6feb6cb8976eb56233ede461cb23103f85f32  2015/12/08   \n29173  f000950527a6feb6cb8976eb56233ede461cb23103f85f32  2015/12/08   \n29192  d8071a739aa75a3bbb9e08ebd134ae1289f194b70cac0e95  2016/07/01   \n29193  d8071a739aa75a3bbb9e08ebd134ae1289f194b70cac0e95  2016/07/01   \n29194  d8071a739aa75a3bbb9e08ebd134ae1289f194b70cac0e95  2016/07/01   \n\n         END_DATE TAX_CATEGORIES     TAX_ITEMS  TAXATION_BASIS  TAX_RATE  \\\n0      2015/09/30            印花税      工伤保险（单位）        72530.75      0.00   \n1      2015/09/30            印花税      失业保险（单位）        72530.75      0.00   \n2      2015/09/30            印花税      医疗保险（单位）        72530.75      0.00   \n3      2015/09/30            印花税  企业养老保险基金（单位）        72530.75      0.00   \n4      2015/09/30            印花税          烟叶收购        72530.75      0.00   \n...           ...            ...           ...             ...       ...   \n29166  2015/12/08            印花税           餐饮业            0.00      0.20   \n29173  2015/12/08            印花税     增消营税额（1%）            0.00      0.20   \n29192  2016/07/31            房产税          从价计征             nan       nan   \n29193  2016/07/31          个人所得税        工资薪金所得             nan       nan   \n29194  2016/07/31          个人所得税        工资薪金所得             nan       nan   \n\n       DEDUCTION  TAX_AMOUNT  \n0          -0.04       21.80  \n1          -0.04       21.80  \n2          -0.04       21.80  \n3          -0.04       21.80  \n4          -0.04       21.80  \n...          ...         ...  \n29166        nan       60.00  \n29173        nan       60.00  \n29192        nan       94.96  \n29193        nan      837.48  \n29194        nan      114.01  \n\n[5854 rows x 9 columns]\n"
     ]
    }
   ],
   "source": [
    "df_categories = df_tax_info.groupby(['id','TAX_CATEGORIES'], as_index=False)\n",
    "print(df_categories.head())\n"
   ]
  },
  {
   "cell_type": "code",
   "execution_count": 13,
   "metadata": {},
   "outputs": [
    {
     "output_type": "display_data",
     "data": {
      "text/plain": "HBox(children=(FloatProgress(value=0.0, max=9.0), HTML(value='')))",
      "application/vnd.jupyter.widget-view+json": {
       "version_major": 2,
       "version_minor": 0,
       "model_id": "d2ff274787ec499baeb24ab992089755"
      }
     },
     "metadata": {}
    },
    {
     "output_type": "stream",
     "name": "stdout",
     "text": [
      "id 808\nSTART_DATE 91\nEND_DATE 91\nTAX_CATEGORIES 17\nTAX_ITEMS 275\nTAXATION_BASIS 1666\nTAX_RATE 29\nDEDUCTION 248\nTAX_AMOUNT 4568\n\n"
     ]
    }
   ],
   "source": [
    "for col in tqdm(df_tax_info.columns):\n",
    "    print(col, df_tax_info[col].nunique(dropna=False))"
   ]
  }
 ],
 "metadata": {
  "kernelspec": {
   "display_name": "Python 3",
   "language": "python",
   "name": "python3"
  },
  "language_info": {
   "codemirror_mode": {
    "name": "ipython",
    "version": 3
   },
   "file_extension": ".py",
   "mimetype": "text/x-python",
   "name": "python",
   "nbconvert_exporter": "python",
   "pygments_lexer": "ipython3",
   "version": "3.8.3-final"
  }
 },
 "nbformat": 4,
 "nbformat_minor": 2
}