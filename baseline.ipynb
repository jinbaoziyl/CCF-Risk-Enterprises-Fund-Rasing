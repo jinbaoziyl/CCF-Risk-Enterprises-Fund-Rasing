{
 "cells": [
  {
   "cell_type": "code",
   "execution_count": 17,
   "metadata": {},
   "outputs": [],
   "source": [
    "import warnings\n",
    "warnings.simplefilter('ignore')\n",
    "\n",
    "import pandas as pd\n",
    "pd.set_option('max_columns', None)\n",
    "pd.set_option('max_rows', 100)\n",
    "pd.set_option('display.float_format',lambda x : '%.2f' % x)\n",
    "import numpy as np\n",
    "np.set_printoptions(suppress=True)\n",
    "from tqdm.notebook import tqdm\n",
    "\n",
    "%matplotlib inline\n",
    "import matplotlib.pyplot as plt\n",
    "import seaborn as sns\n",
    "\n",
    "import gc\n",
    "\n",
    "from sklearn.preprocessing import LabelEncoder\n",
    "from sklearn.model_selection import StratifiedKFold\n",
    "from sklearn.metrics import f1_score, roc_auc_score\n",
    "\n",
    "import lightgbm as lgb"
   ]
  },
  {
   "cell_type": "code",
   "execution_count": 18,
   "metadata": {},
   "outputs": [
    {
     "output_type": "stream",
     "name": "stderr",
     "text": [
      "'ls' �����ڲ����ⲿ���Ҳ���ǿ����еĳ���\n���������ļ���\n"
     ]
    }
   ],
   "source": [
    "!ls -R raw_data/"
   ]
  },
  {
   "cell_type": "code",
   "execution_count": 19,
   "metadata": {},
   "outputs": [],
   "source": [
    "t_base_info = \"./dataset/train/base_info.csv\"\n",
    "t_annual_report_info = \"./dataset/train/annual_report_info.csv\"\n",
    "t_tax_info = \"./dataset/train/tax_info.csv\"\n",
    "t_change_info = \"./dataset/train/change_info.csv\"\n",
    "t_news_info = \"./dataset/train/news_info.csv\"\n",
    "t_other_info = \"./dataset/train/other_info.csv\"\n",
    "t_entprise_info = \"./dataset/train/entprise_info.csv\" # train labeled data"
   ]
  },
  {
   "cell_type": "code",
   "execution_count": 20,
   "metadata": {},
   "outputs": [
    {
     "output_type": "stream",
     "name": "stdout",
     "text": [
      "(14865, 2)\n"
     ]
    },
    {
     "output_type": "execute_result",
     "data": {
      "text/plain": [
       "                                                 id  label\n",
       "0  59b38c56de3836831ff90a77d892a13523b7494f6ed09ff7      1\n",
       "1  da8691b210adb3f6be8064e006f220070565db287275ad38      0\n",
       "2  82750f1b9d122350918121f97c99bf96e11aa24ee91504a9      0\n",
       "3  f000950527a6feb6b2c6de6f85c1e7438ba5590be931e2ec      0\n",
       "4  f1c1045b13d1832927e3743e49d2917f2d98424f0849a373      0"
      ],
      "text/html": "<div>\n<style scoped>\n    .dataframe tbody tr th:only-of-type {\n        vertical-align: middle;\n    }\n\n    .dataframe tbody tr th {\n        vertical-align: top;\n    }\n\n    .dataframe thead th {\n        text-align: right;\n    }\n</style>\n<table border=\"1\" class=\"dataframe\">\n  <thead>\n    <tr style=\"text-align: right;\">\n      <th></th>\n      <th>id</th>\n      <th>label</th>\n    </tr>\n  </thead>\n  <tbody>\n    <tr>\n      <th>0</th>\n      <td>59b38c56de3836831ff90a77d892a13523b7494f6ed09ff7</td>\n      <td>1</td>\n    </tr>\n    <tr>\n      <th>1</th>\n      <td>da8691b210adb3f6be8064e006f220070565db287275ad38</td>\n      <td>0</td>\n    </tr>\n    <tr>\n      <th>2</th>\n      <td>82750f1b9d122350918121f97c99bf96e11aa24ee91504a9</td>\n      <td>0</td>\n    </tr>\n    <tr>\n      <th>3</th>\n      <td>f000950527a6feb6b2c6de6f85c1e7438ba5590be931e2ec</td>\n      <td>0</td>\n    </tr>\n    <tr>\n      <th>4</th>\n      <td>f1c1045b13d1832927e3743e49d2917f2d98424f0849a373</td>\n      <td>0</td>\n    </tr>\n  </tbody>\n</table>\n</div>"
     },
     "metadata": {},
     "execution_count": 20
    }
   ],
   "source": [
    "# 数据集7：entprise_info.csv\n",
    "# 带标注的企业数据。每一行代表一个企业，每一行2列，其中id列为企业唯一标识，label列为标注（1：有非法集资风险，0：无非法集资风险），列之间采用“,”分隔符分割。\n",
    "\n",
    "# 训练集 id 及标签\n",
    "\n",
    "entprise_info = pd.read_csv(t_entprise_info)\n",
    "\n",
    "print(entprise_info.shape)\n",
    "entprise_info.head()"
   ]
  },
  {
   "cell_type": "code",
   "execution_count": 21,
   "metadata": {},
   "outputs": [
    {
     "output_type": "stream",
     "name": "stdout",
     "text": [
      "(10000, 2)\n"
     ]
    },
    {
     "output_type": "execute_result",
     "data": {
      "text/plain": [
       "                                                 id  score\n",
       "0  82750f1b9d1223508ee329d47e27d35176c93eb9f35e9c1a    nan\n",
       "1  f000950527a6feb670cc1c87c2025f3922aaa4a0206a0a33    nan\n",
       "2  e9f7b28ec10e04700ef4db75a494f9a1e8e8b09555e6afa1    nan\n",
       "3  beb4aaaa89e0a0ae9d77bd5d7665be6342f552f51840cf19    nan\n",
       "4  e9f7b28ec10e0470ee4172cec0133b6826c34f27d3dff204    nan"
      ],
      "text/html": "<div>\n<style scoped>\n    .dataframe tbody tr th:only-of-type {\n        vertical-align: middle;\n    }\n\n    .dataframe tbody tr th {\n        vertical-align: top;\n    }\n\n    .dataframe thead th {\n        text-align: right;\n    }\n</style>\n<table border=\"1\" class=\"dataframe\">\n  <thead>\n    <tr style=\"text-align: right;\">\n      <th></th>\n      <th>id</th>\n      <th>score</th>\n    </tr>\n  </thead>\n  <tbody>\n    <tr>\n      <th>0</th>\n      <td>82750f1b9d1223508ee329d47e27d35176c93eb9f35e9c1a</td>\n      <td>nan</td>\n    </tr>\n    <tr>\n      <th>1</th>\n      <td>f000950527a6feb670cc1c87c2025f3922aaa4a0206a0a33</td>\n      <td>nan</td>\n    </tr>\n    <tr>\n      <th>2</th>\n      <td>e9f7b28ec10e04700ef4db75a494f9a1e8e8b09555e6afa1</td>\n      <td>nan</td>\n    </tr>\n    <tr>\n      <th>3</th>\n      <td>beb4aaaa89e0a0ae9d77bd5d7665be6342f552f51840cf19</td>\n      <td>nan</td>\n    </tr>\n    <tr>\n      <th>4</th>\n      <td>e9f7b28ec10e0470ee4172cec0133b6826c34f27d3dff204</td>\n      <td>nan</td>\n    </tr>\n  </tbody>\n</table>\n</div>"
     },
     "metadata": {},
     "execution_count": 21
    }
   ],
   "source": [
    "# 数据集8（验证集）：entprise_evaluate.csv\n",
    "# 未标注企业数据。参赛队伍需提交的最终结果数据集，每一行代表一个企业，每一行有 2 列, 其中id列为企业唯一标识，score列为空，列之间采用“,”分隔符分割。\n",
    "\n",
    "# 测试集 id\n",
    "\n",
    "entprise_evaluate = pd.read_csv('./dataset/entprise_evaluate.csv')\n",
    "\n",
    "print(entprise_evaluate.shape)\n",
    "entprise_evaluate.head()"
   ]
  },
  {
   "cell_type": "code",
   "execution_count": 23,
   "metadata": {},
   "outputs": [
    {
     "output_type": "stream",
     "name": "stdout",
     "text": [
      "(24865, 33)\n"
     ]
    },
    {
     "output_type": "execute_result",
     "data": {
      "text/plain": [
       "                                                 id  oplocdistrict  \\\n",
       "0  47645761dc56bb8c5fae00114b768b5d9b6e917c3aec07c4         340223   \n",
       "1  9c7fa510616a683058ce97d0bc768a621cd85ab1e87da2a3         340222   \n",
       "2  59b38c56de3836838082cfcb1a298951abfe15e6940c49ba         340202   \n",
       "3  e9f7b28ec10e047000d16ab79e1b5e6da434a1697cce7818         340221   \n",
       "4  f000950527a6feb63ee1ce82bb22ddd1ab8b8fdffa3b91fb         340202   \n",
       "\n",
       "  industryphy  industryco                                                dom  \\\n",
       "0           M     7513.00  31487d8f256f16bd6244b7251be2ebb24d1db51663c654...   \n",
       "1           O     8090.00  31487d8f256f16bd6244b7251be2ebb27b17bdfd95c8f3...   \n",
       "2           R     9053.00  31487d8f256f16bd6244b7251be2ebb2ae36cd652943e8...   \n",
       "3           L     7212.00  746df9aaed8578571760c563abe882c8ba25209fc6d5db...   \n",
       "4           R     8810.00  31487d8f256f16bd6244b7251be2ebb2ae36cd652943e8...   \n",
       "\n",
       "                                             opscope  enttype  enttypeitem  \\\n",
       "0  纳米新材料、机械设备、五金配件加工、销售及技术推广服务，道路货物运输。（依法须经批准的项目，...     1100      1150.00   \n",
       "1                  健身服务。（依法须经批准的项目，经相关部门批准后方可开展经营活动）     9600          nan   \n",
       "2  文化娱乐经纪人服务；境内文艺活动组织与策划；文化艺术交流活动组织策划；演出经纪；其他文化艺术...     1100      1150.00   \n",
       "3  投资管理及咨询(证券、期货除外)；企业管理。（依法须经批准的项目，经相关部门批准后方可开展经...     4500      4540.00   \n",
       "4  境内文化艺术交流活动策划；企业形象策划；礼仪庆典服务；翻译服务；专利代理；广告设计、制作、代...     1100      1130.00   \n",
       "\n",
       "                opfrom        opto  state               orgid  \\\n",
       "0  2019-07-11 00:00:00         NaN      6  340223010010000000   \n",
       "1           2017-09-06         NaN      6  340222060010000000   \n",
       "2  2020-09-14 14:46:30         NaN      6  340202010010000000   \n",
       "3           2015-09-30         NaN      6  340221010010000000   \n",
       "4           2017-12-01  2067-11-30      7  340200000000000000   \n",
       "\n",
       "                jobid  adbusign  townsign  regtype  empnum  compform  parnum  \\\n",
       "0  340200000000115392         0         0        1    5.00       nan     nan   \n",
       "1  340200000000112114         0         1        1    3.00      1.00     nan   \n",
       "2  400000000000753910         0         0        1    2.00       nan    1.00   \n",
       "3  400000000000013538         0         1        1    2.00       nan     nan   \n",
       "4  400000000000283237         0         0        1     nan       nan     nan   \n",
       "\n",
       "   exenum      opform  ptbusscope  venind  enttypeminu  midpreindcode  \\\n",
       "0     nan         NaN         nan     nan      1151.00            nan   \n",
       "1     nan          10         nan    3.00          nan            nan   \n",
       "2     nan         NaN         nan     nan      1151.00            nan   \n",
       "3     nan  01-以个人财产出资         nan     nan          nan            nan   \n",
       "4     nan         NaN         nan     nan          nan            nan   \n",
       "\n",
       "   protype                                              oploc  regcap  reccap  \\\n",
       "0      nan                                   2367b4cac96d8598   50.00     nan   \n",
       "1      nan  31487d8f256f16bd6244b7251be2ebb27b17bdfd95c8f3...   10.00     nan   \n",
       "2      nan                                   2367b4cac96d8598  100.00     nan   \n",
       "3      nan                                   2367b4cac96d8598   10.00     nan   \n",
       "4      nan                                   2367b4cac96d8598  100.00     nan   \n",
       "\n",
       "   forreccap  forregcap  congro  enttypegb  \n",
       "0        nan        nan     nan       1151  \n",
       "1        nan        nan     nan       9600  \n",
       "2        nan        nan     nan       1151  \n",
       "3        nan        nan     nan       4540  \n",
       "4        nan        nan     nan       1130  "
      ],
      "text/html": "<div>\n<style scoped>\n    .dataframe tbody tr th:only-of-type {\n        vertical-align: middle;\n    }\n\n    .dataframe tbody tr th {\n        vertical-align: top;\n    }\n\n    .dataframe thead th {\n        text-align: right;\n    }\n</style>\n<table border=\"1\" class=\"dataframe\">\n  <thead>\n    <tr style=\"text-align: right;\">\n      <th></th>\n      <th>id</th>\n      <th>oplocdistrict</th>\n      <th>industryphy</th>\n      <th>industryco</th>\n      <th>dom</th>\n      <th>opscope</th>\n      <th>enttype</th>\n      <th>enttypeitem</th>\n      <th>opfrom</th>\n      <th>opto</th>\n      <th>state</th>\n      <th>orgid</th>\n      <th>jobid</th>\n      <th>adbusign</th>\n      <th>townsign</th>\n      <th>regtype</th>\n      <th>empnum</th>\n      <th>compform</th>\n      <th>parnum</th>\n      <th>exenum</th>\n      <th>opform</th>\n      <th>ptbusscope</th>\n      <th>venind</th>\n      <th>enttypeminu</th>\n      <th>midpreindcode</th>\n      <th>protype</th>\n      <th>oploc</th>\n      <th>regcap</th>\n      <th>reccap</th>\n      <th>forreccap</th>\n      <th>forregcap</th>\n      <th>congro</th>\n      <th>enttypegb</th>\n    </tr>\n  </thead>\n  <tbody>\n    <tr>\n      <th>0</th>\n      <td>47645761dc56bb8c5fae00114b768b5d9b6e917c3aec07c4</td>\n      <td>340223</td>\n      <td>M</td>\n      <td>7513.00</td>\n      <td>31487d8f256f16bd6244b7251be2ebb24d1db51663c654...</td>\n      <td>纳米新材料、机械设备、五金配件加工、销售及技术推广服务，道路货物运输。（依法须经批准的项目，...</td>\n      <td>1100</td>\n      <td>1150.00</td>\n      <td>2019-07-11 00:00:00</td>\n      <td>NaN</td>\n      <td>6</td>\n      <td>340223010010000000</td>\n      <td>340200000000115392</td>\n      <td>0</td>\n      <td>0</td>\n      <td>1</td>\n      <td>5.00</td>\n      <td>nan</td>\n      <td>nan</td>\n      <td>nan</td>\n      <td>NaN</td>\n      <td>nan</td>\n      <td>nan</td>\n      <td>1151.00</td>\n      <td>nan</td>\n      <td>nan</td>\n      <td>2367b4cac96d8598</td>\n      <td>50.00</td>\n      <td>nan</td>\n      <td>nan</td>\n      <td>nan</td>\n      <td>nan</td>\n      <td>1151</td>\n    </tr>\n    <tr>\n      <th>1</th>\n      <td>9c7fa510616a683058ce97d0bc768a621cd85ab1e87da2a3</td>\n      <td>340222</td>\n      <td>O</td>\n      <td>8090.00</td>\n      <td>31487d8f256f16bd6244b7251be2ebb27b17bdfd95c8f3...</td>\n      <td>健身服务。（依法须经批准的项目，经相关部门批准后方可开展经营活动）</td>\n      <td>9600</td>\n      <td>nan</td>\n      <td>2017-09-06</td>\n      <td>NaN</td>\n      <td>6</td>\n      <td>340222060010000000</td>\n      <td>340200000000112114</td>\n      <td>0</td>\n      <td>1</td>\n      <td>1</td>\n      <td>3.00</td>\n      <td>1.00</td>\n      <td>nan</td>\n      <td>nan</td>\n      <td>10</td>\n      <td>nan</td>\n      <td>3.00</td>\n      <td>nan</td>\n      <td>nan</td>\n      <td>nan</td>\n      <td>31487d8f256f16bd6244b7251be2ebb27b17bdfd95c8f3...</td>\n      <td>10.00</td>\n      <td>nan</td>\n      <td>nan</td>\n      <td>nan</td>\n      <td>nan</td>\n      <td>9600</td>\n    </tr>\n    <tr>\n      <th>2</th>\n      <td>59b38c56de3836838082cfcb1a298951abfe15e6940c49ba</td>\n      <td>340202</td>\n      <td>R</td>\n      <td>9053.00</td>\n      <td>31487d8f256f16bd6244b7251be2ebb2ae36cd652943e8...</td>\n      <td>文化娱乐经纪人服务；境内文艺活动组织与策划；文化艺术交流活动组织策划；演出经纪；其他文化艺术...</td>\n      <td>1100</td>\n      <td>1150.00</td>\n      <td>2020-09-14 14:46:30</td>\n      <td>NaN</td>\n      <td>6</td>\n      <td>340202010010000000</td>\n      <td>400000000000753910</td>\n      <td>0</td>\n      <td>0</td>\n      <td>1</td>\n      <td>2.00</td>\n      <td>nan</td>\n      <td>1.00</td>\n      <td>nan</td>\n      <td>NaN</td>\n      <td>nan</td>\n      <td>nan</td>\n      <td>1151.00</td>\n      <td>nan</td>\n      <td>nan</td>\n      <td>2367b4cac96d8598</td>\n      <td>100.00</td>\n      <td>nan</td>\n      <td>nan</td>\n      <td>nan</td>\n      <td>nan</td>\n      <td>1151</td>\n    </tr>\n    <tr>\n      <th>3</th>\n      <td>e9f7b28ec10e047000d16ab79e1b5e6da434a1697cce7818</td>\n      <td>340221</td>\n      <td>L</td>\n      <td>7212.00</td>\n      <td>746df9aaed8578571760c563abe882c8ba25209fc6d5db...</td>\n      <td>投资管理及咨询(证券、期货除外)；企业管理。（依法须经批准的项目，经相关部门批准后方可开展经...</td>\n      <td>4500</td>\n      <td>4540.00</td>\n      <td>2015-09-30</td>\n      <td>NaN</td>\n      <td>6</td>\n      <td>340221010010000000</td>\n      <td>400000000000013538</td>\n      <td>0</td>\n      <td>1</td>\n      <td>1</td>\n      <td>2.00</td>\n      <td>nan</td>\n      <td>nan</td>\n      <td>nan</td>\n      <td>01-以个人财产出资</td>\n      <td>nan</td>\n      <td>nan</td>\n      <td>nan</td>\n      <td>nan</td>\n      <td>nan</td>\n      <td>2367b4cac96d8598</td>\n      <td>10.00</td>\n      <td>nan</td>\n      <td>nan</td>\n      <td>nan</td>\n      <td>nan</td>\n      <td>4540</td>\n    </tr>\n    <tr>\n      <th>4</th>\n      <td>f000950527a6feb63ee1ce82bb22ddd1ab8b8fdffa3b91fb</td>\n      <td>340202</td>\n      <td>R</td>\n      <td>8810.00</td>\n      <td>31487d8f256f16bd6244b7251be2ebb2ae36cd652943e8...</td>\n      <td>境内文化艺术交流活动策划；企业形象策划；礼仪庆典服务；翻译服务；专利代理；广告设计、制作、代...</td>\n      <td>1100</td>\n      <td>1130.00</td>\n      <td>2017-12-01</td>\n      <td>2067-11-30</td>\n      <td>7</td>\n      <td>340200000000000000</td>\n      <td>400000000000283237</td>\n      <td>0</td>\n      <td>0</td>\n      <td>1</td>\n      <td>nan</td>\n      <td>nan</td>\n      <td>nan</td>\n      <td>nan</td>\n      <td>NaN</td>\n      <td>nan</td>\n      <td>nan</td>\n      <td>nan</td>\n      <td>nan</td>\n      <td>nan</td>\n      <td>2367b4cac96d8598</td>\n      <td>100.00</td>\n      <td>nan</td>\n      <td>nan</td>\n      <td>nan</td>\n      <td>nan</td>\n      <td>1130</td>\n    </tr>\n  </tbody>\n</table>\n</div>"
     },
     "metadata": {},
     "execution_count": 23
    }
   ],
   "source": [
    "# 数据集1：base_info.csv\n",
    "# 包含数据集7和8中涉及到的所有企业的基本信息，每一行代表一个企业的基本数据，每一行有33列，其中id列为企业唯一标识，列之间采用“,”分隔符分割。\n",
    "# 数据格式如下：\n",
    "# [id:企业唯一标识, oplocdistrict:行政区划代码, industryphy:行业类别代码, industryco:行业细类代码, dom:经营地址, opscope:经营范围, enttype:企业类型, enttypeitem:企业类型小类, opfrom:经营期限起, opto:经营期限止, state:状态, orgid:机构标识, jobid:职位标识, adbusign:是否广告经营, townsign:是否城镇, regtype:主题登记类型, empnum:从业人数, compform:组织形式, parnum:合伙人数, exenum:执行人数, opform:经营方式, ptbusscope:兼营范围, venind:风险行业, enttypeminu:企业类型细类, midpreindcode:中西部优势产业代码, protype:项目类型, oploc:经营场所, regcap:注册资本（金）, reccap:实缴资本, forreccap:实缴资本（外方）, forregcap:注册资本（外方）, congro:投资总额, enttypegb:企业（机构）类型]\n",
    "\n",
    "# 基础信息表\n",
    "\n",
    "base_info = pd.read_csv(t_base_info)\n",
    "\n",
    "print(base_info.shape)\n",
    "base_info.head()"
   ]
  },
  {
   "cell_type": "code",
   "execution_count": 24,
   "metadata": {
    "scrolled": false
   },
   "outputs": [
    {
     "output_type": "display_data",
     "data": {
      "text/plain": "HBox(children=(FloatProgress(value=0.0, max=33.0), HTML(value='')))",
      "application/vnd.jupyter.widget-view+json": {
       "version_major": 2,
       "version_minor": 0,
       "model_id": "1228ad636ec8482e884ae3a9d31a8131"
      }
     },
     "metadata": {}
    },
    {
     "output_type": "stream",
     "name": "stdout",
     "text": [
      "id 24865\noplocdistrict 16\nindustryphy 20\nindustryco 346\ndom 23278\nopscope 20815\nenttype 17\nenttypeitem 32\nopfrom 6620\nopto 5747\nstate 6\norgid 78\njobid 434\nadbusign 2\ntownsign 2\nregtype 3\nempnum 63\ncompform 3\nparnum 52\nexenum 51\nopform 34\nptbusscope 1\nvenind 4\nenttypeminu 27\nmidpreindcode 1\nprotype 3\noploc 5351\nregcap 1144\nreccap 598\nforreccap 12\nforregcap 39\ncongro 34\nenttypegb 53\n\n"
     ]
    }
   ],
   "source": [
    "for col in tqdm(base_info.columns):\n",
    "    print(col, base_info[col].nunique(dropna=False))"
   ]
  },
  {
   "cell_type": "code",
   "execution_count": 25,
   "metadata": {},
   "outputs": [
    {
     "output_type": "execute_result",
     "data": {
      "text/plain": [
       "1797"
      ]
     },
     "metadata": {},
     "execution_count": 25
    }
   ],
   "source": [
    "# 去掉只有一种类别的 columns\n",
    "\n",
    "del base_info['ptbusscope']\n",
    "del base_info['midpreindcode']\n",
    "\n",
    "gc.collect()"
   ]
  },
  {
   "cell_type": "code",
   "execution_count": 26,
   "metadata": {},
   "outputs": [
    {
     "output_type": "execute_result",
     "data": {
      "text/plain": [
       "20"
      ]
     },
     "metadata": {},
     "execution_count": 26
    }
   ],
   "source": [
    "# 去掉类别太多的 columns\n",
    "\n",
    "del base_info['dom']\n",
    "del base_info['opscope']  # 后面可以分词后用 svd 抽取特征, 但感觉效果不大\n",
    "\n",
    "gc.collect()"
   ]
  },
  {
   "cell_type": "code",
   "execution_count": 9,
   "metadata": {},
   "outputs": [
    {
     "data": {
      "text/html": [
       "<div>\n",
       "<style scoped>\n",
       "    .dataframe tbody tr th:only-of-type {\n",
       "        vertical-align: middle;\n",
       "    }\n",
       "\n",
       "    .dataframe tbody tr th {\n",
       "        vertical-align: top;\n",
       "    }\n",
       "\n",
       "    .dataframe thead th {\n",
       "        text-align: right;\n",
       "    }\n",
       "</style>\n",
       "<table border=\"1\" class=\"dataframe\">\n",
       "  <thead>\n",
       "    <tr style=\"text-align: right;\">\n",
       "      <th></th>\n",
       "      <th>id</th>\n",
       "      <th>oplocdistrict</th>\n",
       "      <th>industryphy</th>\n",
       "      <th>industryco</th>\n",
       "      <th>enttype</th>\n",
       "      <th>enttypeitem</th>\n",
       "      <th>opfrom</th>\n",
       "      <th>opto</th>\n",
       "      <th>state</th>\n",
       "      <th>orgid</th>\n",
       "      <th>jobid</th>\n",
       "      <th>adbusign</th>\n",
       "      <th>townsign</th>\n",
       "      <th>regtype</th>\n",
       "      <th>empnum</th>\n",
       "      <th>compform</th>\n",
       "      <th>parnum</th>\n",
       "      <th>exenum</th>\n",
       "      <th>opform</th>\n",
       "      <th>venind</th>\n",
       "      <th>enttypeminu</th>\n",
       "      <th>protype</th>\n",
       "      <th>oploc</th>\n",
       "      <th>regcap</th>\n",
       "      <th>reccap</th>\n",
       "      <th>forreccap</th>\n",
       "      <th>forregcap</th>\n",
       "      <th>congro</th>\n",
       "      <th>enttypegb</th>\n",
       "    </tr>\n",
       "  </thead>\n",
       "  <tbody>\n",
       "    <tr>\n",
       "      <td>0</td>\n",
       "      <td>47645761dc56bb8c5fae00114b768b5d9b6e917c3aec07c4</td>\n",
       "      <td>340223</td>\n",
       "      <td>M</td>\n",
       "      <td>7513.00</td>\n",
       "      <td>1100</td>\n",
       "      <td>1150.00</td>\n",
       "      <td>2019-07-11 00:00:00</td>\n",
       "      <td>NaN</td>\n",
       "      <td>6</td>\n",
       "      <td>340223010010000000</td>\n",
       "      <td>340200000000115392</td>\n",
       "      <td>0</td>\n",
       "      <td>0</td>\n",
       "      <td>1</td>\n",
       "      <td>5.00</td>\n",
       "      <td>nan</td>\n",
       "      <td>nan</td>\n",
       "      <td>nan</td>\n",
       "      <td>NaN</td>\n",
       "      <td>nan</td>\n",
       "      <td>1151.00</td>\n",
       "      <td>nan</td>\n",
       "      <td>2367b4cac96d8598</td>\n",
       "      <td>50.00</td>\n",
       "      <td>nan</td>\n",
       "      <td>nan</td>\n",
       "      <td>nan</td>\n",
       "      <td>nan</td>\n",
       "      <td>1151</td>\n",
       "    </tr>\n",
       "    <tr>\n",
       "      <td>1</td>\n",
       "      <td>9c7fa510616a683058ce97d0bc768a621cd85ab1e87da2a3</td>\n",
       "      <td>340222</td>\n",
       "      <td>O</td>\n",
       "      <td>8090.00</td>\n",
       "      <td>9600</td>\n",
       "      <td>nan</td>\n",
       "      <td>2017-09-06</td>\n",
       "      <td>NaN</td>\n",
       "      <td>6</td>\n",
       "      <td>340222060010000000</td>\n",
       "      <td>340200000000112114</td>\n",
       "      <td>0</td>\n",
       "      <td>1</td>\n",
       "      <td>1</td>\n",
       "      <td>3.00</td>\n",
       "      <td>1.00</td>\n",
       "      <td>nan</td>\n",
       "      <td>nan</td>\n",
       "      <td>10</td>\n",
       "      <td>3.00</td>\n",
       "      <td>nan</td>\n",
       "      <td>nan</td>\n",
       "      <td>31487d8f256f16bd6244b7251be2ebb27b17bdfd95c8f3...</td>\n",
       "      <td>10.00</td>\n",
       "      <td>nan</td>\n",
       "      <td>nan</td>\n",
       "      <td>nan</td>\n",
       "      <td>nan</td>\n",
       "      <td>9600</td>\n",
       "    </tr>\n",
       "    <tr>\n",
       "      <td>2</td>\n",
       "      <td>59b38c56de3836838082cfcb1a298951abfe15e6940c49ba</td>\n",
       "      <td>340202</td>\n",
       "      <td>R</td>\n",
       "      <td>9053.00</td>\n",
       "      <td>1100</td>\n",
       "      <td>1150.00</td>\n",
       "      <td>2020-09-14 14:46:30</td>\n",
       "      <td>NaN</td>\n",
       "      <td>6</td>\n",
       "      <td>340202010010000000</td>\n",
       "      <td>400000000000753910</td>\n",
       "      <td>0</td>\n",
       "      <td>0</td>\n",
       "      <td>1</td>\n",
       "      <td>2.00</td>\n",
       "      <td>nan</td>\n",
       "      <td>1.00</td>\n",
       "      <td>nan</td>\n",
       "      <td>NaN</td>\n",
       "      <td>nan</td>\n",
       "      <td>1151.00</td>\n",
       "      <td>nan</td>\n",
       "      <td>2367b4cac96d8598</td>\n",
       "      <td>100.00</td>\n",
       "      <td>nan</td>\n",
       "      <td>nan</td>\n",
       "      <td>nan</td>\n",
       "      <td>nan</td>\n",
       "      <td>1151</td>\n",
       "    </tr>\n",
       "    <tr>\n",
       "      <td>3</td>\n",
       "      <td>e9f7b28ec10e047000d16ab79e1b5e6da434a1697cce7818</td>\n",
       "      <td>340221</td>\n",
       "      <td>L</td>\n",
       "      <td>7212.00</td>\n",
       "      <td>4500</td>\n",
       "      <td>4540.00</td>\n",
       "      <td>2015-09-30</td>\n",
       "      <td>NaN</td>\n",
       "      <td>6</td>\n",
       "      <td>340221010010000000</td>\n",
       "      <td>400000000000013538</td>\n",
       "      <td>0</td>\n",
       "      <td>1</td>\n",
       "      <td>1</td>\n",
       "      <td>2.00</td>\n",
       "      <td>nan</td>\n",
       "      <td>nan</td>\n",
       "      <td>nan</td>\n",
       "      <td>01-以个人财产出资</td>\n",
       "      <td>nan</td>\n",
       "      <td>nan</td>\n",
       "      <td>nan</td>\n",
       "      <td>2367b4cac96d8598</td>\n",
       "      <td>10.00</td>\n",
       "      <td>nan</td>\n",
       "      <td>nan</td>\n",
       "      <td>nan</td>\n",
       "      <td>nan</td>\n",
       "      <td>4540</td>\n",
       "    </tr>\n",
       "    <tr>\n",
       "      <td>4</td>\n",
       "      <td>f000950527a6feb63ee1ce82bb22ddd1ab8b8fdffa3b91fb</td>\n",
       "      <td>340202</td>\n",
       "      <td>R</td>\n",
       "      <td>8810.00</td>\n",
       "      <td>1100</td>\n",
       "      <td>1130.00</td>\n",
       "      <td>2017-12-01</td>\n",
       "      <td>2067-11-30</td>\n",
       "      <td>7</td>\n",
       "      <td>340200000000000000</td>\n",
       "      <td>400000000000283237</td>\n",
       "      <td>0</td>\n",
       "      <td>0</td>\n",
       "      <td>1</td>\n",
       "      <td>nan</td>\n",
       "      <td>nan</td>\n",
       "      <td>nan</td>\n",
       "      <td>nan</td>\n",
       "      <td>NaN</td>\n",
       "      <td>nan</td>\n",
       "      <td>nan</td>\n",
       "      <td>nan</td>\n",
       "      <td>2367b4cac96d8598</td>\n",
       "      <td>100.00</td>\n",
       "      <td>nan</td>\n",
       "      <td>nan</td>\n",
       "      <td>nan</td>\n",
       "      <td>nan</td>\n",
       "      <td>1130</td>\n",
       "    </tr>\n",
       "  </tbody>\n",
       "</table>\n",
       "</div>"
      ],
      "text/plain": [
       "                                                 id  oplocdistrict  \\\n",
       "0  47645761dc56bb8c5fae00114b768b5d9b6e917c3aec07c4         340223   \n",
       "1  9c7fa510616a683058ce97d0bc768a621cd85ab1e87da2a3         340222   \n",
       "2  59b38c56de3836838082cfcb1a298951abfe15e6940c49ba         340202   \n",
       "3  e9f7b28ec10e047000d16ab79e1b5e6da434a1697cce7818         340221   \n",
       "4  f000950527a6feb63ee1ce82bb22ddd1ab8b8fdffa3b91fb         340202   \n",
       "\n",
       "  industryphy  industryco  enttype  enttypeitem               opfrom  \\\n",
       "0           M     7513.00     1100      1150.00  2019-07-11 00:00:00   \n",
       "1           O     8090.00     9600          nan           2017-09-06   \n",
       "2           R     9053.00     1100      1150.00  2020-09-14 14:46:30   \n",
       "3           L     7212.00     4500      4540.00           2015-09-30   \n",
       "4           R     8810.00     1100      1130.00           2017-12-01   \n",
       "\n",
       "         opto  state               orgid               jobid  adbusign  \\\n",
       "0         NaN      6  340223010010000000  340200000000115392         0   \n",
       "1         NaN      6  340222060010000000  340200000000112114         0   \n",
       "2         NaN      6  340202010010000000  400000000000753910         0   \n",
       "3         NaN      6  340221010010000000  400000000000013538         0   \n",
       "4  2067-11-30      7  340200000000000000  400000000000283237         0   \n",
       "\n",
       "   townsign  regtype  empnum  compform  parnum  exenum      opform  venind  \\\n",
       "0         0        1    5.00       nan     nan     nan         NaN     nan   \n",
       "1         1        1    3.00      1.00     nan     nan          10    3.00   \n",
       "2         0        1    2.00       nan    1.00     nan         NaN     nan   \n",
       "3         1        1    2.00       nan     nan     nan  01-以个人财产出资     nan   \n",
       "4         0        1     nan       nan     nan     nan         NaN     nan   \n",
       "\n",
       "   enttypeminu  protype                                              oploc  \\\n",
       "0      1151.00      nan                                   2367b4cac96d8598   \n",
       "1          nan      nan  31487d8f256f16bd6244b7251be2ebb27b17bdfd95c8f3...   \n",
       "2      1151.00      nan                                   2367b4cac96d8598   \n",
       "3          nan      nan                                   2367b4cac96d8598   \n",
       "4          nan      nan                                   2367b4cac96d8598   \n",
       "\n",
       "   regcap  reccap  forreccap  forregcap  congro  enttypegb  \n",
       "0   50.00     nan        nan        nan     nan       1151  \n",
       "1   10.00     nan        nan        nan     nan       9600  \n",
       "2  100.00     nan        nan        nan     nan       1151  \n",
       "3   10.00     nan        nan        nan     nan       4540  \n",
       "4  100.00     nan        nan        nan     nan       1130  "
      ]
     },
     "execution_count": 9,
     "metadata": {},
     "output_type": "execute_result"
    }
   ],
   "source": [
    "base_info.head()"
   ]
  },
  {
   "cell_type": "code",
   "execution_count": 27,
   "metadata": {},
   "outputs": [
    {
     "output_type": "execute_result",
     "data": {
      "text/plain": [
       "42"
      ]
     },
     "metadata": {},
     "execution_count": 27
    }
   ],
   "source": [
    "# 时间转换, 暂时先抽取年份特征\n",
    "\n",
    "base_info['opfrom'] = pd.to_datetime(base_info.opfrom)\n",
    "base_info['opfrom_year'] = base_info['opfrom'].dt.year.astype('int')\n",
    "\n",
    "base_info['opto'] = pd.to_datetime(base_info.opto)\n",
    "base_info['opto_year'] = base_info['opto'].dt.year.fillna(-1).astype('int')\n",
    "\n",
    "del base_info['opfrom']\n",
    "del base_info['opto']\n",
    "gc.collect()"
   ]
  },
  {
   "cell_type": "code",
   "execution_count": 29,
   "metadata": {},
   "outputs": [
    {
     "output_type": "execute_result",
     "data": {
      "text/plain": [
       "                                                 id  oplocdistrict  \\\n",
       "0  47645761dc56bb8c5fae00114b768b5d9b6e917c3aec07c4         340223   \n",
       "1  9c7fa510616a683058ce97d0bc768a621cd85ab1e87da2a3         340222   \n",
       "2  59b38c56de3836838082cfcb1a298951abfe15e6940c49ba         340202   \n",
       "3  e9f7b28ec10e047000d16ab79e1b5e6da434a1697cce7818         340221   \n",
       "4  f000950527a6feb63ee1ce82bb22ddd1ab8b8fdffa3b91fb         340202   \n",
       "\n",
       "  industryphy  industryco  enttype  enttypeitem  state               orgid  \\\n",
       "0           M     7513.00     1100      1150.00      6  340223010010000000   \n",
       "1           O     8090.00     9600          nan      6  340222060010000000   \n",
       "2           R     9053.00     1100      1150.00      6  340202010010000000   \n",
       "3           L     7212.00     4500      4540.00      6  340221010010000000   \n",
       "4           R     8810.00     1100      1130.00      7  340200000000000000   \n",
       "\n",
       "                jobid  adbusign  townsign  regtype  empnum  compform  parnum  \\\n",
       "0  340200000000115392         0         0        1    5.00       nan     nan   \n",
       "1  340200000000112114         0         1        1    3.00      1.00     nan   \n",
       "2  400000000000753910         0         0        1    2.00       nan    1.00   \n",
       "3  400000000000013538         0         1        1    2.00       nan     nan   \n",
       "4  400000000000283237         0         0        1     nan       nan     nan   \n",
       "\n",
       "   exenum      opform  venind  enttypeminu  protype  \\\n",
       "0     nan         NaN     nan      1151.00      nan   \n",
       "1     nan          10    3.00          nan      nan   \n",
       "2     nan         NaN     nan      1151.00      nan   \n",
       "3     nan  01-以个人财产出资     nan          nan      nan   \n",
       "4     nan         NaN     nan          nan      nan   \n",
       "\n",
       "                                               oploc  regcap  reccap  \\\n",
       "0                                   2367b4cac96d8598   50.00     nan   \n",
       "1  31487d8f256f16bd6244b7251be2ebb27b17bdfd95c8f3...   10.00     nan   \n",
       "2                                   2367b4cac96d8598  100.00     nan   \n",
       "3                                   2367b4cac96d8598   10.00     nan   \n",
       "4                                   2367b4cac96d8598  100.00     nan   \n",
       "\n",
       "   forreccap  forregcap  congro  enttypegb  opfrom_year  opto_year  \n",
       "0        nan        nan     nan       1151         2019         -1  \n",
       "1        nan        nan     nan       9600         2017         -1  \n",
       "2        nan        nan     nan       1151         2020         -1  \n",
       "3        nan        nan     nan       4540         2015         -1  \n",
       "4        nan        nan     nan       1130         2017       2067  "
      ],
      "text/html": "<div>\n<style scoped>\n    .dataframe tbody tr th:only-of-type {\n        vertical-align: middle;\n    }\n\n    .dataframe tbody tr th {\n        vertical-align: top;\n    }\n\n    .dataframe thead th {\n        text-align: right;\n    }\n</style>\n<table border=\"1\" class=\"dataframe\">\n  <thead>\n    <tr style=\"text-align: right;\">\n      <th></th>\n      <th>id</th>\n      <th>oplocdistrict</th>\n      <th>industryphy</th>\n      <th>industryco</th>\n      <th>enttype</th>\n      <th>enttypeitem</th>\n      <th>state</th>\n      <th>orgid</th>\n      <th>jobid</th>\n      <th>adbusign</th>\n      <th>townsign</th>\n      <th>regtype</th>\n      <th>empnum</th>\n      <th>compform</th>\n      <th>parnum</th>\n      <th>exenum</th>\n      <th>opform</th>\n      <th>venind</th>\n      <th>enttypeminu</th>\n      <th>protype</th>\n      <th>oploc</th>\n      <th>regcap</th>\n      <th>reccap</th>\n      <th>forreccap</th>\n      <th>forregcap</th>\n      <th>congro</th>\n      <th>enttypegb</th>\n      <th>opfrom_year</th>\n      <th>opto_year</th>\n    </tr>\n  </thead>\n  <tbody>\n    <tr>\n      <th>0</th>\n      <td>47645761dc56bb8c5fae00114b768b5d9b6e917c3aec07c4</td>\n      <td>340223</td>\n      <td>M</td>\n      <td>7513.00</td>\n      <td>1100</td>\n      <td>1150.00</td>\n      <td>6</td>\n      <td>340223010010000000</td>\n      <td>340200000000115392</td>\n      <td>0</td>\n      <td>0</td>\n      <td>1</td>\n      <td>5.00</td>\n      <td>nan</td>\n      <td>nan</td>\n      <td>nan</td>\n      <td>NaN</td>\n      <td>nan</td>\n      <td>1151.00</td>\n      <td>nan</td>\n      <td>2367b4cac96d8598</td>\n      <td>50.00</td>\n      <td>nan</td>\n      <td>nan</td>\n      <td>nan</td>\n      <td>nan</td>\n      <td>1151</td>\n      <td>2019</td>\n      <td>-1</td>\n    </tr>\n    <tr>\n      <th>1</th>\n      <td>9c7fa510616a683058ce97d0bc768a621cd85ab1e87da2a3</td>\n      <td>340222</td>\n      <td>O</td>\n      <td>8090.00</td>\n      <td>9600</td>\n      <td>nan</td>\n      <td>6</td>\n      <td>340222060010000000</td>\n      <td>340200000000112114</td>\n      <td>0</td>\n      <td>1</td>\n      <td>1</td>\n      <td>3.00</td>\n      <td>1.00</td>\n      <td>nan</td>\n      <td>nan</td>\n      <td>10</td>\n      <td>3.00</td>\n      <td>nan</td>\n      <td>nan</td>\n      <td>31487d8f256f16bd6244b7251be2ebb27b17bdfd95c8f3...</td>\n      <td>10.00</td>\n      <td>nan</td>\n      <td>nan</td>\n      <td>nan</td>\n      <td>nan</td>\n      <td>9600</td>\n      <td>2017</td>\n      <td>-1</td>\n    </tr>\n    <tr>\n      <th>2</th>\n      <td>59b38c56de3836838082cfcb1a298951abfe15e6940c49ba</td>\n      <td>340202</td>\n      <td>R</td>\n      <td>9053.00</td>\n      <td>1100</td>\n      <td>1150.00</td>\n      <td>6</td>\n      <td>340202010010000000</td>\n      <td>400000000000753910</td>\n      <td>0</td>\n      <td>0</td>\n      <td>1</td>\n      <td>2.00</td>\n      <td>nan</td>\n      <td>1.00</td>\n      <td>nan</td>\n      <td>NaN</td>\n      <td>nan</td>\n      <td>1151.00</td>\n      <td>nan</td>\n      <td>2367b4cac96d8598</td>\n      <td>100.00</td>\n      <td>nan</td>\n      <td>nan</td>\n      <td>nan</td>\n      <td>nan</td>\n      <td>1151</td>\n      <td>2020</td>\n      <td>-1</td>\n    </tr>\n    <tr>\n      <th>3</th>\n      <td>e9f7b28ec10e047000d16ab79e1b5e6da434a1697cce7818</td>\n      <td>340221</td>\n      <td>L</td>\n      <td>7212.00</td>\n      <td>4500</td>\n      <td>4540.00</td>\n      <td>6</td>\n      <td>340221010010000000</td>\n      <td>400000000000013538</td>\n      <td>0</td>\n      <td>1</td>\n      <td>1</td>\n      <td>2.00</td>\n      <td>nan</td>\n      <td>nan</td>\n      <td>nan</td>\n      <td>01-以个人财产出资</td>\n      <td>nan</td>\n      <td>nan</td>\n      <td>nan</td>\n      <td>2367b4cac96d8598</td>\n      <td>10.00</td>\n      <td>nan</td>\n      <td>nan</td>\n      <td>nan</td>\n      <td>nan</td>\n      <td>4540</td>\n      <td>2015</td>\n      <td>-1</td>\n    </tr>\n    <tr>\n      <th>4</th>\n      <td>f000950527a6feb63ee1ce82bb22ddd1ab8b8fdffa3b91fb</td>\n      <td>340202</td>\n      <td>R</td>\n      <td>8810.00</td>\n      <td>1100</td>\n      <td>1130.00</td>\n      <td>7</td>\n      <td>340200000000000000</td>\n      <td>400000000000283237</td>\n      <td>0</td>\n      <td>0</td>\n      <td>1</td>\n      <td>nan</td>\n      <td>nan</td>\n      <td>nan</td>\n      <td>nan</td>\n      <td>NaN</td>\n      <td>nan</td>\n      <td>nan</td>\n      <td>nan</td>\n      <td>2367b4cac96d8598</td>\n      <td>100.00</td>\n      <td>nan</td>\n      <td>nan</td>\n      <td>nan</td>\n      <td>nan</td>\n      <td>1130</td>\n      <td>2017</td>\n      <td>2067</td>\n    </tr>\n  </tbody>\n</table>\n</div>"
     },
     "metadata": {},
     "execution_count": 29
    }
   ],
   "source": [
    "base_info.head()"
   ]
  },
  {
   "cell_type": "code",
   "execution_count": 12,
   "metadata": {},
   "outputs": [
    {
     "data": {
      "text/plain": [
       "id                object\n",
       "oplocdistrict      int64\n",
       "industryphy       object\n",
       "industryco       float64\n",
       "enttype            int64\n",
       "enttypeitem      float64\n",
       "state              int64\n",
       "orgid              int64\n",
       "jobid              int64\n",
       "adbusign           int64\n",
       "townsign           int64\n",
       "regtype            int64\n",
       "empnum           float64\n",
       "compform         float64\n",
       "parnum           float64\n",
       "exenum           float64\n",
       "opform            object\n",
       "venind           float64\n",
       "enttypeminu      float64\n",
       "protype          float64\n",
       "oploc             object\n",
       "regcap           float64\n",
       "reccap           float64\n",
       "forreccap        float64\n",
       "forregcap        float64\n",
       "congro           float64\n",
       "enttypegb          int64\n",
       "opfrom_year        int64\n",
       "opto_year          int64\n",
       "dtype: object"
      ]
     },
     "execution_count": 12,
     "metadata": {},
     "output_type": "execute_result"
    }
   ],
   "source": [
    "base_info.dtypes"
   ]
  },
  {
   "cell_type": "code",
   "execution_count": 30,
   "metadata": {},
   "outputs": [
    {
     "output_type": "display_data",
     "data": {
      "text/plain": "HBox(children=(FloatProgress(value=0.0, max=6.0), HTML(value='')))",
      "application/vnd.jupyter.widget-view+json": {
       "version_major": 2,
       "version_minor": 0,
       "model_id": "9d2d2ab5b3af455ba1b518d5407a42cd"
      }
     },
     "metadata": {}
    },
    {
     "output_type": "stream",
     "name": "stdout",
     "text": [
      "\n"
     ]
    }
   ],
   "source": [
    "# 类别清理\n",
    "\n",
    "for col in tqdm(['industryco', 'enttypeitem', 'compform', 'venind', \n",
    "                 'enttypeminu', 'protype']):\n",
    "    base_info[col] = base_info[col].fillna(-1).astype('int')"
   ]
  },
  {
   "cell_type": "code",
   "execution_count": 14,
   "metadata": {},
   "outputs": [
    {
     "data": {
      "text/html": [
       "<div>\n",
       "<style scoped>\n",
       "    .dataframe tbody tr th:only-of-type {\n",
       "        vertical-align: middle;\n",
       "    }\n",
       "\n",
       "    .dataframe tbody tr th {\n",
       "        vertical-align: top;\n",
       "    }\n",
       "\n",
       "    .dataframe thead th {\n",
       "        text-align: right;\n",
       "    }\n",
       "</style>\n",
       "<table border=\"1\" class=\"dataframe\">\n",
       "  <thead>\n",
       "    <tr style=\"text-align: right;\">\n",
       "      <th></th>\n",
       "      <th>count</th>\n",
       "      <th>mean</th>\n",
       "      <th>std</th>\n",
       "      <th>min</th>\n",
       "      <th>25%</th>\n",
       "      <th>50%</th>\n",
       "      <th>75%</th>\n",
       "      <th>max</th>\n",
       "    </tr>\n",
       "  </thead>\n",
       "  <tbody>\n",
       "    <tr>\n",
       "      <td>empnum</td>\n",
       "      <td>19615.00</td>\n",
       "      <td>4.40</td>\n",
       "      <td>15.39</td>\n",
       "      <td>0.00</td>\n",
       "      <td>2.00</td>\n",
       "      <td>3.00</td>\n",
       "      <td>5.00</td>\n",
       "      <td>1500.00</td>\n",
       "    </tr>\n",
       "    <tr>\n",
       "      <td>parnum</td>\n",
       "      <td>2339.00</td>\n",
       "      <td>4.59</td>\n",
       "      <td>8.75</td>\n",
       "      <td>0.00</td>\n",
       "      <td>2.00</td>\n",
       "      <td>2.00</td>\n",
       "      <td>3.00</td>\n",
       "      <td>100.00</td>\n",
       "    </tr>\n",
       "    <tr>\n",
       "      <td>exenum</td>\n",
       "      <td>1378.00</td>\n",
       "      <td>77.75</td>\n",
       "      <td>2693.74</td>\n",
       "      <td>0.00</td>\n",
       "      <td>1.00</td>\n",
       "      <td>1.00</td>\n",
       "      <td>3.00</td>\n",
       "      <td>100000.00</td>\n",
       "    </tr>\n",
       "    <tr>\n",
       "      <td>regcap</td>\n",
       "      <td>24674.00</td>\n",
       "      <td>5151.44</td>\n",
       "      <td>67770.86</td>\n",
       "      <td>0.00</td>\n",
       "      <td>15.00</td>\n",
       "      <td>80.00</td>\n",
       "      <td>500.00</td>\n",
       "      <td>5000100.00</td>\n",
       "    </tr>\n",
       "    <tr>\n",
       "      <td>reccap</td>\n",
       "      <td>7084.00</td>\n",
       "      <td>4198.17</td>\n",
       "      <td>36537.98</td>\n",
       "      <td>0.00</td>\n",
       "      <td>0.00</td>\n",
       "      <td>0.00</td>\n",
       "      <td>100.00</td>\n",
       "      <td>1278900.00</td>\n",
       "    </tr>\n",
       "    <tr>\n",
       "      <td>forreccap</td>\n",
       "      <td>227.00</td>\n",
       "      <td>292.64</td>\n",
       "      <td>1841.31</td>\n",
       "      <td>0.00</td>\n",
       "      <td>0.00</td>\n",
       "      <td>0.00</td>\n",
       "      <td>0.00</td>\n",
       "      <td>15428.17</td>\n",
       "    </tr>\n",
       "    <tr>\n",
       "      <td>forregcap</td>\n",
       "      <td>250.00</td>\n",
       "      <td>1212.58</td>\n",
       "      <td>8113.27</td>\n",
       "      <td>0.00</td>\n",
       "      <td>0.00</td>\n",
       "      <td>0.00</td>\n",
       "      <td>0.00</td>\n",
       "      <td>88817.92</td>\n",
       "    </tr>\n",
       "    <tr>\n",
       "      <td>congro</td>\n",
       "      <td>249.00</td>\n",
       "      <td>2805.26</td>\n",
       "      <td>18131.95</td>\n",
       "      <td>0.00</td>\n",
       "      <td>0.00</td>\n",
       "      <td>0.00</td>\n",
       "      <td>0.00</td>\n",
       "      <td>221453.76</td>\n",
       "    </tr>\n",
       "  </tbody>\n",
       "</table>\n",
       "</div>"
      ],
      "text/plain": [
       "             count    mean      std  min   25%   50%    75%        max\n",
       "empnum    19615.00    4.40    15.39 0.00  2.00  3.00   5.00    1500.00\n",
       "parnum     2339.00    4.59     8.75 0.00  2.00  2.00   3.00     100.00\n",
       "exenum     1378.00   77.75  2693.74 0.00  1.00  1.00   3.00  100000.00\n",
       "regcap    24674.00 5151.44 67770.86 0.00 15.00 80.00 500.00 5000100.00\n",
       "reccap     7084.00 4198.17 36537.98 0.00  0.00  0.00 100.00 1278900.00\n",
       "forreccap   227.00  292.64  1841.31 0.00  0.00  0.00   0.00   15428.17\n",
       "forregcap   250.00 1212.58  8113.27 0.00  0.00  0.00   0.00   88817.92\n",
       "congro      249.00 2805.26 18131.95 0.00  0.00  0.00   0.00  221453.76"
      ]
     },
     "execution_count": 14,
     "metadata": {},
     "output_type": "execute_result"
    }
   ],
   "source": [
    "# 数字类型\n",
    "\n",
    "base_info.select_dtypes(['float64']).describe().T"
   ]
  },
  {
   "cell_type": "code",
   "execution_count": 31,
   "metadata": {},
   "outputs": [
    {
     "output_type": "display_data",
     "data": {
      "text/plain": "HBox(children=(FloatProgress(value=0.0, max=8.0), HTML(value='')))",
      "application/vnd.jupyter.widget-view+json": {
       "version_major": 2,
       "version_minor": 0,
       "model_id": "71b3b39da64347ab84e175994466ed4f"
      }
     },
     "metadata": {}
    },
    {
     "output_type": "stream",
     "name": "stdout",
     "text": [
      "\n"
     ]
    }
   ],
   "source": [
    "# 数字类型缺失值太多, 且部分 columns std 较大, 先考虑用中值填充\n",
    "\n",
    "for col in tqdm(base_info.select_dtypes(['float64']).columns):\n",
    "    base_info[col] = base_info[col].fillna(base_info[col].median())"
   ]
  },
  {
   "cell_type": "code",
   "execution_count": 32,
   "metadata": {},
   "outputs": [
    {
     "output_type": "execute_result",
     "data": {
      "text/plain": [
       "                                                     id industryphy  \\\n",
       "0      47645761dc56bb8c5fae00114b768b5d9b6e917c3aec07c4           M   \n",
       "1      9c7fa510616a683058ce97d0bc768a621cd85ab1e87da2a3           O   \n",
       "2      59b38c56de3836838082cfcb1a298951abfe15e6940c49ba           R   \n",
       "3      e9f7b28ec10e047000d16ab79e1b5e6da434a1697cce7818           L   \n",
       "4      f000950527a6feb63ee1ce82bb22ddd1ab8b8fdffa3b91fb           R   \n",
       "...                                                 ...         ...   \n",
       "24860  f1c1045b13d18329a2bd99d2a7e2227688c0d69bf1d1e325           O   \n",
       "24861  f000950527a6feb6bde38216d7cbbf32e66d3a3a96d4dbda           J   \n",
       "24862  da8691b210adb3f65b43370d3a362f4aa1d3b16b5ba0c9d7           O   \n",
       "24863  516ab81418ed215dcbbf0614a7b929e691f8eed153d7bb31           O   \n",
       "24864  9c7fa510616a68303d3427d4bfd4b0cf3e4843f2bf3f637a           N   \n",
       "\n",
       "           opform                                              oploc  \n",
       "0             NaN                                   2367b4cac96d8598  \n",
       "1              10  31487d8f256f16bd6244b7251be2ebb27b17bdfd95c8f3...  \n",
       "2             NaN                                   2367b4cac96d8598  \n",
       "3      01-以个人财产出资                                   2367b4cac96d8598  \n",
       "4             NaN                                   2367b4cac96d8598  \n",
       "...           ...                                                ...  \n",
       "24860          10  f67c1b92f52ac52e424308ab51241cdef9be3e39c8e1c6...  \n",
       "24861         NaN                                   2367b4cac96d8598  \n",
       "24862          10                                   2367b4cac96d8598  \n",
       "24863         NaN                                   2367b4cac96d8598  \n",
       "24864          10  31487d8f256f16bd6244b7251be2ebb27b17bdfd95c8f3...  \n",
       "\n",
       "[24865 rows x 4 columns]"
      ],
      "text/html": "<div>\n<style scoped>\n    .dataframe tbody tr th:only-of-type {\n        vertical-align: middle;\n    }\n\n    .dataframe tbody tr th {\n        vertical-align: top;\n    }\n\n    .dataframe thead th {\n        text-align: right;\n    }\n</style>\n<table border=\"1\" class=\"dataframe\">\n  <thead>\n    <tr style=\"text-align: right;\">\n      <th></th>\n      <th>id</th>\n      <th>industryphy</th>\n      <th>opform</th>\n      <th>oploc</th>\n    </tr>\n  </thead>\n  <tbody>\n    <tr>\n      <th>0</th>\n      <td>47645761dc56bb8c5fae00114b768b5d9b6e917c3aec07c4</td>\n      <td>M</td>\n      <td>NaN</td>\n      <td>2367b4cac96d8598</td>\n    </tr>\n    <tr>\n      <th>1</th>\n      <td>9c7fa510616a683058ce97d0bc768a621cd85ab1e87da2a3</td>\n      <td>O</td>\n      <td>10</td>\n      <td>31487d8f256f16bd6244b7251be2ebb27b17bdfd95c8f3...</td>\n    </tr>\n    <tr>\n      <th>2</th>\n      <td>59b38c56de3836838082cfcb1a298951abfe15e6940c49ba</td>\n      <td>R</td>\n      <td>NaN</td>\n      <td>2367b4cac96d8598</td>\n    </tr>\n    <tr>\n      <th>3</th>\n      <td>e9f7b28ec10e047000d16ab79e1b5e6da434a1697cce7818</td>\n      <td>L</td>\n      <td>01-以个人财产出资</td>\n      <td>2367b4cac96d8598</td>\n    </tr>\n    <tr>\n      <th>4</th>\n      <td>f000950527a6feb63ee1ce82bb22ddd1ab8b8fdffa3b91fb</td>\n      <td>R</td>\n      <td>NaN</td>\n      <td>2367b4cac96d8598</td>\n    </tr>\n    <tr>\n      <th>...</th>\n      <td>...</td>\n      <td>...</td>\n      <td>...</td>\n      <td>...</td>\n    </tr>\n    <tr>\n      <th>24860</th>\n      <td>f1c1045b13d18329a2bd99d2a7e2227688c0d69bf1d1e325</td>\n      <td>O</td>\n      <td>10</td>\n      <td>f67c1b92f52ac52e424308ab51241cdef9be3e39c8e1c6...</td>\n    </tr>\n    <tr>\n      <th>24861</th>\n      <td>f000950527a6feb6bde38216d7cbbf32e66d3a3a96d4dbda</td>\n      <td>J</td>\n      <td>NaN</td>\n      <td>2367b4cac96d8598</td>\n    </tr>\n    <tr>\n      <th>24862</th>\n      <td>da8691b210adb3f65b43370d3a362f4aa1d3b16b5ba0c9d7</td>\n      <td>O</td>\n      <td>10</td>\n      <td>2367b4cac96d8598</td>\n    </tr>\n    <tr>\n      <th>24863</th>\n      <td>516ab81418ed215dcbbf0614a7b929e691f8eed153d7bb31</td>\n      <td>O</td>\n      <td>NaN</td>\n      <td>2367b4cac96d8598</td>\n    </tr>\n    <tr>\n      <th>24864</th>\n      <td>9c7fa510616a68303d3427d4bfd4b0cf3e4843f2bf3f637a</td>\n      <td>N</td>\n      <td>10</td>\n      <td>31487d8f256f16bd6244b7251be2ebb27b17bdfd95c8f3...</td>\n    </tr>\n  </tbody>\n</table>\n<p>24865 rows × 4 columns</p>\n</div>"
     },
     "metadata": {},
     "execution_count": 32
    }
   ],
   "source": [
    "# object 类型\n",
    "\n",
    "base_info.select_dtypes(['object'])"
   ]
  },
  {
   "cell_type": "code",
   "execution_count": 33,
   "metadata": {},
   "outputs": [],
   "source": [
    "# 数据清理\n",
    "\n",
    "base_info['opform'] = base_info['opform'].replace('01', '01-以个人财产出资').replace('02', '02-以家庭共有财产作为个人出资')"
   ]
  },
  {
   "cell_type": "code",
   "execution_count": 35,
   "metadata": {
    "tags": []
   },
   "outputs": [
    {
     "output_type": "display_data",
     "data": {
      "text/plain": "HBox(children=(FloatProgress(value=0.0, max=10.0), HTML(value='')))",
      "application/vnd.jupyter.widget-view+json": {
       "version_major": 2,
       "version_minor": 0,
       "model_id": "e7a5e110121846b791523681ec3bd443"
      }
     },
     "metadata": {}
    },
    {
     "output_type": "stream",
     "name": "stdout",
     "text": [
      "0         4\n",
      "1         6\n",
      "2         9\n",
      "3         3\n",
      "4         9\n",
      "         ..\n",
      "24860     6\n",
      "24861    19\n",
      "24862     6\n",
      "24863     6\n",
      "24864     5\n",
      "Name: industryphy, Length: 24865, dtype: int32\n",
      "0        26\n",
      "1        23\n",
      "2        26\n",
      "3         1\n",
      "4        26\n",
      "         ..\n",
      "24860    23\n",
      "24861    26\n",
      "24862    23\n",
      "24863    26\n",
      "24864    23\n",
      "Name: opform, Length: 24865, dtype: int32\n",
      "0          91\n",
      "1        1100\n",
      "2          91\n",
      "3          91\n",
      "4          91\n",
      "         ... \n",
      "24860    4362\n",
      "24861      91\n",
      "24862      91\n",
      "24863      91\n",
      "24864     964\n",
      "Name: oploc, Length: 24865, dtype: int32\n",
      "0        59\n",
      "1        54\n",
      "2        26\n",
      "3        46\n",
      "4         1\n",
      "         ..\n",
      "24860    14\n",
      "24861     1\n",
      "24862    41\n",
      "24863    10\n",
      "24864    55\n",
      "Name: orgid, Length: 24865, dtype: int32\n",
      "0         16\n",
      "1        392\n",
      "2        360\n",
      "3        248\n",
      "4        275\n",
      "        ... \n",
      "24860    185\n",
      "24861     19\n",
      "24862     15\n",
      "24863    225\n",
      "24864    131\n",
      "Name: jobid, Length: 24865, dtype: int32\n",
      "0         2\n",
      "1        15\n",
      "2         9\n",
      "3        14\n",
      "4         9\n",
      "         ..\n",
      "24860     4\n",
      "24861    12\n",
      "24862    12\n",
      "24863     4\n",
      "24864    15\n",
      "Name: oplocdistrict, Length: 24865, dtype: int32\n",
      "0        49\n",
      "1        48\n",
      "2        49\n",
      "3        33\n",
      "4        34\n",
      "         ..\n",
      "24860    48\n",
      "24861    32\n",
      "24862    48\n",
      "24863    34\n",
      "24864    48\n",
      "Name: enttypegb, Length: 24865, dtype: int32\n",
      "0        110\n",
      "1        162\n",
      "2        265\n",
      "3         47\n",
      "4        238\n",
      "        ... \n",
      "24860    172\n",
      "24861     29\n",
      "24862    164\n",
      "24863    162\n",
      "24864    140\n",
      "Name: industryco, Length: 24865, dtype: int32\n",
      "0         0\n",
      "1         8\n",
      "2         0\n",
      "3        16\n",
      "4         0\n",
      "         ..\n",
      "24860     8\n",
      "24861    16\n",
      "24862     8\n",
      "24863     0\n",
      "24864     8\n",
      "Name: enttype, Length: 24865, dtype: int32\n",
      "0        27\n",
      "1         0\n",
      "2        27\n",
      "3        11\n",
      "4        23\n",
      "         ..\n",
      "24860     0\n",
      "24861    10\n",
      "24862     0\n",
      "24863    23\n",
      "24864    25\n",
      "Name: enttypeitem, Length: 24865, dtype: int32\n",
      "\n"
     ]
    }
   ],
   "source": [
    "# 数据比较长尾, label encoding 和 freq 处理\n",
    "\n",
    "for col in tqdm(['industryphy', 'opform', 'oploc', 'orgid', 'jobid', 'oplocdistrict',\n",
    "                 'enttypegb', 'industryco', 'enttype', 'enttypeitem']):\n",
    "    lbl = LabelEncoder()\n",
    "    base_info[col] = lbl.fit_transform(base_info[col].astype(str))\n",
    "    vc = base_info[col].value_counts(dropna=True, normalize=True).to_dict()\n",
    "    base_info[f'{col}_freq'] = base_info[col].map(vc)\n",
    "#     base_info[col] = base_info[col].map(vc)"
   ]
  },
  {
   "cell_type": "code",
   "execution_count": 36,
   "metadata": {},
   "outputs": [
    {
     "output_type": "execute_result",
     "data": {
      "text/plain": [
       "1471"
      ]
     },
     "metadata": {},
     "execution_count": 36
    }
   ],
   "source": [
    "# 通过上一次模型的重要度输出发现的分裂次数为 0 的特征\n",
    "\n",
    "del base_info['forreccap']\n",
    "del base_info['forregcap']\n",
    "del base_info['protype']\n",
    "del base_info['congro']\n",
    "\n",
    "gc.collect()"
   ]
  },
  {
   "cell_type": "code",
   "execution_count": 20,
   "metadata": {},
   "outputs": [
    {
     "name": "stdout",
     "output_type": "stream",
     "text": [
      "<class 'pandas.core.frame.DataFrame'>\n",
      "RangeIndex: 24865 entries, 0 to 24864\n",
      "Data columns (total 35 columns):\n",
      "id                    24865 non-null object\n",
      "oplocdistrict         24865 non-null int64\n",
      "industryphy           24865 non-null int64\n",
      "industryco            24865 non-null int64\n",
      "enttype               24865 non-null int64\n",
      "enttypeitem           24865 non-null int64\n",
      "state                 24865 non-null int64\n",
      "orgid                 24865 non-null int64\n",
      "jobid                 24865 non-null int64\n",
      "adbusign              24865 non-null int64\n",
      "townsign              24865 non-null int64\n",
      "regtype               24865 non-null int64\n",
      "empnum                24865 non-null float64\n",
      "compform              24865 non-null int64\n",
      "parnum                24865 non-null float64\n",
      "exenum                24865 non-null float64\n",
      "opform                24865 non-null int64\n",
      "venind                24865 non-null int64\n",
      "enttypeminu           24865 non-null int64\n",
      "oploc                 24865 non-null int64\n",
      "regcap                24865 non-null float64\n",
      "reccap                24865 non-null float64\n",
      "enttypegb             24865 non-null int64\n",
      "opfrom_year           24865 non-null int64\n",
      "opto_year             24865 non-null int64\n",
      "industryphy_freq      24865 non-null float64\n",
      "opform_freq           24865 non-null float64\n",
      "oploc_freq            24865 non-null float64\n",
      "orgid_freq            24865 non-null float64\n",
      "jobid_freq            24865 non-null float64\n",
      "oplocdistrict_freq    24865 non-null float64\n",
      "enttypegb_freq        24865 non-null float64\n",
      "industryco_freq       24865 non-null float64\n",
      "enttype_freq          24865 non-null float64\n",
      "enttypeitem_freq      24865 non-null float64\n",
      "dtypes: float64(15), int64(19), object(1)\n",
      "memory usage: 6.6+ MB\n"
     ]
    }
   ],
   "source": [
    "base_info.info()"
   ]
  },
  {
   "cell_type": "code",
   "execution_count": 39,
   "metadata": {},
   "outputs": [
    {
     "output_type": "stream",
     "name": "stdout",
     "text": [
      "                                                 id  ANCHEYEAR  STATE  FUNDAM  \\\n0  9c7fa510616a683058ce97d0bc768a621cd85ab1e87da2a3    2017.00   2.00    5.00   \n1  9c7fa510616a683058ce97d0bc768a621cd85ab1e87da2a3    2018.00   2.00    2.00   \n2  f000950527a6feb63ee1ce82bb22ddd1ab8b8fdffa3b91fb    2017.00   2.00     nan   \n3  f000950527a6feb63ee1ce82bb22ddd1ab8b8fdffa3b91fb    2018.00   2.00     nan   \n4  9c7fa510616a68309e4badf2a7a3123c0462fb85bf28ef17    2017.00   2.00    5.00   \n\n   MEMNUM  FARNUM  ANNNEWMEMNUM  ANNREDMEMNUM  EMPNUM  EMPNUMSIGN BUSSTNAME  \\\n0     nan     nan           nan           nan   10.00         nan       NaN   \n1     nan     nan           nan           nan    2.00         nan       NaN   \n2     nan     nan           nan           nan    4.00        2.00        开业   \n3     nan     nan           nan           nan    3.00        2.00        开业   \n4     nan     nan           nan           nan   10.00         nan       NaN   \n\n   COLGRANUM  RETSOLNUM  DISPERNUM  UNENUM  COLEMPLNUM  RETEMPLNUM  \\\n0       0.00       0.00       0.00    0.00        0.00        0.00   \n1       0.00       0.00       0.00    0.00        0.00        0.00   \n2       3.00       0.00       0.00    0.00        1.00        0.00   \n3       1.00       0.00       0.00    0.00        2.00        0.00   \n4       0.00       0.00       0.00    0.00        0.00        0.00   \n\n   DISEMPLNUM  UNEEMPLNUM  WEBSITSIGN  FORINVESTSIGN  STOCKTRANSIGN  PUBSTATE  \n0        0.00        0.00        2.00            nan            nan      3.00  \n1        0.00        0.00        2.00            nan            nan      3.00  \n2        0.00        0.00        2.00           2.00           2.00      3.00  \n3        0.00        0.00        2.00           2.00           2.00      3.00  \n4        0.00        0.00        2.00            nan            nan      3.00  \n"
     ]
    },
    {
     "output_type": "display_data",
     "data": {
      "text/plain": "HBox(children=(FloatProgress(value=0.0, max=23.0), HTML(value='')))",
      "application/vnd.jupyter.widget-view+json": {
       "version_major": 2,
       "version_minor": 0,
       "model_id": "a8434e3370734d4c8a367194d4c72d3a"
      }
     },
     "metadata": {}
    },
    {
     "output_type": "stream",
     "name": "stdout",
     "text": [
      "id 8937\nANCHEYEAR 4\nSTATE 3\nFUNDAM 168\nMEMNUM 6\nFARNUM 7\nANNNEWMEMNUM 4\nANNREDMEMNUM 2\nEMPNUM 271\nEMPNUMSIGN 3\nBUSSTNAME 5\nCOLGRANUM 44\nRETSOLNUM 15\nDISPERNUM 6\nUNENUM 36\nCOLEMPLNUM 95\nRETEMPLNUM 27\nDISEMPLNUM 17\nUNEEMPLNUM 73\nWEBSITSIGN 3\nFORINVESTSIGN 3\nSTOCKTRANSIGN 3\nPUBSTATE 4\n\n"
     ]
    }
   ],
   "source": [
    "df_anreport_info = pd.read_csv(t_annual_report_info, header=0)\n",
    "print(df_anreport_info.head())\n",
    "\n",
    "for col in tqdm(df_anreport_info.columns):\n",
    "    print(col, df_anreport_info[col].nunique(dropna=False))\n",
    "\n",
    "gc.collect()"
   ]
  },
  {
   "cell_type": "code",
   "execution_count": 46,
   "metadata": {},
   "outputs": [
    {
     "output_type": "execute_result",
     "data": {
      "text/plain": [
       "id                object\n",
       "ANCHEYEAR        float64\n",
       "STATE            float64\n",
       "FUNDAM           float64\n",
       "MEMNUM           float64\n",
       "FARNUM           float64\n",
       "ANNNEWMEMNUM     float64\n",
       "ANNREDMEMNUM     float64\n",
       "EMPNUM           float64\n",
       "EMPNUMSIGN       float64\n",
       "COLGRANUM        float64\n",
       "RETSOLNUM        float64\n",
       "DISPERNUM        float64\n",
       "UNENUM           float64\n",
       "COLEMPLNUM       float64\n",
       "RETEMPLNUM       float64\n",
       "DISEMPLNUM       float64\n",
       "UNEEMPLNUM       float64\n",
       "WEBSITSIGN       float64\n",
       "FORINVESTSIGN    float64\n",
       "STOCKTRANSIGN    float64\n",
       "PUBSTATE         float64\n",
       "busstname_停业       uint8\n",
       "busstname_开业       uint8\n",
       "busstname_歇业       uint8\n",
       "busstname_清算       uint8\n",
       "dtype: object"
      ]
     },
     "metadata": {},
     "execution_count": 46
    }
   ],
   "source": [
    "df_anreport_info.dtypes"
   ]
  },
  {
   "cell_type": "code",
   "execution_count": 47,
   "metadata": {},
   "outputs": [
    {
     "output_type": "error",
     "ename": "KeyError",
     "evalue": "'BUSSTNAME'",
     "traceback": [
      "\u001b[1;31m---------------------------------------------------------------------------\u001b[0m",
      "\u001b[1;31mKeyError\u001b[0m                                  Traceback (most recent call last)",
      "\u001b[1;32mE:\\anaconda\\pkg\\lib\\site-packages\\pandas\\core\\indexes\\base.py\u001b[0m in \u001b[0;36mget_loc\u001b[1;34m(self, key, method, tolerance)\u001b[0m\n\u001b[0;32m   2645\u001b[0m             \u001b[1;32mtry\u001b[0m\u001b[1;33m:\u001b[0m\u001b[1;33m\u001b[0m\u001b[1;33m\u001b[0m\u001b[0m\n\u001b[1;32m-> 2646\u001b[1;33m                 \u001b[1;32mreturn\u001b[0m \u001b[0mself\u001b[0m\u001b[1;33m.\u001b[0m\u001b[0m_engine\u001b[0m\u001b[1;33m.\u001b[0m\u001b[0mget_loc\u001b[0m\u001b[1;33m(\u001b[0m\u001b[0mkey\u001b[0m\u001b[1;33m)\u001b[0m\u001b[1;33m\u001b[0m\u001b[1;33m\u001b[0m\u001b[0m\n\u001b[0m\u001b[0;32m   2647\u001b[0m             \u001b[1;32mexcept\u001b[0m \u001b[0mKeyError\u001b[0m\u001b[1;33m:\u001b[0m\u001b[1;33m\u001b[0m\u001b[1;33m\u001b[0m\u001b[0m\n",
      "\u001b[1;32mpandas\\_libs\\index.pyx\u001b[0m in \u001b[0;36mpandas._libs.index.IndexEngine.get_loc\u001b[1;34m()\u001b[0m\n",
      "\u001b[1;32mpandas\\_libs\\index.pyx\u001b[0m in \u001b[0;36mpandas._libs.index.IndexEngine.get_loc\u001b[1;34m()\u001b[0m\n",
      "\u001b[1;32mpandas\\_libs\\hashtable_class_helper.pxi\u001b[0m in \u001b[0;36mpandas._libs.hashtable.PyObjectHashTable.get_item\u001b[1;34m()\u001b[0m\n",
      "\u001b[1;32mpandas\\_libs\\hashtable_class_helper.pxi\u001b[0m in \u001b[0;36mpandas._libs.hashtable.PyObjectHashTable.get_item\u001b[1;34m()\u001b[0m\n",
      "\u001b[1;31mKeyError\u001b[0m: 'BUSSTNAME'",
      "\nDuring handling of the above exception, another exception occurred:\n",
      "\u001b[1;31mKeyError\u001b[0m                                  Traceback (most recent call last)",
      "\u001b[1;32m<ipython-input-47-571d99668e63>\u001b[0m in \u001b[0;36m<module>\u001b[1;34m\u001b[0m\n\u001b[1;32m----> 1\u001b[1;33m \u001b[0mdf_af\u001b[0m \u001b[1;33m=\u001b[0m \u001b[0mpd\u001b[0m\u001b[1;33m.\u001b[0m\u001b[0mget_dummies\u001b[0m\u001b[1;33m(\u001b[0m\u001b[0mdf_anreport_info\u001b[0m\u001b[1;33m[\u001b[0m\u001b[1;34m'BUSSTNAME'\u001b[0m\u001b[1;33m]\u001b[0m\u001b[1;33m,\u001b[0m \u001b[0mprefix\u001b[0m\u001b[1;33m=\u001b[0m\u001b[1;34m'busstname'\u001b[0m\u001b[1;33m)\u001b[0m\u001b[1;33m\u001b[0m\u001b[1;33m\u001b[0m\u001b[0m\n\u001b[0m\u001b[0;32m      2\u001b[0m \u001b[0mprint\u001b[0m\u001b[1;33m(\u001b[0m\u001b[0mdf_af\u001b[0m\u001b[1;33m)\u001b[0m\u001b[1;33m\u001b[0m\u001b[1;33m\u001b[0m\u001b[0m\n",
      "\u001b[1;32mE:\\anaconda\\pkg\\lib\\site-packages\\pandas\\core\\frame.py\u001b[0m in \u001b[0;36m__getitem__\u001b[1;34m(self, key)\u001b[0m\n\u001b[0;32m   2798\u001b[0m             \u001b[1;32mif\u001b[0m \u001b[0mself\u001b[0m\u001b[1;33m.\u001b[0m\u001b[0mcolumns\u001b[0m\u001b[1;33m.\u001b[0m\u001b[0mnlevels\u001b[0m \u001b[1;33m>\u001b[0m \u001b[1;36m1\u001b[0m\u001b[1;33m:\u001b[0m\u001b[1;33m\u001b[0m\u001b[1;33m\u001b[0m\u001b[0m\n\u001b[0;32m   2799\u001b[0m                 \u001b[1;32mreturn\u001b[0m \u001b[0mself\u001b[0m\u001b[1;33m.\u001b[0m\u001b[0m_getitem_multilevel\u001b[0m\u001b[1;33m(\u001b[0m\u001b[0mkey\u001b[0m\u001b[1;33m)\u001b[0m\u001b[1;33m\u001b[0m\u001b[1;33m\u001b[0m\u001b[0m\n\u001b[1;32m-> 2800\u001b[1;33m             \u001b[0mindexer\u001b[0m \u001b[1;33m=\u001b[0m \u001b[0mself\u001b[0m\u001b[1;33m.\u001b[0m\u001b[0mcolumns\u001b[0m\u001b[1;33m.\u001b[0m\u001b[0mget_loc\u001b[0m\u001b[1;33m(\u001b[0m\u001b[0mkey\u001b[0m\u001b[1;33m)\u001b[0m\u001b[1;33m\u001b[0m\u001b[1;33m\u001b[0m\u001b[0m\n\u001b[0m\u001b[0;32m   2801\u001b[0m             \u001b[1;32mif\u001b[0m \u001b[0mis_integer\u001b[0m\u001b[1;33m(\u001b[0m\u001b[0mindexer\u001b[0m\u001b[1;33m)\u001b[0m\u001b[1;33m:\u001b[0m\u001b[1;33m\u001b[0m\u001b[1;33m\u001b[0m\u001b[0m\n\u001b[0;32m   2802\u001b[0m                 \u001b[0mindexer\u001b[0m \u001b[1;33m=\u001b[0m \u001b[1;33m[\u001b[0m\u001b[0mindexer\u001b[0m\u001b[1;33m]\u001b[0m\u001b[1;33m\u001b[0m\u001b[1;33m\u001b[0m\u001b[0m\n",
      "\u001b[1;32mE:\\anaconda\\pkg\\lib\\site-packages\\pandas\\core\\indexes\\base.py\u001b[0m in \u001b[0;36mget_loc\u001b[1;34m(self, key, method, tolerance)\u001b[0m\n\u001b[0;32m   2646\u001b[0m                 \u001b[1;32mreturn\u001b[0m \u001b[0mself\u001b[0m\u001b[1;33m.\u001b[0m\u001b[0m_engine\u001b[0m\u001b[1;33m.\u001b[0m\u001b[0mget_loc\u001b[0m\u001b[1;33m(\u001b[0m\u001b[0mkey\u001b[0m\u001b[1;33m)\u001b[0m\u001b[1;33m\u001b[0m\u001b[1;33m\u001b[0m\u001b[0m\n\u001b[0;32m   2647\u001b[0m             \u001b[1;32mexcept\u001b[0m \u001b[0mKeyError\u001b[0m\u001b[1;33m:\u001b[0m\u001b[1;33m\u001b[0m\u001b[1;33m\u001b[0m\u001b[0m\n\u001b[1;32m-> 2648\u001b[1;33m                 \u001b[1;32mreturn\u001b[0m \u001b[0mself\u001b[0m\u001b[1;33m.\u001b[0m\u001b[0m_engine\u001b[0m\u001b[1;33m.\u001b[0m\u001b[0mget_loc\u001b[0m\u001b[1;33m(\u001b[0m\u001b[0mself\u001b[0m\u001b[1;33m.\u001b[0m\u001b[0m_maybe_cast_indexer\u001b[0m\u001b[1;33m(\u001b[0m\u001b[0mkey\u001b[0m\u001b[1;33m)\u001b[0m\u001b[1;33m)\u001b[0m\u001b[1;33m\u001b[0m\u001b[1;33m\u001b[0m\u001b[0m\n\u001b[0m\u001b[0;32m   2649\u001b[0m         \u001b[0mindexer\u001b[0m \u001b[1;33m=\u001b[0m \u001b[0mself\u001b[0m\u001b[1;33m.\u001b[0m\u001b[0mget_indexer\u001b[0m\u001b[1;33m(\u001b[0m\u001b[1;33m[\u001b[0m\u001b[0mkey\u001b[0m\u001b[1;33m]\u001b[0m\u001b[1;33m,\u001b[0m \u001b[0mmethod\u001b[0m\u001b[1;33m=\u001b[0m\u001b[0mmethod\u001b[0m\u001b[1;33m,\u001b[0m \u001b[0mtolerance\u001b[0m\u001b[1;33m=\u001b[0m\u001b[0mtolerance\u001b[0m\u001b[1;33m)\u001b[0m\u001b[1;33m\u001b[0m\u001b[1;33m\u001b[0m\u001b[0m\n\u001b[0;32m   2650\u001b[0m         \u001b[1;32mif\u001b[0m \u001b[0mindexer\u001b[0m\u001b[1;33m.\u001b[0m\u001b[0mndim\u001b[0m \u001b[1;33m>\u001b[0m \u001b[1;36m1\u001b[0m \u001b[1;32mor\u001b[0m \u001b[0mindexer\u001b[0m\u001b[1;33m.\u001b[0m\u001b[0msize\u001b[0m \u001b[1;33m>\u001b[0m \u001b[1;36m1\u001b[0m\u001b[1;33m:\u001b[0m\u001b[1;33m\u001b[0m\u001b[1;33m\u001b[0m\u001b[0m\n",
      "\u001b[1;32mpandas\\_libs\\index.pyx\u001b[0m in \u001b[0;36mpandas._libs.index.IndexEngine.get_loc\u001b[1;34m()\u001b[0m\n",
      "\u001b[1;32mpandas\\_libs\\index.pyx\u001b[0m in \u001b[0;36mpandas._libs.index.IndexEngine.get_loc\u001b[1;34m()\u001b[0m\n",
      "\u001b[1;32mpandas\\_libs\\hashtable_class_helper.pxi\u001b[0m in \u001b[0;36mpandas._libs.hashtable.PyObjectHashTable.get_item\u001b[1;34m()\u001b[0m\n",
      "\u001b[1;32mpandas\\_libs\\hashtable_class_helper.pxi\u001b[0m in \u001b[0;36mpandas._libs.hashtable.PyObjectHashTable.get_item\u001b[1;34m()\u001b[0m\n",
      "\u001b[1;31mKeyError\u001b[0m: 'BUSSTNAME'"
     ]
    }
   ],
   "source": [
    "df_af = pd.get_dummies(df_anreport_info['BUSSTNAME'], prefix='busstname')  \n",
    "print(df_af)  "
   ]
  },
  {
   "cell_type": "code",
   "execution_count": 43,
   "metadata": {},
   "outputs": [
    {
     "output_type": "stream",
     "name": "stdout",
     "text": [
      "id                object\nANCHEYEAR        float64\nSTATE            float64\nFUNDAM           float64\nMEMNUM           float64\nFARNUM           float64\nANNNEWMEMNUM     float64\nANNREDMEMNUM     float64\nEMPNUM           float64\nEMPNUMSIGN       float64\nCOLGRANUM        float64\nRETSOLNUM        float64\nDISPERNUM        float64\nUNENUM           float64\nCOLEMPLNUM       float64\nRETEMPLNUM       float64\nDISEMPLNUM       float64\nUNEEMPLNUM       float64\nWEBSITSIGN       float64\nFORINVESTSIGN    float64\nSTOCKTRANSIGN    float64\nPUBSTATE         float64\nbusstname_停业       uint8\nbusstname_开业       uint8\nbusstname_歇业       uint8\nbusstname_清算       uint8\ndtype: object\n                                                 id  ANCHEYEAR  STATE  FUNDAM  \\\n0  9c7fa510616a683058ce97d0bc768a621cd85ab1e87da2a3    2017.00   2.00    5.00   \n1  9c7fa510616a683058ce97d0bc768a621cd85ab1e87da2a3    2018.00   2.00    2.00   \n2  f000950527a6feb63ee1ce82bb22ddd1ab8b8fdffa3b91fb    2017.00   2.00     nan   \n3  f000950527a6feb63ee1ce82bb22ddd1ab8b8fdffa3b91fb    2018.00   2.00     nan   \n4  9c7fa510616a68309e4badf2a7a3123c0462fb85bf28ef17    2017.00   2.00    5.00   \n\n   MEMNUM  FARNUM  ANNNEWMEMNUM  ANNREDMEMNUM  EMPNUM  EMPNUMSIGN  COLGRANUM  \\\n0     nan     nan           nan           nan   10.00         nan       0.00   \n1     nan     nan           nan           nan    2.00         nan       0.00   \n2     nan     nan           nan           nan    4.00        2.00       3.00   \n3     nan     nan           nan           nan    3.00        2.00       1.00   \n4     nan     nan           nan           nan   10.00         nan       0.00   \n\n   RETSOLNUM  DISPERNUM  UNENUM  COLEMPLNUM  RETEMPLNUM  DISEMPLNUM  \\\n0       0.00       0.00    0.00        0.00        0.00        0.00   \n1       0.00       0.00    0.00        0.00        0.00        0.00   \n2       0.00       0.00    0.00        1.00        0.00        0.00   \n3       0.00       0.00    0.00        2.00        0.00        0.00   \n4       0.00       0.00    0.00        0.00        0.00        0.00   \n\n   UNEEMPLNUM  WEBSITSIGN  FORINVESTSIGN  STOCKTRANSIGN  PUBSTATE  \\\n0        0.00        2.00            nan            nan      3.00   \n1        0.00        2.00            nan            nan      3.00   \n2        0.00        2.00           2.00           2.00      3.00   \n3        0.00        2.00           2.00           2.00      3.00   \n4        0.00        2.00            nan            nan      3.00   \n\n   busstname_停业  busstname_开业  busstname_歇业  busstname_清算  \n0             0             0             0             0  \n1             0             0             0             0  \n2             0             1             0             0  \n3             0             1             0             0  \n4             0             0             0             0  \n"
     ]
    }
   ],
   "source": [
    "df_anreport_info = pd.concat([df_anreport_info, df_af], axis=1)\n",
    "del df_anreport_info['BUSSTNAME']\n",
    "print(df_anreport_info.dtypes)\n",
    "print(df_anreport_info.head())\n"
   ]
  },
  {
   "cell_type": "code",
   "execution_count": null,
   "metadata": {},
   "outputs": [],
   "source": []
  }
 ],
 "metadata": {
  "kernelspec": {
   "display_name": "Python 3",
   "language": "python",
   "name": "python3"
  },
  "language_info": {
   "codemirror_mode": {
    "name": "ipython",
    "version": 3
   },
   "file_extension": ".py",
   "mimetype": "text/x-python",
   "name": "python",
   "nbconvert_exporter": "python",
   "pygments_lexer": "ipython3",
   "version": "3.8.3-final"
  }
 },
 "nbformat": 4,
 "nbformat_minor": 2
}