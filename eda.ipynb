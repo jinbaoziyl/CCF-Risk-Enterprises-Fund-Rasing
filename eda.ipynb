{
 "metadata": {
  "language_info": {
   "codemirror_mode": {
    "name": "ipython",
    "version": 3
   },
   "file_extension": ".py",
   "mimetype": "text/x-python",
   "name": "python",
   "nbconvert_exporter": "python",
   "pygments_lexer": "ipython3",
   "version": "3.7.4-final"
  },
  "orig_nbformat": 2,
  "kernelspec": {
   "name": "python37464bitbaseconda00b92aab035d439185146209ec4673ab",
   "display_name": "Python 3.7.4 64-bit ('base': conda)"
  }
 },
 "nbformat": 4,
 "nbformat_minor": 2,
 "cells": [
  {
   "cell_type": "markdown",
   "metadata": {},
   "source": [
    "## CCF: 企业非法集资风险预测"
   ]
  },
  {
   "cell_type": "code",
   "execution_count": 1040,
   "metadata": {},
   "outputs": [],
   "source": [
    "import time\n",
    "import math\n",
    "import warnings\n",
    "import numpy as np\n",
    "import pandas as pd\n",
    "import lightgbm as lgb\n",
    "from util import *\n",
    "\n",
    "t_base_info = \"./dataset/train/base_info.csv\"\n",
    "t_annual_report_info = \"./dataset/train/annual_report_info.csv\"\n",
    "t_tax_info = \"./dataset/train/tax_info.csv\"\n",
    "t_change_info = \"./dataset/train/change_info.csv\"\n",
    "t_news_info = \"./dataset/train/news_info.csv\"\n",
    "t_other_info = \"./dataset/train/other_info.csv\"\n",
    "t_entprise_info = \"./dataset/train/entprise_info.csv\" # train labeled data"
   ]
  },
  {
   "cell_type": "code",
   "execution_count": 1041,
   "metadata": {
    "tags": []
   },
   "outputs": [
    {
     "output_type": "stream",
     "name": "stdout",
     "text": [
      "Reading...\n"
     ]
    }
   ],
   "source": [
    "print(\"Reading...\")\n",
    "# base_info = pd.read_csv('dataset/train/base_info.csv')"
   ]
  },
  {
   "cell_type": "code",
   "execution_count": 1042,
   "metadata": {},
   "outputs": [],
   "source": [
    "# base_info.describe()"
   ]
  },
  {
   "source": [
    "### entprise_info"
   ],
   "cell_type": "markdown",
   "metadata": {}
  },
  {
   "cell_type": "code",
   "execution_count": 1043,
   "metadata": {},
   "outputs": [
    {
     "output_type": "stream",
     "name": "stdout",
     "text": [
      "<class 'pandas.core.frame.DataFrame'>\nRangeIndex: 14865 entries, 0 to 14864\nData columns (total 2 columns):\nid       14865 non-null object\nlabel    14865 non-null int64\ndtypes: int64(1), object(1)\nmemory usage: 232.4+ KB\n"
     ]
    }
   ],
   "source": [
    "df_label_info = pd.read_csv(t_entprise_info, header=0)\n",
    "\n",
    "df_label_info.info()"
   ]
  },
  {
   "cell_type": "code",
   "execution_count": 1044,
   "metadata": {},
   "outputs": [
    {
     "output_type": "execute_result",
     "data": {
      "text/plain": [
       "755db3b5c5f74eb4b78c720275404597b8c157fd00ae249b    1\n",
       "216bd2aaf4d079241368de7714d0f91a68a79f3e0d8720f9    1\n",
       "216bd2aaf4d0792471dff9ca9cc71c5913685db426558edc    1\n",
       "beb4aaaa89e0a0aeaa3b85f652794fa14101a81d2a14b6ed    1\n",
       "f000950527a6feb6cd58d7abbb90ea8e28bf8fd83ee5ea84    1\n",
       "                                                   ..\n",
       "755db3b5c5f74eb49bb393a31c5aed57ab98f3364446496b    1\n",
       "f000950527a6feb68529abe82c9dbf806d452cbcba114369    1\n",
       "9c7fa510616a68304d2aeac3071cecd8d26f5c64f8606c48    1\n",
       "beb4aaaa89e0a0aea8b6620715a4038887ecfd00a6fb9fa1    1\n",
       "8f19388cfd6e2b9cda01861a820fd1c87597e37f75260200    1\n",
       "Name: id, Length: 14865, dtype: int64"
      ]
     },
     "metadata": {},
     "execution_count": 1044
    }
   ],
   "source": [
    "df_label_info['label'].unique()\n",
    "df_label_info['id'].unique()\n",
    "df_label_info['label'].value_counts()\n",
    "df_label_info['id'].value_counts()\n"
   ]
  },
  {
   "source": [
    "### other_info.csv"
   ],
   "cell_type": "markdown",
   "metadata": {}
  },
  {
   "cell_type": "code",
   "execution_count": 1045,
   "metadata": {},
   "outputs": [
    {
     "output_type": "execute_result",
     "data": {
      "text/plain": [
       "                                                 id  legal_judgment_num  \\\n",
       "0  f000950527a6feb6d340f91da09e61347d8200cd2f0d1602                 4.0   \n",
       "1  f000950527a6feb608dd9322b74a99f60851207f36a3c94c                 1.0   \n",
       "2  d8071a739aa75a3b9f23966f8dae78fd226c272515b9c255                 2.0   \n",
       "3  216bd2aaf4d079242209b1496f81a36c7abed9dd0bb65ed3                 NaN   \n",
       "4  e9f7b28ec10e0470de9631c789f49acdd4e7cf9ed6db094b                 NaN   \n",
       "\n",
       "   brand_num  patent_num  \n",
       "0        NaN         NaN  \n",
       "1        NaN         NaN  \n",
       "2        NaN         NaN  \n",
       "3        1.0         NaN  \n",
       "4        2.0         NaN  "
      ],
      "text/html": "<div>\n<style scoped>\n    .dataframe tbody tr th:only-of-type {\n        vertical-align: middle;\n    }\n\n    .dataframe tbody tr th {\n        vertical-align: top;\n    }\n\n    .dataframe thead th {\n        text-align: right;\n    }\n</style>\n<table border=\"1\" class=\"dataframe\">\n  <thead>\n    <tr style=\"text-align: right;\">\n      <th></th>\n      <th>id</th>\n      <th>legal_judgment_num</th>\n      <th>brand_num</th>\n      <th>patent_num</th>\n    </tr>\n  </thead>\n  <tbody>\n    <tr>\n      <td>0</td>\n      <td>f000950527a6feb6d340f91da09e61347d8200cd2f0d1602</td>\n      <td>4.0</td>\n      <td>NaN</td>\n      <td>NaN</td>\n    </tr>\n    <tr>\n      <td>1</td>\n      <td>f000950527a6feb608dd9322b74a99f60851207f36a3c94c</td>\n      <td>1.0</td>\n      <td>NaN</td>\n      <td>NaN</td>\n    </tr>\n    <tr>\n      <td>2</td>\n      <td>d8071a739aa75a3b9f23966f8dae78fd226c272515b9c255</td>\n      <td>2.0</td>\n      <td>NaN</td>\n      <td>NaN</td>\n    </tr>\n    <tr>\n      <td>3</td>\n      <td>216bd2aaf4d079242209b1496f81a36c7abed9dd0bb65ed3</td>\n      <td>NaN</td>\n      <td>1.0</td>\n      <td>NaN</td>\n    </tr>\n    <tr>\n      <td>4</td>\n      <td>e9f7b28ec10e0470de9631c789f49acdd4e7cf9ed6db094b</td>\n      <td>NaN</td>\n      <td>2.0</td>\n      <td>NaN</td>\n    </tr>\n  </tbody>\n</table>\n</div>"
     },
     "metadata": {},
     "execution_count": 1045
    }
   ],
   "source": [
    "# TODO: 特征空值过多 如何处理？ #\n",
    "df_other_info = pd.read_csv(t_other_info, header=0)\n",
    "df_other_info['legal_judgment_num'].value_counts()\n",
    "df_other_info.shape\n",
    "df_other_info.head(5)"
   ]
  },
  {
   "cell_type": "code",
   "execution_count": 1046,
   "metadata": {},
   "outputs": [
    {
     "output_type": "stream",
     "name": "stdout",
     "text": [
      "884 981 1494\n"
     ]
    }
   ],
   "source": [
    "# 统计空值的个数\n",
    "null_cnt_lj = df_other_info['legal_judgment_num'].isnull().sum(axis=0)\n",
    "null_cnt_br = df_other_info['brand_num'].isnull().sum(axis=0)\n",
    "null_cnt_pt = df_other_info['patent_num'].isnull().sum(axis=0)\n",
    "print(null_cnt_lj, null_cnt_br, null_cnt_pt)\n"
   ]
  },
  {
   "cell_type": "code",
   "execution_count": 1047,
   "metadata": {},
   "outputs": [
    {
     "output_type": "execute_result",
     "data": {
      "text/plain": [
       "(14865, 5)"
      ]
     },
     "metadata": {},
     "execution_count": 1047
    }
   ],
   "source": [
    "training_set = pd.merge(df_label_info, df_other_info, how='left', on='id')\n",
    "# 释放内存\n",
    "del df_label_info\n",
    "del df_other_info\n",
    "# training_set['id'].value_counts()\n",
    "training_set = training_set.groupby(['id'], as_index=False).mean()\n",
    "# training_set[training_set['id'] == \"f000950527a6feb63702b1f6c1dabe5ea196d320bbbff425\"]\n",
    "training_set.shape"
   ]
  },
  {
   "source": [
    "### news_info.csv"
   ],
   "cell_type": "markdown",
   "metadata": {}
  },
  {
   "cell_type": "code",
   "execution_count": 1048,
   "metadata": {},
   "outputs": [
    {
     "output_type": "stream",
     "name": "stdout",
     "text": [
      "time data '4小时前' does not match format '%Y-%m-%d'\n",
      "time data '14小时前' does not match format '%Y-%m-%d'\n",
      "time data '25分钟前' does not match format '%Y-%m-%d'\n",
      "time data '30分钟前' does not match format '%Y-%m-%d'\n",
      "time data '1小时前' does not match format '%Y-%m-%d'\n",
      "time data '2小时前' does not match format '%Y-%m-%d'\n",
      "time data '2小时前' does not match format '%Y-%m-%d'\n",
      "time data '8小时前' does not match format '%Y-%m-%d'\n",
      "time data '9小时前' does not match format '%Y-%m-%d'\n",
      "time data '22小时前' does not match format '%Y-%m-%d'\n",
      "time data '23小时前' does not match format '%Y-%m-%d'\n",
      "time data '6小时前' does not match format '%Y-%m-%d'\n",
      "time data '5小时前' does not match format '%Y-%m-%d'\n",
      "time data '8小时前' does not match format '%Y-%m-%d'\n",
      "time data '8小时前' does not match format '%Y-%m-%d'\n",
      "time data '9小时前' does not match format '%Y-%m-%d'\n"
     ]
    },
    {
     "output_type": "execute_result",
     "data": {
      "text/plain": [
       "(10518, 3)"
      ]
     },
     "metadata": {},
     "execution_count": 1048
    }
   ],
   "source": [
    "#  TODO: 随着时间变化，news的态度不同 但是标签只能是一个#\n",
    "df_news_info = pd.read_csv(t_news_info, header=0)\n",
    "\n",
    "dict_atitude = {\"积极\": 0, \"中立\": 1, \"消极\": 2}\n",
    "df_news_info['positive_negtive'] = df_news_info['positive_negtive'].map(lambda x : dict_atitude[x])\n",
    "# public date 转变成迄今为止发生时间\n",
    "cmp_date = \"2020-10-09\"\n",
    "from util import *\n",
    "\n",
    "# df_news_info['public_date'] = df_news_info['public_date'].map(lambda x: check_date(x))\n",
    "# df_news_info['public_date'].value_counts()\n",
    "# 处理\"xx小时前\" 数据统一为昨天更新 \n",
    "def handle_public_date(str):\n",
    "    if(check_date(str) == False):\n",
    "        return 1\n",
    "    else:\n",
    "        return days(cmp_date, str)\n",
    "df_news_info['public_date'] = df_news_info['public_date'].map(lambda x: handle_public_date(x))\n",
    "df_news_info.shape"
   ]
  },
  {
   "cell_type": "code",
   "execution_count": 1049,
   "metadata": {},
   "outputs": [
    {
     "output_type": "execute_result",
     "data": {
      "text/plain": [
       "f000950527a6feb63702b1f6c1dabe5ea196d320bbbff425    1193\n",
       "d8071a739aa75a3b04c9a1789bd657ef83e10c02b1a9fef5     290\n",
       "f000950527a6feb6194eb25023f715fa9ec0166d20cc8aed     215\n",
       "f000950527a6feb6c0db441978864a6a0f04668a61d0bab6     202\n",
       "f000950527a6feb6375809f26c0e7fa103f56259da2e53ac     160\n",
       "                                                    ... \n",
       "f000950527a6feb68c162c78e6dd292e400fb157f49e6d17       1\n",
       "ed38190adf12fcebf79b42d7f23db1b7de5c010460c12798       1\n",
       "f000950527a6feb6927d6cf7c99ef548f9ca363226d3f718       1\n",
       "516ab81418ed215dcbbfaf81eed615600d8fd47c9cc4fda0       1\n",
       "8f19388cfd6e2b9cda01861a820fd1c87597e37f75260200       1\n",
       "Name: id, Length: 14865, dtype: int64"
      ]
     },
     "metadata": {},
     "execution_count": 1049
    }
   ],
   "source": [
    "training_set = pd.merge(training_set, df_news_info, how='left', on='id')\n",
    "training_set['id'].value_counts()"
   ]
  },
  {
   "cell_type": "code",
   "execution_count": 1050,
   "metadata": {},
   "outputs": [
    {
     "output_type": "stream",
     "name": "stdout",
     "text": [
      "<class 'pandas.core.frame.DataFrame'>\nInt64Index: 19407 entries, 0 to 19406\nData columns (total 7 columns):\nid                    19407 non-null object\nlabel                 19407 non-null int64\nlegal_judgment_num    3258 non-null float64\nbrand_num             2924 non-null float64\npatent_num            2334 non-null float64\npositive_negtive      4930 non-null float64\npublic_date           4930 non-null float64\ndtypes: float64(5), int64(1), object(1)\nmemory usage: 1.2+ MB\n"
     ]
    }
   ],
   "source": [
    "# 一个id对应不同时间的不同新闻评价\n",
    "tmp = training_set[training_set['id'] == \"f000950527a6feb63702b1f6c1dabe5ea196d320bbbff425\"]\n",
    "tmp.head(100)\n",
    "training_set.shape\n",
    "training_set.info()"
   ]
  },
  {
   "source": [
    "### change_info.csv"
   ],
   "cell_type": "markdown",
   "metadata": {}
  },
  {
   "cell_type": "code",
   "execution_count": 1051,
   "metadata": {},
   "outputs": [
    {
     "output_type": "execute_result",
     "data": {
      "text/plain": [
       "                                                 id       bgrq\n",
       "0  9c7fa510616a683058ce97d0bc768a621cd85ab1e87da2a3  30.636238\n",
       "1  9c7fa510616a683058ce97d0bc768a621cd85ab1e87da2a3  30.636238\n",
       "2  e9f7b28ec10e047000d16ab79e1b5e6da434a1697cce7818  30.635224\n",
       "3  e9f7b28ec10e047000d16ab79e1b5e6da434a1697cce7818  30.635224\n",
       "4  e9f7b28ec10e047000d16ab79e1b5e6da434a1697cce7818  30.635224"
      ],
      "text/html": "<div>\n<style scoped>\n    .dataframe tbody tr th:only-of-type {\n        vertical-align: middle;\n    }\n\n    .dataframe tbody tr th {\n        vertical-align: top;\n    }\n\n    .dataframe thead th {\n        text-align: right;\n    }\n</style>\n<table border=\"1\" class=\"dataframe\">\n  <thead>\n    <tr style=\"text-align: right;\">\n      <th></th>\n      <th>id</th>\n      <th>bgrq</th>\n    </tr>\n  </thead>\n  <tbody>\n    <tr>\n      <td>0</td>\n      <td>9c7fa510616a683058ce97d0bc768a621cd85ab1e87da2a3</td>\n      <td>30.636238</td>\n    </tr>\n    <tr>\n      <td>1</td>\n      <td>9c7fa510616a683058ce97d0bc768a621cd85ab1e87da2a3</td>\n      <td>30.636238</td>\n    </tr>\n    <tr>\n      <td>2</td>\n      <td>e9f7b28ec10e047000d16ab79e1b5e6da434a1697cce7818</td>\n      <td>30.635224</td>\n    </tr>\n    <tr>\n      <td>3</td>\n      <td>e9f7b28ec10e047000d16ab79e1b5e6da434a1697cce7818</td>\n      <td>30.635224</td>\n    </tr>\n    <tr>\n      <td>4</td>\n      <td>e9f7b28ec10e047000d16ab79e1b5e6da434a1697cce7818</td>\n      <td>30.635224</td>\n    </tr>\n  </tbody>\n</table>\n</div>"
     },
     "metadata": {},
     "execution_count": 1051
    }
   ],
   "source": [
    "# TODO: 变更信息如何处理  这里直接删除 只保留变更时间 #\n",
    "df_change_info = pd.read_csv(t_change_info, header=0)\n",
    "# df_change_info['bqyf'] = df_change_info[['bgq', 'bgh']].apply(lambda x: x['bgq'] == x['bgh'], axis=1)\n",
    "# del df_change_info[]\n",
    "# df_change_info.shape\n",
    "del df_change_info['bgxmdm']\n",
    "del df_change_info['bgq']\n",
    "del df_change_info['bgh']\n",
    "df_change_info['bgrq'] = df_change_info['bgrq'].apply(np.log)\n",
    "# 平滑 bgrq:变更日期\n",
    "df_change_info.head()"
   ]
  },
  {
   "source": [
    "### tax_info.csv\n"
   ],
   "cell_type": "markdown",
   "metadata": {}
  },
  {
   "cell_type": "code",
   "execution_count": 1052,
   "metadata": {
    "tags": []
   },
   "outputs": [
    {
     "output_type": "error",
     "ename": "AttributeError",
     "evalue": "'dict' object has no attribute 'unique'",
     "traceback": [
      "\u001b[1;31m---------------------------------------------------------------------------\u001b[0m",
      "\u001b[1;31mAttributeError\u001b[0m                            Traceback (most recent call last)",
      "\u001b[1;32m<ipython-input-1052-99d087f84b0b>\u001b[0m in \u001b[0;36m<module>\u001b[1;34m\u001b[0m\n\u001b[0;32m     14\u001b[0m \u001b[0mcnt\u001b[0m \u001b[1;33m=\u001b[0m \u001b[1;36m0\u001b[0m\u001b[1;33m\u001b[0m\u001b[1;33m\u001b[0m\u001b[0m\n\u001b[0;32m     15\u001b[0m \u001b[1;32mfor\u001b[0m \u001b[0me\u001b[0m \u001b[1;32min\u001b[0m \u001b[0mdf_tax_info\u001b[0m\u001b[1;33m[\u001b[0m\u001b[1;34m'TAX_CATEGORIES'\u001b[0m\u001b[1;33m]\u001b[0m\u001b[1;33m:\u001b[0m\u001b[1;33m\u001b[0m\u001b[1;33m\u001b[0m\u001b[0m\n\u001b[1;32m---> 16\u001b[1;33m     \u001b[1;32mif\u001b[0m \u001b[0me\u001b[0m \u001b[1;32min\u001b[0m \u001b[0mtax_cg_dict\u001b[0m\u001b[1;33m.\u001b[0m\u001b[0munique\u001b[0m\u001b[1;33m(\u001b[0m\u001b[1;33m)\u001b[0m\u001b[1;33m:\u001b[0m \u001b[1;32mcontinue\u001b[0m\u001b[1;33m\u001b[0m\u001b[1;33m\u001b[0m\u001b[0m\n\u001b[0m\u001b[0;32m     17\u001b[0m     \u001b[1;32melse\u001b[0m\u001b[1;33m:\u001b[0m\u001b[1;33m\u001b[0m\u001b[1;33m\u001b[0m\u001b[0m\n\u001b[0;32m     18\u001b[0m         \u001b[0mtax_cg_dict\u001b[0m\u001b[1;33m[\u001b[0m\u001b[0me\u001b[0m\u001b[1;33m]\u001b[0m \u001b[1;33m=\u001b[0m \u001b[0mcnt\u001b[0m\u001b[1;33m\u001b[0m\u001b[1;33m\u001b[0m\u001b[0m\n",
      "\u001b[1;31mAttributeError\u001b[0m: 'dict' object has no attribute 'unique'"
     ]
    }
   ],
   "source": [
    "# TODO: 很多统计信息， 需要去提取特征 #\n",
    "df_tax_info = pd.read_csv(t_tax_info, header=0)\n",
    "df_tax_info['TAX_CATEGORIES'].value_counts()\n",
    "df_tax_info['TAX_ITEMS'].value_counts()\n",
    "df_tax_info['TAX_AMOUNT'].value_counts()\n",
    "df_tax_info['TAXATION_BASIS'].value_counts()\n",
    "\n",
    "df_tax_info['TAX_DAYS'] = df_tax_info[['START_DATE', 'END_DATE']].apply(lambda x : days_v1(x['END_DATE'], x['START_DATE']), axis=1)\n",
    "\n",
    "del df_tax_info['START_DATE']\n",
    "del df_tax_info['END_DATE']\n",
    "\n",
    "tax_cg_dict = {}\n",
    "cnt = 0\n",
    "for e in df_tax_info['TAX_CATEGORIES']:\n",
    "    if e in tax_cg_dict.unique(): continue\n",
    "    else:\n",
    "        tax_cg_dict[e] = cnt \n",
    "        cnt += 1\n",
    "\n",
    "df_tax_info['TAX_CATEGORIES'] = df_tax_info['TAX_CATEGORIES'].map(tax_cg_dict)\n",
    "\n",
    "tax_it_dict = {}\n",
    "cnt = 0\n",
    "for e in df_tax_info['TAX_ITEMS']:\n",
    "    if e in tax_it_dict.unique(): continue\n",
    "    else:\n",
    "        tax_it_dict[e] = cnt \n",
    "        cnt += 1\n",
    "df_tax_info['TAX_ITEMS'] = df_tax_info['TAX_ITEMS'].map(tax_it_dict)\n",
    "df_tax_info['TAXATION_BASIS'] = df_tax_info['TAXATION_BASIS'].apply(np.log)\n",
    "\n",
    "df_tax_info.head()\n"
   ]
  },
  {
   "cell_type": "code",
   "execution_count": 900,
   "metadata": {},
   "outputs": [
    {
     "output_type": "execute_result",
     "data": {
      "text/plain": [
       "(205337, 14)"
      ]
     },
     "metadata": {},
     "execution_count": 900
    }
   ],
   "source": [
    "training_set = pd.merge(training_set, df_tax_info, how='left', on='id')\n",
    "# training_set['id'].value_counts()\n",
    "# training_set.info()\n",
    "training_set.shape"
   ]
  },
  {
   "source": [
    "### annual_report_info.csv"
   ],
   "cell_type": "markdown",
   "metadata": {}
  },
  {
   "cell_type": "code",
   "execution_count": 901,
   "metadata": {
    "tags": []
   },
   "outputs": [
    {
     "output_type": "execute_result",
     "data": {
      "text/plain": [
       "                                                 id  ANCHEYEAR  STATE  FUNDAM  \\\n",
       "0  9c7fa510616a683058ce97d0bc768a621cd85ab1e87da2a3          2    2.0     5.0   \n",
       "1  9c7fa510616a683058ce97d0bc768a621cd85ab1e87da2a3          3    2.0     2.0   \n",
       "2  f000950527a6feb63ee1ce82bb22ddd1ab8b8fdffa3b91fb          2    2.0     NaN   \n",
       "3  f000950527a6feb63ee1ce82bb22ddd1ab8b8fdffa3b91fb          3    2.0     NaN   \n",
       "4  9c7fa510616a68309e4badf2a7a3123c0462fb85bf28ef17          2    2.0     5.0   \n",
       "\n",
       "   EMPNUM  EMPNUMSIGN  BUSSTNAME  COLGRANUM  RETSOLNUM  DISPERNUM  UNENUM  \\\n",
       "0    10.0         NaN        0.0        0.0        0.0        0.0     0.0   \n",
       "1     2.0         NaN        0.0        0.0        0.0        0.0     0.0   \n",
       "2     4.0         2.0        1.0        3.0        0.0        0.0     0.0   \n",
       "3     3.0         2.0        1.0        1.0        0.0        0.0     0.0   \n",
       "4    10.0         NaN        0.0        0.0        0.0        0.0     0.0   \n",
       "\n",
       "   COLEMPLNUM  RETEMPLNUM  DISEMPLNUM  UNEEMPLNUM  WEBSITSIGN  FORINVESTSIGN  \\\n",
       "0         0.0         0.0         0.0         0.0         2.0            NaN   \n",
       "1         0.0         0.0         0.0         0.0         2.0            NaN   \n",
       "2         1.0         0.0         0.0         0.0         2.0            2.0   \n",
       "3         2.0         0.0         0.0         0.0         2.0            2.0   \n",
       "4         0.0         0.0         0.0         0.0         2.0            NaN   \n",
       "\n",
       "   STOCKTRANSIGN  PUBSTATE  \n",
       "0            NaN       3.0  \n",
       "1            NaN       3.0  \n",
       "2            2.0       3.0  \n",
       "3            2.0       3.0  \n",
       "4            NaN       3.0  "
      ],
      "text/html": "<div>\n<style scoped>\n    .dataframe tbody tr th:only-of-type {\n        vertical-align: middle;\n    }\n\n    .dataframe tbody tr th {\n        vertical-align: top;\n    }\n\n    .dataframe thead th {\n        text-align: right;\n    }\n</style>\n<table border=\"1\" class=\"dataframe\">\n  <thead>\n    <tr style=\"text-align: right;\">\n      <th></th>\n      <th>id</th>\n      <th>ANCHEYEAR</th>\n      <th>STATE</th>\n      <th>FUNDAM</th>\n      <th>EMPNUM</th>\n      <th>EMPNUMSIGN</th>\n      <th>BUSSTNAME</th>\n      <th>COLGRANUM</th>\n      <th>RETSOLNUM</th>\n      <th>DISPERNUM</th>\n      <th>UNENUM</th>\n      <th>COLEMPLNUM</th>\n      <th>RETEMPLNUM</th>\n      <th>DISEMPLNUM</th>\n      <th>UNEEMPLNUM</th>\n      <th>WEBSITSIGN</th>\n      <th>FORINVESTSIGN</th>\n      <th>STOCKTRANSIGN</th>\n      <th>PUBSTATE</th>\n    </tr>\n  </thead>\n  <tbody>\n    <tr>\n      <td>0</td>\n      <td>9c7fa510616a683058ce97d0bc768a621cd85ab1e87da2a3</td>\n      <td>2</td>\n      <td>2.0</td>\n      <td>5.0</td>\n      <td>10.0</td>\n      <td>NaN</td>\n      <td>0.0</td>\n      <td>0.0</td>\n      <td>0.0</td>\n      <td>0.0</td>\n      <td>0.0</td>\n      <td>0.0</td>\n      <td>0.0</td>\n      <td>0.0</td>\n      <td>0.0</td>\n      <td>2.0</td>\n      <td>NaN</td>\n      <td>NaN</td>\n      <td>3.0</td>\n    </tr>\n    <tr>\n      <td>1</td>\n      <td>9c7fa510616a683058ce97d0bc768a621cd85ab1e87da2a3</td>\n      <td>3</td>\n      <td>2.0</td>\n      <td>2.0</td>\n      <td>2.0</td>\n      <td>NaN</td>\n      <td>0.0</td>\n      <td>0.0</td>\n      <td>0.0</td>\n      <td>0.0</td>\n      <td>0.0</td>\n      <td>0.0</td>\n      <td>0.0</td>\n      <td>0.0</td>\n      <td>0.0</td>\n      <td>2.0</td>\n      <td>NaN</td>\n      <td>NaN</td>\n      <td>3.0</td>\n    </tr>\n    <tr>\n      <td>2</td>\n      <td>f000950527a6feb63ee1ce82bb22ddd1ab8b8fdffa3b91fb</td>\n      <td>2</td>\n      <td>2.0</td>\n      <td>NaN</td>\n      <td>4.0</td>\n      <td>2.0</td>\n      <td>1.0</td>\n      <td>3.0</td>\n      <td>0.0</td>\n      <td>0.0</td>\n      <td>0.0</td>\n      <td>1.0</td>\n      <td>0.0</td>\n      <td>0.0</td>\n      <td>0.0</td>\n      <td>2.0</td>\n      <td>2.0</td>\n      <td>2.0</td>\n      <td>3.0</td>\n    </tr>\n    <tr>\n      <td>3</td>\n      <td>f000950527a6feb63ee1ce82bb22ddd1ab8b8fdffa3b91fb</td>\n      <td>3</td>\n      <td>2.0</td>\n      <td>NaN</td>\n      <td>3.0</td>\n      <td>2.0</td>\n      <td>1.0</td>\n      <td>1.0</td>\n      <td>0.0</td>\n      <td>0.0</td>\n      <td>0.0</td>\n      <td>2.0</td>\n      <td>0.0</td>\n      <td>0.0</td>\n      <td>0.0</td>\n      <td>2.0</td>\n      <td>2.0</td>\n      <td>2.0</td>\n      <td>3.0</td>\n    </tr>\n    <tr>\n      <td>4</td>\n      <td>9c7fa510616a68309e4badf2a7a3123c0462fb85bf28ef17</td>\n      <td>2</td>\n      <td>2.0</td>\n      <td>5.0</td>\n      <td>10.0</td>\n      <td>NaN</td>\n      <td>0.0</td>\n      <td>0.0</td>\n      <td>0.0</td>\n      <td>0.0</td>\n      <td>0.0</td>\n      <td>0.0</td>\n      <td>0.0</td>\n      <td>0.0</td>\n      <td>0.0</td>\n      <td>2.0</td>\n      <td>NaN</td>\n      <td>NaN</td>\n      <td>3.0</td>\n    </tr>\n  </tbody>\n</table>\n</div>"
     },
     "metadata": {},
     "execution_count": 901
    }
   ],
   "source": [
    "# 如何从大量的空值中 提取到有用信息 #\n",
    "df_anreport_info = pd.read_csv(t_annual_report_info, header=0)\n",
    "# df_anreport_info['ANCHEYEAR'].value_counts()\n",
    "# df_anreport_info['STATE'].value_counts()\n",
    "# df_anreport_info.iloc[:, 0:13] \n",
    "# df_anreport_info['FUNDAM'].value_counts()\n",
    "\n",
    "dict_year = {\"2015.0\": 0, \"2016.0\": 1, \"2017.0\": 2, \"2018.0\": 3}\n",
    "df_anreport_info['ANCHEYEAR'] = df_anreport_info['ANCHEYEAR'].map(lambda x : dict_year[str(x)])\n",
    "\n",
    "# df_anreport_info['MEMNUM'].value_counts() \n",
    "# df_anreport_info['MEMNUM'].isnull().sum(axis=0) #空值太多\n",
    "del df_anreport_info['MEMNUM']\n",
    "df_anreport_info.head()\n",
    "# df_anreport_info['FARNUM'].value_counts() \n",
    "# df_anreport_info['FARNUM'].isnull().sum(axis=0) #空值太多\n",
    "del df_anreport_info['FARNUM']\n",
    "\n",
    "# df_anreport_info['ANNNEWMEMNUM'].value_counts() \n",
    "# df_anreport_info['ANNNEWMEMNUM'].isnull().sum(axis=0) #空值太多\n",
    "del df_anreport_info['ANNNEWMEMNUM']\n",
    "\n",
    "# df_anreport_info['ANNREDMEMNUM'].value_counts() \n",
    "# df_anreport_info['ANNREDMEMNUM'].isnull().sum(axis=0) #空值太多\n",
    "del df_anreport_info['ANNREDMEMNUM']\n",
    "\n",
    "# df_anreport_info['EMPNUM'].value_counts() \n",
    "# df_anreport_info['EMPNUMSIGN'].value_counts() \n",
    "\n",
    "# df_anreport_info['BUSSTNAME'].fillna(\"无\")\n",
    "df_anreport_info['BUSSTNAME'].value_counts() \n",
    "dict_bsnm = { \"开业\": 1, \"歇业\": 2, \"停业\": 3, \"清算\": 4}\n",
    "df_anreport_info['BUSSTNAME'] = df_anreport_info['BUSSTNAME'].map(dict_bsnm)\n",
    "df_anreport_info['BUSSTNAME'].fillna(0, inplace=True)\n",
    "\n",
    "df_anreport_info['COLGRANUM'].value_counts() \n",
    "df_anreport_info['RETSOLNUM'].value_counts() \n",
    "df_anreport_info['DISPERNUM'].value_counts() \n",
    "df_anreport_info['UNENUM'].value_counts() \n",
    "df_anreport_info['COLEMPLNUM'].value_counts() \n",
    "df_anreport_info['RETEMPLNUM'].value_counts() \n",
    "df_anreport_info['DISEMPLNUM'].value_counts() \n",
    "df_anreport_info['WEBSITSIGN'].value_counts() \n",
    "df_anreport_info['FORINVESTSIGN'].value_counts() \n",
    "df_anreport_info['STOCKTRANSIGN'].value_counts() \n",
    "df_anreport_info['PUBSTATE'].value_counts() \n",
    "df_anreport_info.head()\n"
   ]
  },
  {
   "cell_type": "code",
   "execution_count": 1054,
   "metadata": {},
   "outputs": [
    {
     "output_type": "stream",
     "name": "stdout",
     "text": [
      "<class 'pandas.core.frame.DataFrame'>\nInt64Index: 31304 entries, 0 to 31303\nData columns (total 25 columns):\nid                    31304 non-null object\nlabel                 31304 non-null int64\nlegal_judgment_num    10178 non-null float64\nbrand_num             8277 non-null float64\npatent_num            7617 non-null float64\npositive_negtive      13845 non-null float64\npublic_date           13845 non-null float64\nANCHEYEAR             18128 non-null float64\nSTATE                 18126 non-null float64\nFUNDAM                1173 non-null float64\nEMPNUM                18124 non-null float64\nEMPNUMSIGN            16951 non-null float64\nBUSSTNAME             18128 non-null float64\nCOLGRANUM             7769 non-null float64\nRETSOLNUM             7769 non-null float64\nDISPERNUM             7769 non-null float64\nUNENUM                7769 non-null float64\nCOLEMPLNUM            7769 non-null float64\nRETEMPLNUM            7769 non-null float64\nDISEMPLNUM            7769 non-null float64\nUNEEMPLNUM            7769 non-null float64\nWEBSITSIGN            18121 non-null float64\nFORINVESTSIGN         16769 non-null float64\nSTOCKTRANSIGN         15152 non-null float64\nPUBSTATE              18120 non-null float64\ndtypes: float64(23), int64(1), object(1)\nmemory usage: 6.2+ MB\n"
     ]
    }
   ],
   "source": [
    "training_set = pd.merge(training_set, df_anreport_info, how='left', on='id')\n",
    "training_set.info()"
   ]
  },
  {
   "source": [
    "### base_info.csv"
   ],
   "cell_type": "markdown",
   "metadata": {}
  },
  {
   "cell_type": "code",
   "execution_count": 1039,
   "metadata": {
    "tags": []
   },
   "outputs": [
    {
     "output_type": "execute_result",
     "data": {
      "text/plain": [
       "(24865, 22)"
      ]
     },
     "metadata": {},
     "execution_count": 1039
    }
   ],
   "source": [
    "df_base_info = pd.read_csv(t_base_info, header=0)\n",
    "\n",
    "df_base_info['oplocdistrict'].value_counts() \n",
    "dict_oplocdistrict = {}\n",
    "cnt = 0\n",
    "for e in df_base_info['oplocdistrict'].unique():\n",
    "    if e in dict_oplocdistrict: continue\n",
    "    else:\n",
    "        dict_oplocdistrict[e] = cnt \n",
    "        cnt += 1\n",
    "# print(dict_oplocdistrict)\n",
    "df_base_info['oplocdistrict'] = df_base_info['oplocdistrict'].map(dict_oplocdistrict)\n",
    "\n",
    "df_base_info['industryphy'].value_counts() \n",
    "dict_industryphy = {}\n",
    "cnt = 0\n",
    "for e in df_base_info['industryphy'].unique():\n",
    "    if e in dict_industryphy: continue\n",
    "    else:\n",
    "        dict_industryphy[e] = cnt \n",
    "        cnt += 1\n",
    "# print(dict_industryphy)\n",
    "df_base_info['industryphy'] = df_base_info['industryphy'].map(dict_industryphy)\n",
    "\n",
    "df_base_info['industryco'].value_counts() \n",
    "dict_industryco = {}\n",
    "cnt = 0\n",
    "for e in df_base_info['industryco'].unique():\n",
    "    if e in dict_industryco: continue\n",
    "    else:\n",
    "        dict_industryco[e] = cnt \n",
    "        cnt += 1\n",
    "# print(dict_industryco)\n",
    "df_base_info['industryco'] = df_base_info['industryco'].map(dict_industryco)\n",
    "\n",
    "df_base_info['dom'].value_counts() \n",
    "del df_base_info['dom']\n",
    "del df_base_info['opscope']\n",
    "\n",
    "df_base_info['enttype'].value_counts() \n",
    "dict_enttype = {}\n",
    "cnt = 0\n",
    "for e in df_base_info['enttype'].unique():\n",
    "    if e in dict_enttype: continue\n",
    "    else:\n",
    "        dict_enttype[e] = cnt \n",
    "        cnt += 1\n",
    "# print(dict_enttype)\n",
    "df_base_info['enttype'] = df_base_info['enttype'].map(dict_enttype)\n",
    "# df_base_info['enttype'].fillna(0, inplace=True)\n",
    "\n",
    "\n",
    "df_base_info['enttypeitem'].value_counts() \n",
    "dict_enttypeitem = {}\n",
    "cnt = 0\n",
    "for e in df_base_info['enttypeitem'].unique():\n",
    "    if e in dict_enttypeitem: continue\n",
    "    else:\n",
    "        dict_enttypeitem[e] = cnt \n",
    "        cnt += 1\n",
    "# print(dict_enttypeitem)\n",
    "df_base_info['enttypeitem'] = df_base_info['enttypeitem'].map(dict_enttypeitem)\n",
    "\n",
    "del df_base_info['opfrom']\n",
    "del df_base_info['opto']\n",
    "\n",
    "\n",
    "df_base_info['state'].value_counts()\n",
    "dict_state = {}\n",
    "cnt = 0\n",
    "for e in df_base_info['state'].unique():\n",
    "    if e in dict_state: continue\n",
    "    else:\n",
    "        dict_state[e] = cnt \n",
    "        cnt += 1\n",
    "# print(dict_state)\n",
    "df_base_info['state'] = df_base_info['state'].map(dict_state)\n",
    "\n",
    "del df_base_info['orgid']\n",
    "del df_base_info['jobid']\n",
    "\n",
    "df_base_info['adbusign'].value_counts()\n",
    "df_base_info['townsign'].value_counts()\n",
    "df_base_info['regtype'].value_counts()\n",
    "df_base_info['empnum'].value_counts()\n",
    "df_base_info['compform'].value_counts()\n",
    "df_base_info['parnum'].value_counts()\n",
    "df_base_info['exenum'].value_counts()\n",
    "\n",
    "\n",
    "df_base_info['opform'].value_counts()\n",
    "dict_opform = {}\n",
    "cnt = 0\n",
    "for e in df_base_info['opform'].unique():\n",
    "    if e in dict_opform: continue\n",
    "    else:\n",
    "        dict_opform[e] = cnt \n",
    "        cnt += 1\n",
    "# print(dict_opform)\n",
    "df_base_info['opform'] = df_base_info['opform'].map(dict_opform)\n",
    "\n",
    "df_base_info['ptbusscope'].value_counts()\n",
    "del df_base_info['ptbusscope']\n",
    "\n",
    "df_base_info['venind'].value_counts()\n",
    "\n",
    "df_base_info['enttypeminu'].value_counts()\n",
    "dict_enttypeminu = {}\n",
    "cnt = 0\n",
    "for e in df_base_info['enttypeminu'].unique():\n",
    "    if e in dict_enttypeminu: continue\n",
    "    else:\n",
    "        dict_enttypeminu[e] = cnt \n",
    "        cnt += 1\n",
    "# print(dict_enttypeminu)\n",
    "df_base_info['enttypeminu'] = df_base_info['enttypeminu'].map(dict_enttypeminu)\n",
    "df_base_info['midpreindcode'].value_counts()\n",
    "del df_base_info['midpreindcode']\n",
    "\n",
    "df_base_info['protype'].value_counts() #空值太多\n",
    "del df_base_info['protype']\n",
    "df_base_info['oploc'].value_counts() \n",
    "del df_base_info['oploc']\n",
    "\n",
    "df_base_info['regcap'].value_counts() \n",
    "df_base_info['reccap'].value_counts() \n",
    "df_base_info['forregcap'].value_counts() \n",
    "df_base_info['forreccap'].value_counts() \n",
    "df_base_info['congro'].value_counts() \n",
    "df_base_info['enttypegb'].value_counts() \n",
    "del df_base_info['enttypegb']\n",
    "\n",
    "df_base_info.shape\n",
    "\n",
    "\n"
   ]
  },
  {
   "cell_type": "code",
   "execution_count": 1057,
   "metadata": {},
   "outputs": [
    {
     "output_type": "stream",
     "name": "stdout",
     "text": [
      "(31304, 46)\n<class 'pandas.core.frame.DataFrame'>\nInt64Index: 31304 entries, 0 to 31303\nData columns (total 46 columns):\nid                    31304 non-null object\nlabel                 31304 non-null int64\nlegal_judgment_num    10178 non-null float64\nbrand_num             8277 non-null float64\npatent_num            7617 non-null float64\npositive_negtive      13845 non-null float64\npublic_date           13845 non-null float64\nANCHEYEAR             18128 non-null float64\nSTATE                 18126 non-null float64\nFUNDAM                1173 non-null float64\nEMPNUM                18124 non-null float64\nEMPNUMSIGN            16951 non-null float64\nBUSSTNAME             18128 non-null float64\nCOLGRANUM             7769 non-null float64\nRETSOLNUM             7769 non-null float64\nDISPERNUM             7769 non-null float64\nUNENUM                7769 non-null float64\nCOLEMPLNUM            7769 non-null float64\nRETEMPLNUM            7769 non-null float64\nDISEMPLNUM            7769 non-null float64\nUNEEMPLNUM            7769 non-null float64\nWEBSITSIGN            18121 non-null float64\nFORINVESTSIGN         16769 non-null float64\nSTOCKTRANSIGN         15152 non-null float64\nPUBSTATE              18120 non-null float64\noplocdistrict         31304 non-null int64\nindustryphy           31304 non-null int64\nindustryco            31304 non-null int64\nenttype               31304 non-null int64\nenttypeitem           31304 non-null int64\nstate                 31304 non-null int64\nadbusign              31304 non-null int64\ntownsign              31304 non-null int64\nregtype               31304 non-null int64\nempnum                20032 non-null float64\ncompform              9524 non-null float64\nparnum                3031 non-null float64\nexenum                2079 non-null float64\nopform                31304 non-null int64\nvenind                5107 non-null float64\nenttypeminu           31304 non-null int64\nregcap                31060 non-null float64\nreccap                17231 non-null float64\nforreccap             177 non-null float64\nforregcap             249 non-null float64\ncongro                248 non-null float64\ndtypes: float64(33), int64(12), object(1)\nmemory usage: 11.2+ MB\nNone\n                                                 id  label  \\\n0  09912c34159b1720558a419983a989f1dd2e0ed69a044ca3      0   \n1  09912c34159b1720558a419983a989f1dd2e0ed69a044ca3      0   \n2  09912c34159b1720558a419983a989f1dd2e0ed69a044ca3      0   \n3  09912c34159b1720558a419983a989f1dd2e0ed69a044ca3      0   \n4  09912c34159b1720558a419983a989f1dd2e0ed69a044ca3      0   \n\n   legal_judgment_num  brand_num  patent_num  positive_negtive  public_date  \\\n0                10.0       34.0         4.0               1.0       1393.0   \n1                10.0       34.0         4.0               1.0       1393.0   \n2                10.0       34.0         4.0               1.0       1396.0   \n3                10.0       34.0         4.0               1.0       1396.0   \n4                10.0       34.0         4.0               1.0       1396.0   \n\n   ANCHEYEAR  STATE  FUNDAM  ...  parnum  exenum  opform  venind  enttypeminu  \\\n0        NaN    NaN     NaN  ...     NaN     NaN       0     NaN            1   \n1        NaN    NaN     NaN  ...     NaN     NaN       0     NaN            1   \n2        NaN    NaN     NaN  ...     NaN     NaN       0     NaN            1   \n3        NaN    NaN     NaN  ...     NaN     NaN       0     NaN            1   \n4        NaN    NaN     NaN  ...     NaN     NaN       0     NaN            1   \n\n      regcap     reccap  forreccap  forregcap  congro  \n0  3851.9284  2232.5414        NaN        NaN     NaN  \n1  3851.9284  2232.5414        NaN        NaN     NaN  \n2  3851.9284  2232.5414        NaN        NaN     NaN  \n3  3851.9284  2232.5414        NaN        NaN     NaN  \n4  3851.9284  2232.5414        NaN        NaN     NaN  \n\n[5 rows x 46 columns]\n"
     ]
    }
   ],
   "source": [
    "# training_set = pd.merge(training_set, df_base_info, how='left', on='id')\n",
    "print(training_set.shape)\n",
    "print(training_set.info())\n",
    "print(training_set.head())\n"
   ]
  },
  {
   "cell_type": "code",
   "execution_count": null,
   "metadata": {},
   "outputs": [],
   "source": []
  }
 ]
}