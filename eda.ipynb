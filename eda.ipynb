{
 "metadata": {
  "language_info": {
   "codemirror_mode": {
    "name": "ipython",
    "version": 3
   },
   "file_extension": ".py",
   "mimetype": "text/x-python",
   "name": "python",
   "nbconvert_exporter": "python",
   "pygments_lexer": "ipython3",
   "version": "3.8.3-final"
  },
  "orig_nbformat": 2,
  "kernelspec": {
   "name": "Python 3.8.3 64-bit ('base': conda)",
   "display_name": "Python 3.8.3 64-bit ('base': conda)",
   "metadata": {
    "interpreter": {
     "hash": "0f7647c46a52d8262372530390fd76d13f7e40a8839f16696d0952a5bea40762"
    }
   }
  }
 },
 "nbformat": 4,
 "nbformat_minor": 2,
 "cells": [
  {
   "cell_type": "markdown",
   "metadata": {},
   "source": [
    "## CCF: 企业非法集资风险预测"
   ]
  },
  {
   "cell_type": "code",
   "execution_count": 8,
   "metadata": {},
   "outputs": [],
   "source": [
    "import time\n",
    "import math\n",
    "import warnings\n",
    "import numpy as np\n",
    "import pandas as pd\n",
    "import lightgbm as lgb\n",
    "from util import *\n",
    "\n",
    "t_base_info = \"./dataset/train/base_info.csv\"\n",
    "t_annual_report_info = \"./dataset/train/annual_report_info.csv\"\n",
    "t_tax_info = \"./dataset/train/tax_info.csv\"\n",
    "t_change_info = \"./dataset/train/change_info.csv\"\n",
    "t_news_info = \"./dataset/train/news_info.csv\"\n",
    "t_other_info = \"./dataset/train/other_info.csv\"\n",
    "t_entprise_info = \"./dataset/train/entprise_info.csv\" # train labeled data"
   ]
  },
  {
   "cell_type": "code",
   "execution_count": 9,
   "metadata": {
    "tags": []
   },
   "outputs": [
    {
     "output_type": "stream",
     "name": "stdout",
     "text": [
      "Reading...\n"
     ]
    }
   ],
   "source": [
    "print(\"Reading...\")\n",
    "# base_info = pd.read_csv('dataset/train/base_info.csv')"
   ]
  },
  {
   "cell_type": "code",
   "execution_count": 10,
   "metadata": {},
   "outputs": [],
   "source": [
    "# base_info.describe()"
   ]
  },
  {
   "source": [
    "### entprise_info"
   ],
   "cell_type": "markdown",
   "metadata": {}
  },
  {
   "cell_type": "code",
   "execution_count": 11,
   "metadata": {},
   "outputs": [
    {
     "output_type": "stream",
     "name": "stdout",
     "text": [
      "<class 'pandas.core.frame.DataFrame'>\nRangeIndex: 14865 entries, 0 to 14864\nData columns (total 2 columns):\n #   Column  Non-Null Count  Dtype \n---  ------  --------------  ----- \n 0   id      14865 non-null  object\n 1   label   14865 non-null  int64 \ndtypes: int64(1), object(1)\nmemory usage: 232.4+ KB\n"
     ]
    }
   ],
   "source": [
    "df_label_info = pd.read_csv(t_entprise_info, header=0)\n",
    "\n",
    "df_label_info.info()"
   ]
  },
  {
   "cell_type": "code",
   "execution_count": 12,
   "metadata": {},
   "outputs": [
    {
     "output_type": "execute_result",
     "data": {
      "text/plain": [
       "59b38c56de3836830e01bbfc9d637352fca123d55c0c4840    1\n",
       "d8071a739aa75a3b6e10545a01527e65ca25a2ab649bf230    1\n",
       "f000950527a6feb619d2e5dc9f09a14b1caf8a3d54240e5b    1\n",
       "59b38c56de383683777509481858dcd37519ff7776ccc5cf    1\n",
       "f000950527a6feb681588a59f998db9966778dabfa1f7f4b    1\n",
       "                                                   ..\n",
       "755db3b5c5f74eb4512bf9e7830426b50c8bfb581174ea43    1\n",
       "f000950527a6feb65d91c5dfb7459922c227f09010bc5ad0    1\n",
       "f1c1045b13d18329d8822d516660007659ea3ad68f24cca4    1\n",
       "82750f1b9d122350bab2e8b123142477b1a9bc2d7678c527    1\n",
       "d8071a739aa75a3be9225cff8393ef95165f1e17abd62dfe    1\n",
       "Name: id, Length: 14865, dtype: int64"
      ]
     },
     "metadata": {},
     "execution_count": 12
    }
   ],
   "source": [
    "df_label_info['label'].unique()\n",
    "df_label_info['id'].unique()\n",
    "df_label_info['label'].value_counts()\n",
    "df_label_info['id'].value_counts()\n"
   ]
  },
  {
   "source": [
    "### other_info.csv"
   ],
   "cell_type": "markdown",
   "metadata": {}
  },
  {
   "cell_type": "code",
   "execution_count": 26,
   "metadata": {},
   "outputs": [
    {
     "output_type": "execute_result",
     "data": {
      "text/plain": [
       "                                                 id  legal_judgment_num  \\\n",
       "0  f000950527a6feb6d340f91da09e61347d8200cd2f0d1602                 4.0   \n",
       "1  f000950527a6feb608dd9322b74a99f60851207f36a3c94c                 1.0   \n",
       "2  d8071a739aa75a3b9f23966f8dae78fd226c272515b9c255                 2.0   \n",
       "3  216bd2aaf4d079242209b1496f81a36c7abed9dd0bb65ed3                 NaN   \n",
       "4  e9f7b28ec10e0470de9631c789f49acdd4e7cf9ed6db094b                 NaN   \n",
       "\n",
       "   brand_num  patent_num  \n",
       "0        NaN         NaN  \n",
       "1        NaN         NaN  \n",
       "2        NaN         NaN  \n",
       "3        1.0         NaN  \n",
       "4        2.0         NaN  "
      ],
      "text/html": "<div>\n<style scoped>\n    .dataframe tbody tr th:only-of-type {\n        vertical-align: middle;\n    }\n\n    .dataframe tbody tr th {\n        vertical-align: top;\n    }\n\n    .dataframe thead th {\n        text-align: right;\n    }\n</style>\n<table border=\"1\" class=\"dataframe\">\n  <thead>\n    <tr style=\"text-align: right;\">\n      <th></th>\n      <th>id</th>\n      <th>legal_judgment_num</th>\n      <th>brand_num</th>\n      <th>patent_num</th>\n    </tr>\n  </thead>\n  <tbody>\n    <tr>\n      <th>0</th>\n      <td>f000950527a6feb6d340f91da09e61347d8200cd2f0d1602</td>\n      <td>4.0</td>\n      <td>NaN</td>\n      <td>NaN</td>\n    </tr>\n    <tr>\n      <th>1</th>\n      <td>f000950527a6feb608dd9322b74a99f60851207f36a3c94c</td>\n      <td>1.0</td>\n      <td>NaN</td>\n      <td>NaN</td>\n    </tr>\n    <tr>\n      <th>2</th>\n      <td>d8071a739aa75a3b9f23966f8dae78fd226c272515b9c255</td>\n      <td>2.0</td>\n      <td>NaN</td>\n      <td>NaN</td>\n    </tr>\n    <tr>\n      <th>3</th>\n      <td>216bd2aaf4d079242209b1496f81a36c7abed9dd0bb65ed3</td>\n      <td>NaN</td>\n      <td>1.0</td>\n      <td>NaN</td>\n    </tr>\n    <tr>\n      <th>4</th>\n      <td>e9f7b28ec10e0470de9631c789f49acdd4e7cf9ed6db094b</td>\n      <td>NaN</td>\n      <td>2.0</td>\n      <td>NaN</td>\n    </tr>\n  </tbody>\n</table>\n</div>"
     },
     "metadata": {},
     "execution_count": 26
    }
   ],
   "source": [
    "# TODO: 特征空值过多 如何处理？ #\n",
    "df_other_info = pd.read_csv(t_other_info, header=0)\n",
    "df_other_info['legal_judgment_num'].value_counts()\n",
    "df_other_info.shape\n",
    "df_other_info.head(5)"
   ]
  },
  {
   "cell_type": "code",
   "execution_count": 27,
   "metadata": {},
   "outputs": [
    {
     "output_type": "stream",
     "name": "stdout",
     "text": [
      "884 981 1494\n"
     ]
    }
   ],
   "source": [
    "# 统计空值的个数\n",
    "null_cnt_lj = df_other_info['legal_judgment_num'].isnull().sum(axis=0)\n",
    "null_cnt_br = df_other_info['brand_num'].isnull().sum(axis=0)\n",
    "null_cnt_pt = df_other_info['patent_num'].isnull().sum(axis=0)\n",
    "print(null_cnt, null_cnt_br, null_cnt_pt)\n"
   ]
  },
  {
   "cell_type": "code",
   "execution_count": 95,
   "metadata": {},
   "outputs": [
    {
     "output_type": "error",
     "ename": "NameError",
     "evalue": "name 'df_label_info' is not defined",
     "traceback": [
      "\u001b[1;31m---------------------------------------------------------------------------\u001b[0m",
      "\u001b[1;31mNameError\u001b[0m                                 Traceback (most recent call last)",
      "\u001b[1;32m<ipython-input-95-a3c4106edf07>\u001b[0m in \u001b[0;36m<module>\u001b[1;34m\u001b[0m\n\u001b[1;32m----> 1\u001b[1;33m \u001b[0mtraining_set\u001b[0m \u001b[1;33m=\u001b[0m \u001b[0mpd\u001b[0m\u001b[1;33m.\u001b[0m\u001b[0mmerge\u001b[0m\u001b[1;33m(\u001b[0m\u001b[0mdf_label_info\u001b[0m\u001b[1;33m,\u001b[0m \u001b[0mdf_other_info\u001b[0m\u001b[1;33m,\u001b[0m \u001b[0mhow\u001b[0m\u001b[1;33m=\u001b[0m\u001b[1;34m'left'\u001b[0m\u001b[1;33m,\u001b[0m \u001b[0mon\u001b[0m\u001b[1;33m=\u001b[0m\u001b[1;34m'id'\u001b[0m\u001b[1;33m)\u001b[0m\u001b[1;33m\u001b[0m\u001b[1;33m\u001b[0m\u001b[0m\n\u001b[0m\u001b[0;32m      2\u001b[0m \u001b[1;31m# 释放内存\u001b[0m\u001b[1;33m\u001b[0m\u001b[1;33m\u001b[0m\u001b[1;33m\u001b[0m\u001b[0m\n\u001b[0;32m      3\u001b[0m \u001b[1;32mdel\u001b[0m \u001b[0mdf_label_info\u001b[0m\u001b[1;33m\u001b[0m\u001b[1;33m\u001b[0m\u001b[0m\n\u001b[0;32m      4\u001b[0m \u001b[1;32mdel\u001b[0m \u001b[0mdf_other_info\u001b[0m\u001b[1;33m\u001b[0m\u001b[1;33m\u001b[0m\u001b[0m\n\u001b[0;32m      5\u001b[0m \u001b[1;31m# training_set['id'].value_counts()\u001b[0m\u001b[1;33m\u001b[0m\u001b[1;33m\u001b[0m\u001b[1;33m\u001b[0m\u001b[0m\n",
      "\u001b[1;31mNameError\u001b[0m: name 'df_label_info' is not defined"
     ]
    }
   ],
   "source": [
    "training_set = pd.merge(df_label_info, df_other_info, how='left', on='id')\n",
    "# 释放内存\n",
    "del df_label_info\n",
    "del df_other_info\n",
    "# training_set['id'].value_counts()\n",
    "training_set = training_set.groupby(['id'], as_index=False).mean()\n",
    "# training_set[training_set['id'] == \"f000950527a6feb63702b1f6c1dabe5ea196d320bbbff425\"]\n",
    "training_set.shape"
   ]
  },
  {
   "source": [
    "### news_info.csv"
   ],
   "cell_type": "markdown",
   "metadata": {}
  },
  {
   "cell_type": "code",
   "execution_count": 15,
   "metadata": {},
   "outputs": [
    {
     "output_type": "stream",
     "name": "stdout",
     "text": [
      "time data '4小时前' does not match format '%Y-%m-%d'\n",
      "time data '14小时前' does not match format '%Y-%m-%d'\n",
      "time data '25分钟前' does not match format '%Y-%m-%d'\n",
      "time data '30分钟前' does not match format '%Y-%m-%d'\n",
      "time data '1小时前' does not match format '%Y-%m-%d'\n",
      "time data '2小时前' does not match format '%Y-%m-%d'\n",
      "time data '2小时前' does not match format '%Y-%m-%d'\n",
      "time data '8小时前' does not match format '%Y-%m-%d'\n",
      "time data '9小时前' does not match format '%Y-%m-%d'\n",
      "time data '22小时前' does not match format '%Y-%m-%d'\n",
      "time data '23小时前' does not match format '%Y-%m-%d'\n",
      "time data '6小时前' does not match format '%Y-%m-%d'\n",
      "time data '5小时前' does not match format '%Y-%m-%d'\n",
      "time data '8小时前' does not match format '%Y-%m-%d'\n",
      "time data '8小时前' does not match format '%Y-%m-%d'\n",
      "time data '9小时前' does not match format '%Y-%m-%d'\n"
     ]
    },
    {
     "output_type": "execute_result",
     "data": {
      "text/plain": [
       "(10518, 3)"
      ]
     },
     "metadata": {},
     "execution_count": 15
    }
   ],
   "source": [
    "#  TODO: 随着时间变化，news的态度不同 但是标签只能是一个#\n",
    "df_news_info = pd.read_csv(t_news_info, header=0)\n",
    "\n",
    "dict_atitude = {\"积极\": 0, \"中立\": 1, \"消极\": 2}\n",
    "df_news_info['positive_negtive'] = df_news_info['positive_negtive'].map(lambda x : dict_atitude[x])\n",
    "# public date 转变成迄今为止发生时间\n",
    "cmp_date = \"2020-10-09\"\n",
    "from util import *\n",
    "\n",
    "# df_news_info['public_date'] = df_news_info['public_date'].map(lambda x: check_date(x))\n",
    "# df_news_info['public_date'].value_counts()\n",
    "# 处理\"xx小时前\" 数据统一为昨天更新 \n",
    "def handle_public_date(str):\n",
    "    if(check_date(str) == False):\n",
    "        return 1\n",
    "    else:\n",
    "        return days(cmp_date, str)\n",
    "df_news_info['public_date'] = df_news_info['public_date'].map(lambda x: handle_public_date(x))\n",
    "df_news_info.shape"
   ]
  },
  {
   "cell_type": "code",
   "execution_count": 18,
   "metadata": {},
   "outputs": [
    {
     "output_type": "execute_result",
     "data": {
      "text/plain": [
       "f000950527a6feb63702b1f6c1dabe5ea196d320bbbff425    1193\n",
       "d8071a739aa75a3b04c9a1789bd657ef83e10c02b1a9fef5     290\n",
       "f000950527a6feb6194eb25023f715fa9ec0166d20cc8aed     215\n",
       "f000950527a6feb6c0db441978864a6a0f04668a61d0bab6     202\n",
       "f000950527a6feb6375809f26c0e7fa103f56259da2e53ac     160\n",
       "                                                    ... \n",
       "59b38c56de383683bb52e42f81ee59ff54829b6a35cd7405       1\n",
       "d8071a739aa75a3b6eea69adcb8ac0aa156b002cb8cec99a       1\n",
       "216bd2aaf4d07924c692faa474afe4b4bf531635e503dcdc       1\n",
       "f000950527a6feb684a4a1834bc09a886b678fc0ef24180b       1\n",
       "d8071a739aa75a3be9225cff8393ef95165f1e17abd62dfe       1\n",
       "Name: id, Length: 14865, dtype: int64"
      ]
     },
     "metadata": {},
     "execution_count": 18
    }
   ],
   "source": [
    "training_set = pd.merge(training_set, df_news_info, how='left', on='id')\n",
    "training_set['id'].value_counts()"
   ]
  },
  {
   "cell_type": "code",
   "execution_count": 29,
   "metadata": {},
   "outputs": [
    {
     "output_type": "stream",
     "name": "stdout",
     "text": [
      "<class 'pandas.core.frame.DataFrame'>\nInt64Index: 19407 entries, 0 to 19406\nData columns (total 7 columns):\n #   Column              Non-Null Count  Dtype  \n---  ------              --------------  -----  \n 0   id                  19407 non-null  object \n 1   label               19407 non-null  int64  \n 2   legal_judgment_num  3258 non-null   float64\n 3   brand_num           2924 non-null   float64\n 4   patent_num          2334 non-null   float64\n 5   positive_negtive    4930 non-null   float64\n 6   public_date         4930 non-null   float64\ndtypes: float64(5), int64(1), object(1)\nmemory usage: 1.8+ MB\n"
     ]
    }
   ],
   "source": [
    "# 一个id对应不同时间的不同新闻评价\n",
    "tmp = training_set[training_set['id'] == \"f000950527a6feb63702b1f6c1dabe5ea196d320bbbff425\"]\n",
    "tmp.head(100)\n",
    "training_set.shape\n",
    "training_set.info()"
   ]
  },
  {
   "source": [
    "### change_info.csv"
   ],
   "cell_type": "markdown",
   "metadata": {}
  },
  {
   "cell_type": "code",
   "execution_count": 41,
   "metadata": {},
   "outputs": [
    {
     "output_type": "execute_result",
     "data": {
      "text/plain": [
       "                                                 id       bgrq\n",
       "0  9c7fa510616a683058ce97d0bc768a621cd85ab1e87da2a3  30.636238\n",
       "1  9c7fa510616a683058ce97d0bc768a621cd85ab1e87da2a3  30.636238\n",
       "2  e9f7b28ec10e047000d16ab79e1b5e6da434a1697cce7818  30.635224\n",
       "3  e9f7b28ec10e047000d16ab79e1b5e6da434a1697cce7818  30.635224\n",
       "4  e9f7b28ec10e047000d16ab79e1b5e6da434a1697cce7818  30.635224"
      ],
      "text/html": "<div>\n<style scoped>\n    .dataframe tbody tr th:only-of-type {\n        vertical-align: middle;\n    }\n\n    .dataframe tbody tr th {\n        vertical-align: top;\n    }\n\n    .dataframe thead th {\n        text-align: right;\n    }\n</style>\n<table border=\"1\" class=\"dataframe\">\n  <thead>\n    <tr style=\"text-align: right;\">\n      <th></th>\n      <th>id</th>\n      <th>bgrq</th>\n    </tr>\n  </thead>\n  <tbody>\n    <tr>\n      <th>0</th>\n      <td>9c7fa510616a683058ce97d0bc768a621cd85ab1e87da2a3</td>\n      <td>30.636238</td>\n    </tr>\n    <tr>\n      <th>1</th>\n      <td>9c7fa510616a683058ce97d0bc768a621cd85ab1e87da2a3</td>\n      <td>30.636238</td>\n    </tr>\n    <tr>\n      <th>2</th>\n      <td>e9f7b28ec10e047000d16ab79e1b5e6da434a1697cce7818</td>\n      <td>30.635224</td>\n    </tr>\n    <tr>\n      <th>3</th>\n      <td>e9f7b28ec10e047000d16ab79e1b5e6da434a1697cce7818</td>\n      <td>30.635224</td>\n    </tr>\n    <tr>\n      <th>4</th>\n      <td>e9f7b28ec10e047000d16ab79e1b5e6da434a1697cce7818</td>\n      <td>30.635224</td>\n    </tr>\n  </tbody>\n</table>\n</div>"
     },
     "metadata": {},
     "execution_count": 41
    }
   ],
   "source": [
    "# TODO: 变更信息如何处理  这里直接删除 只保留变更时间 #\n",
    "df_change_info = pd.read_csv(t_change_info, header=0)\n",
    "# df_change_info['bqyf'] = df_change_info[['bgq', 'bgh']].apply(lambda x: x['bgq'] == x['bgh'], axis=1)\n",
    "# del df_change_info[]\n",
    "# df_change_info.shape\n",
    "del df_change_info['bgxmdm']\n",
    "del df_change_info['bgq']\n",
    "del df_change_info['bgh']\n",
    "df_change_info['bgrq'] = df_change_info['bgrq'].apply(np.log)\n",
    "# 平滑 bgrq:变更日期\n",
    "df_change_info.head()"
   ]
  },
  {
   "source": [
    "### tax_info.csv\n"
   ],
   "cell_type": "markdown",
   "metadata": {}
  },
  {
   "cell_type": "code",
   "execution_count": 88,
   "metadata": {
    "tags": []
   },
   "outputs": [
    {
     "output_type": "execute_result",
     "data": {
      "text/plain": [
       "                                                 id  TAX_CATEGORIES  \\\n",
       "0  f000950527a6feb6c2f40c9d8477e73a439dfa0897830397               0   \n",
       "1  f000950527a6feb6c2f40c9d8477e73a439dfa0897830397               0   \n",
       "2  f000950527a6feb6c2f40c9d8477e73a439dfa0897830397               0   \n",
       "3  f000950527a6feb6c2f40c9d8477e73a439dfa0897830397               0   \n",
       "4  f000950527a6feb6c2f40c9d8477e73a439dfa0897830397               0   \n",
       "\n",
       "   TAX_ITEMS  TAXATION_BASIS  TAX_RATE  DEDUCTION  TAX_AMOUNT  TAX_DAYS  \n",
       "0          0       11.191766    0.0003      -0.04        21.8        29  \n",
       "1          1       11.191766    0.0003      -0.04        21.8        29  \n",
       "2          2       11.191766    0.0003      -0.04        21.8        29  \n",
       "3          3       11.191766    0.0003      -0.04        21.8        29  \n",
       "4          4       11.191766    0.0003      -0.04        21.8        29  "
      ],
      "text/html": "<div>\n<style scoped>\n    .dataframe tbody tr th:only-of-type {\n        vertical-align: middle;\n    }\n\n    .dataframe tbody tr th {\n        vertical-align: top;\n    }\n\n    .dataframe thead th {\n        text-align: right;\n    }\n</style>\n<table border=\"1\" class=\"dataframe\">\n  <thead>\n    <tr style=\"text-align: right;\">\n      <th></th>\n      <th>id</th>\n      <th>TAX_CATEGORIES</th>\n      <th>TAX_ITEMS</th>\n      <th>TAXATION_BASIS</th>\n      <th>TAX_RATE</th>\n      <th>DEDUCTION</th>\n      <th>TAX_AMOUNT</th>\n      <th>TAX_DAYS</th>\n    </tr>\n  </thead>\n  <tbody>\n    <tr>\n      <th>0</th>\n      <td>f000950527a6feb6c2f40c9d8477e73a439dfa0897830397</td>\n      <td>0</td>\n      <td>0</td>\n      <td>11.191766</td>\n      <td>0.0003</td>\n      <td>-0.04</td>\n      <td>21.8</td>\n      <td>29</td>\n    </tr>\n    <tr>\n      <th>1</th>\n      <td>f000950527a6feb6c2f40c9d8477e73a439dfa0897830397</td>\n      <td>0</td>\n      <td>1</td>\n      <td>11.191766</td>\n      <td>0.0003</td>\n      <td>-0.04</td>\n      <td>21.8</td>\n      <td>29</td>\n    </tr>\n    <tr>\n      <th>2</th>\n      <td>f000950527a6feb6c2f40c9d8477e73a439dfa0897830397</td>\n      <td>0</td>\n      <td>2</td>\n      <td>11.191766</td>\n      <td>0.0003</td>\n      <td>-0.04</td>\n      <td>21.8</td>\n      <td>29</td>\n    </tr>\n    <tr>\n      <th>3</th>\n      <td>f000950527a6feb6c2f40c9d8477e73a439dfa0897830397</td>\n      <td>0</td>\n      <td>3</td>\n      <td>11.191766</td>\n      <td>0.0003</td>\n      <td>-0.04</td>\n      <td>21.8</td>\n      <td>29</td>\n    </tr>\n    <tr>\n      <th>4</th>\n      <td>f000950527a6feb6c2f40c9d8477e73a439dfa0897830397</td>\n      <td>0</td>\n      <td>4</td>\n      <td>11.191766</td>\n      <td>0.0003</td>\n      <td>-0.04</td>\n      <td>21.8</td>\n      <td>29</td>\n    </tr>\n  </tbody>\n</table>\n</div>"
     },
     "metadata": {},
     "execution_count": 88
    }
   ],
   "source": [
    "# TODO: 很多统计信息， 需要去提取特征 #\n",
    "df_tax_info = pd.read_csv(t_tax_info, header=0)\n",
    "df_tax_info['TAX_CATEGORIES'].value_counts()\n",
    "df_tax_info['TAX_ITEMS'].value_counts()\n",
    "df_tax_info['TAX_AMOUNT'].value_counts()\n",
    "df_tax_info['TAXATION_BASIS'].value_counts()\n",
    "\n",
    "df_tax_info['TAX_DAYS'] = df_tax_info[['START_DATE', 'END_DATE']].apply(lambda x : days_v1(x['END_DATE'], x['START_DATE']), axis=1)\n",
    "\n",
    "del df_tax_info['START_DATE']\n",
    "del df_tax_info['END_DATE']\n",
    "\n",
    "tax_cg_dict = {}\n",
    "cnt = 0\n",
    "for e in df_tax_info['TAX_CATEGORIES']:\n",
    "    if e in tax_cg_dict: continue\n",
    "    else:\n",
    "        tax_cg_dict[e] = cnt \n",
    "        cnt += 1\n",
    "\n",
    "df_tax_info['TAX_CATEGORIES'] = df_tax_info['TAX_CATEGORIES'].map(lambda x : tax_cg_dict[x])\n",
    "\n",
    "tax_it_dict = {}\n",
    "cnt = 0\n",
    "for e in df_tax_info['TAX_ITEMS']:\n",
    "    if e in tax_it_dict: continue\n",
    "    else:\n",
    "        tax_it_dict[e] = cnt \n",
    "        cnt += 1\n",
    "df_tax_info['TAX_ITEMS'] = df_tax_info['TAX_ITEMS'].map(lambda x : tax_it_dict[x])\n",
    "df_tax_info['TAXATION_BASIS'] = df_tax_info['TAXATION_BASIS'].apply(np.log)\n",
    "\n",
    "df_tax_info.head()\n"
   ]
  },
  {
   "cell_type": "code",
   "execution_count": 92,
   "metadata": {},
   "outputs": [
    {
     "output_type": "error",
     "ename": "MemoryError",
     "evalue": "Unable to allocate 750. MiB for an array with shape (98356341,) and data type int64",
     "traceback": [
      "\u001b[1;31m---------------------------------------------------------------------------\u001b[0m",
      "\u001b[1;31mMemoryError\u001b[0m                               Traceback (most recent call last)",
      "\u001b[1;32m<ipython-input-92-db5d533b23f4>\u001b[0m in \u001b[0;36m<module>\u001b[1;34m\u001b[0m\n\u001b[1;32m----> 1\u001b[1;33m \u001b[0mtraining_set\u001b[0m \u001b[1;33m=\u001b[0m \u001b[0mpd\u001b[0m\u001b[1;33m.\u001b[0m\u001b[0mmerge\u001b[0m\u001b[1;33m(\u001b[0m\u001b[0mtraining_set\u001b[0m\u001b[1;33m,\u001b[0m \u001b[0mdf_tax_info\u001b[0m\u001b[1;33m,\u001b[0m \u001b[0mhow\u001b[0m\u001b[1;33m=\u001b[0m\u001b[1;34m'left'\u001b[0m\u001b[1;33m,\u001b[0m \u001b[0mon\u001b[0m\u001b[1;33m=\u001b[0m\u001b[1;34m'id'\u001b[0m\u001b[1;33m)\u001b[0m\u001b[1;33m\u001b[0m\u001b[1;33m\u001b[0m\u001b[0m\n\u001b[0m\u001b[0;32m      2\u001b[0m \u001b[1;33m\u001b[0m\u001b[0m\n\u001b[0;32m      3\u001b[0m \u001b[1;31m# training_set['id'].value_counts()\u001b[0m\u001b[1;33m\u001b[0m\u001b[1;33m\u001b[0m\u001b[1;33m\u001b[0m\u001b[0m\n\u001b[0;32m      4\u001b[0m \u001b[1;31m# training_set.info()\u001b[0m\u001b[1;33m\u001b[0m\u001b[1;33m\u001b[0m\u001b[1;33m\u001b[0m\u001b[0m\n\u001b[0;32m      5\u001b[0m \u001b[0mtraining_set\u001b[0m\u001b[1;33m.\u001b[0m\u001b[0mshape\u001b[0m\u001b[1;33m\u001b[0m\u001b[1;33m\u001b[0m\u001b[0m\n",
      "\u001b[1;32mE:\\anaconda\\pkg\\lib\\site-packages\\pandas\\core\\reshape\\merge.py\u001b[0m in \u001b[0;36mmerge\u001b[1;34m(left, right, how, on, left_on, right_on, left_index, right_index, sort, suffixes, copy, indicator, validate)\u001b[0m\n\u001b[0;32m     86\u001b[0m         \u001b[0mvalidate\u001b[0m\u001b[1;33m=\u001b[0m\u001b[0mvalidate\u001b[0m\u001b[1;33m,\u001b[0m\u001b[1;33m\u001b[0m\u001b[1;33m\u001b[0m\u001b[0m\n\u001b[0;32m     87\u001b[0m     )\n\u001b[1;32m---> 88\u001b[1;33m     \u001b[1;32mreturn\u001b[0m \u001b[0mop\u001b[0m\u001b[1;33m.\u001b[0m\u001b[0mget_result\u001b[0m\u001b[1;33m(\u001b[0m\u001b[1;33m)\u001b[0m\u001b[1;33m\u001b[0m\u001b[1;33m\u001b[0m\u001b[0m\n\u001b[0m\u001b[0;32m     89\u001b[0m \u001b[1;33m\u001b[0m\u001b[0m\n\u001b[0;32m     90\u001b[0m \u001b[1;33m\u001b[0m\u001b[0m\n",
      "\u001b[1;32mE:\\anaconda\\pkg\\lib\\site-packages\\pandas\\core\\reshape\\merge.py\u001b[0m in \u001b[0;36mget_result\u001b[1;34m(self)\u001b[0m\n\u001b[0;32m    641\u001b[0m             \u001b[0mself\u001b[0m\u001b[1;33m.\u001b[0m\u001b[0mleft\u001b[0m\u001b[1;33m,\u001b[0m \u001b[0mself\u001b[0m\u001b[1;33m.\u001b[0m\u001b[0mright\u001b[0m \u001b[1;33m=\u001b[0m \u001b[0mself\u001b[0m\u001b[1;33m.\u001b[0m\u001b[0m_indicator_pre_merge\u001b[0m\u001b[1;33m(\u001b[0m\u001b[0mself\u001b[0m\u001b[1;33m.\u001b[0m\u001b[0mleft\u001b[0m\u001b[1;33m,\u001b[0m \u001b[0mself\u001b[0m\u001b[1;33m.\u001b[0m\u001b[0mright\u001b[0m\u001b[1;33m)\u001b[0m\u001b[1;33m\u001b[0m\u001b[1;33m\u001b[0m\u001b[0m\n\u001b[0;32m    642\u001b[0m \u001b[1;33m\u001b[0m\u001b[0m\n\u001b[1;32m--> 643\u001b[1;33m         \u001b[0mjoin_index\u001b[0m\u001b[1;33m,\u001b[0m \u001b[0mleft_indexer\u001b[0m\u001b[1;33m,\u001b[0m \u001b[0mright_indexer\u001b[0m \u001b[1;33m=\u001b[0m \u001b[0mself\u001b[0m\u001b[1;33m.\u001b[0m\u001b[0m_get_join_info\u001b[0m\u001b[1;33m(\u001b[0m\u001b[1;33m)\u001b[0m\u001b[1;33m\u001b[0m\u001b[1;33m\u001b[0m\u001b[0m\n\u001b[0m\u001b[0;32m    644\u001b[0m \u001b[1;33m\u001b[0m\u001b[0m\n\u001b[0;32m    645\u001b[0m         \u001b[0mldata\u001b[0m\u001b[1;33m,\u001b[0m \u001b[0mrdata\u001b[0m \u001b[1;33m=\u001b[0m \u001b[0mself\u001b[0m\u001b[1;33m.\u001b[0m\u001b[0mleft\u001b[0m\u001b[1;33m.\u001b[0m\u001b[0m_data\u001b[0m\u001b[1;33m,\u001b[0m \u001b[0mself\u001b[0m\u001b[1;33m.\u001b[0m\u001b[0mright\u001b[0m\u001b[1;33m.\u001b[0m\u001b[0m_data\u001b[0m\u001b[1;33m\u001b[0m\u001b[1;33m\u001b[0m\u001b[0m\n",
      "\u001b[1;32mE:\\anaconda\\pkg\\lib\\site-packages\\pandas\\core\\reshape\\merge.py\u001b[0m in \u001b[0;36m_get_join_info\u001b[1;34m(self)\u001b[0m\n\u001b[0;32m    860\u001b[0m             )\n\u001b[0;32m    861\u001b[0m         \u001b[1;32melse\u001b[0m\u001b[1;33m:\u001b[0m\u001b[1;33m\u001b[0m\u001b[1;33m\u001b[0m\u001b[0m\n\u001b[1;32m--> 862\u001b[1;33m             \u001b[1;33m(\u001b[0m\u001b[0mleft_indexer\u001b[0m\u001b[1;33m,\u001b[0m \u001b[0mright_indexer\u001b[0m\u001b[1;33m)\u001b[0m \u001b[1;33m=\u001b[0m \u001b[0mself\u001b[0m\u001b[1;33m.\u001b[0m\u001b[0m_get_join_indexers\u001b[0m\u001b[1;33m(\u001b[0m\u001b[1;33m)\u001b[0m\u001b[1;33m\u001b[0m\u001b[1;33m\u001b[0m\u001b[0m\n\u001b[0m\u001b[0;32m    863\u001b[0m \u001b[1;33m\u001b[0m\u001b[0m\n\u001b[0;32m    864\u001b[0m             \u001b[1;32mif\u001b[0m \u001b[0mself\u001b[0m\u001b[1;33m.\u001b[0m\u001b[0mright_index\u001b[0m\u001b[1;33m:\u001b[0m\u001b[1;33m\u001b[0m\u001b[1;33m\u001b[0m\u001b[0m\n",
      "\u001b[1;32mE:\\anaconda\\pkg\\lib\\site-packages\\pandas\\core\\reshape\\merge.py\u001b[0m in \u001b[0;36m_get_join_indexers\u001b[1;34m(self)\u001b[0m\n\u001b[0;32m    838\u001b[0m     \u001b[1;32mdef\u001b[0m \u001b[0m_get_join_indexers\u001b[0m\u001b[1;33m(\u001b[0m\u001b[0mself\u001b[0m\u001b[1;33m)\u001b[0m\u001b[1;33m:\u001b[0m\u001b[1;33m\u001b[0m\u001b[1;33m\u001b[0m\u001b[0m\n\u001b[0;32m    839\u001b[0m         \u001b[1;34m\"\"\" return the join indexers \"\"\"\u001b[0m\u001b[1;33m\u001b[0m\u001b[1;33m\u001b[0m\u001b[0m\n\u001b[1;32m--> 840\u001b[1;33m         return _get_join_indexers(\n\u001b[0m\u001b[0;32m    841\u001b[0m             \u001b[0mself\u001b[0m\u001b[1;33m.\u001b[0m\u001b[0mleft_join_keys\u001b[0m\u001b[1;33m,\u001b[0m \u001b[0mself\u001b[0m\u001b[1;33m.\u001b[0m\u001b[0mright_join_keys\u001b[0m\u001b[1;33m,\u001b[0m \u001b[0msort\u001b[0m\u001b[1;33m=\u001b[0m\u001b[0mself\u001b[0m\u001b[1;33m.\u001b[0m\u001b[0msort\u001b[0m\u001b[1;33m,\u001b[0m \u001b[0mhow\u001b[0m\u001b[1;33m=\u001b[0m\u001b[0mself\u001b[0m\u001b[1;33m.\u001b[0m\u001b[0mhow\u001b[0m\u001b[1;33m\u001b[0m\u001b[1;33m\u001b[0m\u001b[0m\n\u001b[0;32m    842\u001b[0m         )\n",
      "\u001b[1;32mE:\\anaconda\\pkg\\lib\\site-packages\\pandas\\core\\reshape\\merge.py\u001b[0m in \u001b[0;36m_get_join_indexers\u001b[1;34m(left_keys, right_keys, sort, how, **kwargs)\u001b[0m\n\u001b[0;32m   1326\u001b[0m     \u001b[0mjoin_func\u001b[0m \u001b[1;33m=\u001b[0m \u001b[0m_join_functions\u001b[0m\u001b[1;33m[\u001b[0m\u001b[0mhow\u001b[0m\u001b[1;33m]\u001b[0m\u001b[1;33m\u001b[0m\u001b[1;33m\u001b[0m\u001b[0m\n\u001b[0;32m   1327\u001b[0m \u001b[1;33m\u001b[0m\u001b[0m\n\u001b[1;32m-> 1328\u001b[1;33m     \u001b[1;32mreturn\u001b[0m \u001b[0mjoin_func\u001b[0m\u001b[1;33m(\u001b[0m\u001b[0mlkey\u001b[0m\u001b[1;33m,\u001b[0m \u001b[0mrkey\u001b[0m\u001b[1;33m,\u001b[0m \u001b[0mcount\u001b[0m\u001b[1;33m,\u001b[0m \u001b[1;33m**\u001b[0m\u001b[0mkwargs\u001b[0m\u001b[1;33m)\u001b[0m\u001b[1;33m\u001b[0m\u001b[1;33m\u001b[0m\u001b[0m\n\u001b[0m\u001b[0;32m   1329\u001b[0m \u001b[1;33m\u001b[0m\u001b[0m\n\u001b[0;32m   1330\u001b[0m \u001b[1;33m\u001b[0m\u001b[0m\n",
      "\u001b[1;32mpandas\\_libs\\join.pyx\u001b[0m in \u001b[0;36mpandas._libs.join.left_outer_join\u001b[1;34m()\u001b[0m\n",
      "\u001b[1;32mpandas\\_libs\\join.pyx\u001b[0m in \u001b[0;36mpandas._libs.join._get_result_indexer\u001b[1;34m()\u001b[0m\n",
      "\u001b[1;31mMemoryError\u001b[0m: Unable to allocate 750. MiB for an array with shape (98356341,) and data type int64"
     ]
    }
   ],
   "source": [
    "training_set = pd.merge(training_set, df_tax_info, how='left', on='id')\n",
    "# training_set['id'].value_counts()\n",
    "# training_set.info()\n",
    "training_set.shape"
   ]
  },
  {
   "source": [
    "### annual_report_info.csv"
   ],
   "cell_type": "markdown",
   "metadata": {}
  },
  {
   "cell_type": "code",
   "execution_count": 100,
   "metadata": {},
   "outputs": [
    {
     "output_type": "execute_result",
     "data": {
      "text/plain": [
       "                                                 id  ANCHEYEAR  STATE  FUNDAM  \\\n",
       "0  9c7fa510616a683058ce97d0bc768a621cd85ab1e87da2a3     2017.0    2.0     5.0   \n",
       "1  9c7fa510616a683058ce97d0bc768a621cd85ab1e87da2a3     2018.0    2.0     2.0   \n",
       "2  f000950527a6feb63ee1ce82bb22ddd1ab8b8fdffa3b91fb     2017.0    2.0     NaN   \n",
       "3  f000950527a6feb63ee1ce82bb22ddd1ab8b8fdffa3b91fb     2018.0    2.0     NaN   \n",
       "4  9c7fa510616a68309e4badf2a7a3123c0462fb85bf28ef17     2017.0    2.0     5.0   \n",
       "\n",
       "   MEMNUM  FARNUM  ANNNEWMEMNUM  ANNREDMEMNUM  EMPNUM  EMPNUMSIGN  ...  \\\n",
       "0     NaN     NaN           NaN           NaN    10.0         NaN  ...   \n",
       "1     NaN     NaN           NaN           NaN     2.0         NaN  ...   \n",
       "2     NaN     NaN           NaN           NaN     4.0         2.0  ...   \n",
       "3     NaN     NaN           NaN           NaN     3.0         2.0  ...   \n",
       "4     NaN     NaN           NaN           NaN    10.0         NaN  ...   \n",
       "\n",
       "  DISPERNUM  UNENUM  COLEMPLNUM  RETEMPLNUM  DISEMPLNUM  UNEEMPLNUM  \\\n",
       "0       0.0     0.0         0.0         0.0         0.0         0.0   \n",
       "1       0.0     0.0         0.0         0.0         0.0         0.0   \n",
       "2       0.0     0.0         1.0         0.0         0.0         0.0   \n",
       "3       0.0     0.0         2.0         0.0         0.0         0.0   \n",
       "4       0.0     0.0         0.0         0.0         0.0         0.0   \n",
       "\n",
       "   WEBSITSIGN  FORINVESTSIGN  STOCKTRANSIGN  PUBSTATE  \n",
       "0         2.0            NaN            NaN       3.0  \n",
       "1         2.0            NaN            NaN       3.0  \n",
       "2         2.0            2.0            2.0       3.0  \n",
       "3         2.0            2.0            2.0       3.0  \n",
       "4         2.0            NaN            NaN       3.0  \n",
       "\n",
       "[5 rows x 23 columns]"
      ],
      "text/html": "<div>\n<style scoped>\n    .dataframe tbody tr th:only-of-type {\n        vertical-align: middle;\n    }\n\n    .dataframe tbody tr th {\n        vertical-align: top;\n    }\n\n    .dataframe thead th {\n        text-align: right;\n    }\n</style>\n<table border=\"1\" class=\"dataframe\">\n  <thead>\n    <tr style=\"text-align: right;\">\n      <th></th>\n      <th>id</th>\n      <th>ANCHEYEAR</th>\n      <th>STATE</th>\n      <th>FUNDAM</th>\n      <th>MEMNUM</th>\n      <th>FARNUM</th>\n      <th>ANNNEWMEMNUM</th>\n      <th>ANNREDMEMNUM</th>\n      <th>EMPNUM</th>\n      <th>EMPNUMSIGN</th>\n      <th>...</th>\n      <th>DISPERNUM</th>\n      <th>UNENUM</th>\n      <th>COLEMPLNUM</th>\n      <th>RETEMPLNUM</th>\n      <th>DISEMPLNUM</th>\n      <th>UNEEMPLNUM</th>\n      <th>WEBSITSIGN</th>\n      <th>FORINVESTSIGN</th>\n      <th>STOCKTRANSIGN</th>\n      <th>PUBSTATE</th>\n    </tr>\n  </thead>\n  <tbody>\n    <tr>\n      <th>0</th>\n      <td>9c7fa510616a683058ce97d0bc768a621cd85ab1e87da2a3</td>\n      <td>2017.0</td>\n      <td>2.0</td>\n      <td>5.0</td>\n      <td>NaN</td>\n      <td>NaN</td>\n      <td>NaN</td>\n      <td>NaN</td>\n      <td>10.0</td>\n      <td>NaN</td>\n      <td>...</td>\n      <td>0.0</td>\n      <td>0.0</td>\n      <td>0.0</td>\n      <td>0.0</td>\n      <td>0.0</td>\n      <td>0.0</td>\n      <td>2.0</td>\n      <td>NaN</td>\n      <td>NaN</td>\n      <td>3.0</td>\n    </tr>\n    <tr>\n      <th>1</th>\n      <td>9c7fa510616a683058ce97d0bc768a621cd85ab1e87da2a3</td>\n      <td>2018.0</td>\n      <td>2.0</td>\n      <td>2.0</td>\n      <td>NaN</td>\n      <td>NaN</td>\n      <td>NaN</td>\n      <td>NaN</td>\n      <td>2.0</td>\n      <td>NaN</td>\n      <td>...</td>\n      <td>0.0</td>\n      <td>0.0</td>\n      <td>0.0</td>\n      <td>0.0</td>\n      <td>0.0</td>\n      <td>0.0</td>\n      <td>2.0</td>\n      <td>NaN</td>\n      <td>NaN</td>\n      <td>3.0</td>\n    </tr>\n    <tr>\n      <th>2</th>\n      <td>f000950527a6feb63ee1ce82bb22ddd1ab8b8fdffa3b91fb</td>\n      <td>2017.0</td>\n      <td>2.0</td>\n      <td>NaN</td>\n      <td>NaN</td>\n      <td>NaN</td>\n      <td>NaN</td>\n      <td>NaN</td>\n      <td>4.0</td>\n      <td>2.0</td>\n      <td>...</td>\n      <td>0.0</td>\n      <td>0.0</td>\n      <td>1.0</td>\n      <td>0.0</td>\n      <td>0.0</td>\n      <td>0.0</td>\n      <td>2.0</td>\n      <td>2.0</td>\n      <td>2.0</td>\n      <td>3.0</td>\n    </tr>\n    <tr>\n      <th>3</th>\n      <td>f000950527a6feb63ee1ce82bb22ddd1ab8b8fdffa3b91fb</td>\n      <td>2018.0</td>\n      <td>2.0</td>\n      <td>NaN</td>\n      <td>NaN</td>\n      <td>NaN</td>\n      <td>NaN</td>\n      <td>NaN</td>\n      <td>3.0</td>\n      <td>2.0</td>\n      <td>...</td>\n      <td>0.0</td>\n      <td>0.0</td>\n      <td>2.0</td>\n      <td>0.0</td>\n      <td>0.0</td>\n      <td>0.0</td>\n      <td>2.0</td>\n      <td>2.0</td>\n      <td>2.0</td>\n      <td>3.0</td>\n    </tr>\n    <tr>\n      <th>4</th>\n      <td>9c7fa510616a68309e4badf2a7a3123c0462fb85bf28ef17</td>\n      <td>2017.0</td>\n      <td>2.0</td>\n      <td>5.0</td>\n      <td>NaN</td>\n      <td>NaN</td>\n      <td>NaN</td>\n      <td>NaN</td>\n      <td>10.0</td>\n      <td>NaN</td>\n      <td>...</td>\n      <td>0.0</td>\n      <td>0.0</td>\n      <td>0.0</td>\n      <td>0.0</td>\n      <td>0.0</td>\n      <td>0.0</td>\n      <td>2.0</td>\n      <td>NaN</td>\n      <td>NaN</td>\n      <td>3.0</td>\n    </tr>\n  </tbody>\n</table>\n<p>5 rows × 23 columns</p>\n</div>"
     },
     "metadata": {},
     "execution_count": 100
    }
   ],
   "source": [
    "df_anreport_info = pd.read_csv(t_annual_report_info, header=0)\n",
    "df_anreport_info['ANCHEYEAR'].value_counts()\n",
    "df_anreport_info['STATE'].value_counts()\n",
    "df_anreport_info.head()\n",
    "\n"
   ]
  },
  {
   "cell_type": "code",
   "execution_count": null,
   "metadata": {},
   "outputs": [],
   "source": []
  }
 ]
}