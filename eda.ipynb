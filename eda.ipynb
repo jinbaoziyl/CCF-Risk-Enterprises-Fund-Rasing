{
 "metadata": {
  "language_info": {
   "codemirror_mode": {
    "name": "ipython",
    "version": 3
   },
   "file_extension": ".py",
   "mimetype": "text/x-python",
   "name": "python",
   "nbconvert_exporter": "python",
   "pygments_lexer": "ipython3",
   "version": "3.7.4-final"
  },
  "orig_nbformat": 2,
  "kernelspec": {
   "name": "python37464bitbaseconda00b92aab035d439185146209ec4673ab",
   "display_name": "Python 3.7.4 64-bit ('base': conda)"
  }
 },
 "nbformat": 4,
 "nbformat_minor": 2,
 "cells": [
  {
   "cell_type": "markdown",
   "metadata": {},
   "source": [
    "## CCF: 企业非法集资风险预测"
   ]
  },
  {
   "cell_type": "code",
   "execution_count": 21,
   "metadata": {},
   "outputs": [],
   "source": [
    "import time\n",
    "import math\n",
    "import warnings\n",
    "import numpy as np\n",
    "import pandas as pd\n",
    "import lightgbm as lgb"
   ]
  },
  {
   "cell_type": "code",
   "execution_count": 22,
   "metadata": {
    "tags": []
   },
   "outputs": [
    {
     "output_type": "stream",
     "name": "stdout",
     "text": "Reading...\n"
    }
   ],
   "source": [
    "print(\"Reading...\")\n",
    "base_info = pd.read_csv('dataset/train/base_info.csv')"
   ]
  },
  {
   "cell_type": "code",
   "execution_count": 23,
   "metadata": {},
   "outputs": [
    {
     "output_type": "execute_result",
     "data": {
      "text/plain": "       oplocdistrict    industryco       enttype   enttypeitem         state  \\\ncount   24865.000000  24864.000000  24865.000000  16651.000000  24865.000000   \nmean   340210.536859   7885.261141   4229.008647   1646.959942      6.164569   \nstd        12.818573    667.047545   3892.282453   1276.284531      0.582226   \nmin    340000.000000      0.000000   1100.000000   1110.000000      4.000000   \n25%    340202.000000   7512.000000   1100.000000   1130.000000      6.000000   \n50%    340207.000000   8040.000000   1100.000000   1150.000000      6.000000   \n75%    340221.000000   8199.000000   9600.000000   1150.000000      6.000000   \nmax    340294.000000   9700.000000   9600.000000   9600.000000     20.000000   \n\n              orgid         jobid      adbusign      townsign       regtype  \\\ncount  2.486500e+04  2.486500e+04  24865.000000  24865.000000  24865.000000   \nmean   3.416682e+17  3.548101e+17      0.002815      0.578444      1.088236   \nstd    1.107349e+16  3.052367e+16      0.052985      0.493818      0.417715   \nmin    1.410800e+17  1.410800e+17      0.000000      0.000000      1.000000   \n25%    3.402000e+17  3.402000e+17      0.000000      0.000000      1.000000   \n50%    3.402020e+17  3.402000e+17      0.000000      1.000000      1.000000   \n75%    3.402070e+17  4.000000e+17      0.000000      1.000000      1.000000   \nmax    4.000000e+17  4.000000e+17      1.000000      1.000000      4.000000   \n\n       ...       venind  enttypeminu  midpreindcode    protype        regcap  \\\ncount  ...  8437.000000  7270.000000            0.0  34.000000  2.467400e+04   \nmean   ...     2.946545  1824.567538            NaN  81.705882  5.151437e+03   \nstd    ...     0.284933  1339.867039            NaN  37.921394  6.777086e+04   \nmin    ...     1.000000  1121.000000            NaN   1.000000  0.000000e+00   \n25%    ...     3.000000  1151.000000            NaN  99.000000  1.500000e+01   \n50%    ...     3.000000  1151.000000            NaN  99.000000  8.000000e+01   \n75%    ...     3.000000  1153.000000            NaN  99.000000  5.000000e+02   \nmax    ...     3.000000  4533.000000            NaN  99.000000  5.000100e+06   \n\n             reccap     forreccap     forregcap         congro     enttypegb  \ncount  7.084000e+03    227.000000    250.000000     249.000000  24865.000000  \nmean   4.198166e+03    292.644467   1212.583484    2805.259428   4256.337261  \nstd    3.653798e+04   1841.310231   8113.267914   18131.954146   3873.165231  \nmin    0.000000e+00      0.000000      0.000000       0.000000   1110.000000  \n25%    0.000000e+00      0.000000      0.000000       0.000000   1130.000000  \n50%    0.000000e+00      0.000000      0.000000       0.000000   1152.000000  \n75%    1.000000e+02      0.000000      0.000000       0.000000   9600.000000  \nmax    1.278900e+06  15428.170000  88817.920450  221453.761350   9600.000000  \n\n[8 rows x 25 columns]",
      "text/html": "<div>\n<style scoped>\n    .dataframe tbody tr th:only-of-type {\n        vertical-align: middle;\n    }\n\n    .dataframe tbody tr th {\n        vertical-align: top;\n    }\n\n    .dataframe thead th {\n        text-align: right;\n    }\n</style>\n<table border=\"1\" class=\"dataframe\">\n  <thead>\n    <tr style=\"text-align: right;\">\n      <th></th>\n      <th>oplocdistrict</th>\n      <th>industryco</th>\n      <th>enttype</th>\n      <th>enttypeitem</th>\n      <th>state</th>\n      <th>orgid</th>\n      <th>jobid</th>\n      <th>adbusign</th>\n      <th>townsign</th>\n      <th>regtype</th>\n      <th>...</th>\n      <th>venind</th>\n      <th>enttypeminu</th>\n      <th>midpreindcode</th>\n      <th>protype</th>\n      <th>regcap</th>\n      <th>reccap</th>\n      <th>forreccap</th>\n      <th>forregcap</th>\n      <th>congro</th>\n      <th>enttypegb</th>\n    </tr>\n  </thead>\n  <tbody>\n    <tr>\n      <td>count</td>\n      <td>24865.000000</td>\n      <td>24864.000000</td>\n      <td>24865.000000</td>\n      <td>16651.000000</td>\n      <td>24865.000000</td>\n      <td>2.486500e+04</td>\n      <td>2.486500e+04</td>\n      <td>24865.000000</td>\n      <td>24865.000000</td>\n      <td>24865.000000</td>\n      <td>...</td>\n      <td>8437.000000</td>\n      <td>7270.000000</td>\n      <td>0.0</td>\n      <td>34.000000</td>\n      <td>2.467400e+04</td>\n      <td>7.084000e+03</td>\n      <td>227.000000</td>\n      <td>250.000000</td>\n      <td>249.000000</td>\n      <td>24865.000000</td>\n    </tr>\n    <tr>\n      <td>mean</td>\n      <td>340210.536859</td>\n      <td>7885.261141</td>\n      <td>4229.008647</td>\n      <td>1646.959942</td>\n      <td>6.164569</td>\n      <td>3.416682e+17</td>\n      <td>3.548101e+17</td>\n      <td>0.002815</td>\n      <td>0.578444</td>\n      <td>1.088236</td>\n      <td>...</td>\n      <td>2.946545</td>\n      <td>1824.567538</td>\n      <td>NaN</td>\n      <td>81.705882</td>\n      <td>5.151437e+03</td>\n      <td>4.198166e+03</td>\n      <td>292.644467</td>\n      <td>1212.583484</td>\n      <td>2805.259428</td>\n      <td>4256.337261</td>\n    </tr>\n    <tr>\n      <td>std</td>\n      <td>12.818573</td>\n      <td>667.047545</td>\n      <td>3892.282453</td>\n      <td>1276.284531</td>\n      <td>0.582226</td>\n      <td>1.107349e+16</td>\n      <td>3.052367e+16</td>\n      <td>0.052985</td>\n      <td>0.493818</td>\n      <td>0.417715</td>\n      <td>...</td>\n      <td>0.284933</td>\n      <td>1339.867039</td>\n      <td>NaN</td>\n      <td>37.921394</td>\n      <td>6.777086e+04</td>\n      <td>3.653798e+04</td>\n      <td>1841.310231</td>\n      <td>8113.267914</td>\n      <td>18131.954146</td>\n      <td>3873.165231</td>\n    </tr>\n    <tr>\n      <td>min</td>\n      <td>340000.000000</td>\n      <td>0.000000</td>\n      <td>1100.000000</td>\n      <td>1110.000000</td>\n      <td>4.000000</td>\n      <td>1.410800e+17</td>\n      <td>1.410800e+17</td>\n      <td>0.000000</td>\n      <td>0.000000</td>\n      <td>1.000000</td>\n      <td>...</td>\n      <td>1.000000</td>\n      <td>1121.000000</td>\n      <td>NaN</td>\n      <td>1.000000</td>\n      <td>0.000000e+00</td>\n      <td>0.000000e+00</td>\n      <td>0.000000</td>\n      <td>0.000000</td>\n      <td>0.000000</td>\n      <td>1110.000000</td>\n    </tr>\n    <tr>\n      <td>25%</td>\n      <td>340202.000000</td>\n      <td>7512.000000</td>\n      <td>1100.000000</td>\n      <td>1130.000000</td>\n      <td>6.000000</td>\n      <td>3.402000e+17</td>\n      <td>3.402000e+17</td>\n      <td>0.000000</td>\n      <td>0.000000</td>\n      <td>1.000000</td>\n      <td>...</td>\n      <td>3.000000</td>\n      <td>1151.000000</td>\n      <td>NaN</td>\n      <td>99.000000</td>\n      <td>1.500000e+01</td>\n      <td>0.000000e+00</td>\n      <td>0.000000</td>\n      <td>0.000000</td>\n      <td>0.000000</td>\n      <td>1130.000000</td>\n    </tr>\n    <tr>\n      <td>50%</td>\n      <td>340207.000000</td>\n      <td>8040.000000</td>\n      <td>1100.000000</td>\n      <td>1150.000000</td>\n      <td>6.000000</td>\n      <td>3.402020e+17</td>\n      <td>3.402000e+17</td>\n      <td>0.000000</td>\n      <td>1.000000</td>\n      <td>1.000000</td>\n      <td>...</td>\n      <td>3.000000</td>\n      <td>1151.000000</td>\n      <td>NaN</td>\n      <td>99.000000</td>\n      <td>8.000000e+01</td>\n      <td>0.000000e+00</td>\n      <td>0.000000</td>\n      <td>0.000000</td>\n      <td>0.000000</td>\n      <td>1152.000000</td>\n    </tr>\n    <tr>\n      <td>75%</td>\n      <td>340221.000000</td>\n      <td>8199.000000</td>\n      <td>9600.000000</td>\n      <td>1150.000000</td>\n      <td>6.000000</td>\n      <td>3.402070e+17</td>\n      <td>4.000000e+17</td>\n      <td>0.000000</td>\n      <td>1.000000</td>\n      <td>1.000000</td>\n      <td>...</td>\n      <td>3.000000</td>\n      <td>1153.000000</td>\n      <td>NaN</td>\n      <td>99.000000</td>\n      <td>5.000000e+02</td>\n      <td>1.000000e+02</td>\n      <td>0.000000</td>\n      <td>0.000000</td>\n      <td>0.000000</td>\n      <td>9600.000000</td>\n    </tr>\n    <tr>\n      <td>max</td>\n      <td>340294.000000</td>\n      <td>9700.000000</td>\n      <td>9600.000000</td>\n      <td>9600.000000</td>\n      <td>20.000000</td>\n      <td>4.000000e+17</td>\n      <td>4.000000e+17</td>\n      <td>1.000000</td>\n      <td>1.000000</td>\n      <td>4.000000</td>\n      <td>...</td>\n      <td>3.000000</td>\n      <td>4533.000000</td>\n      <td>NaN</td>\n      <td>99.000000</td>\n      <td>5.000100e+06</td>\n      <td>1.278900e+06</td>\n      <td>15428.170000</td>\n      <td>88817.920450</td>\n      <td>221453.761350</td>\n      <td>9600.000000</td>\n    </tr>\n  </tbody>\n</table>\n<p>8 rows × 25 columns</p>\n</div>"
     },
     "metadata": {},
     "execution_count": 23
    }
   ],
   "source": [
    "base_info.describe()"
   ]
  },
  {
   "cell_type": "code",
   "execution_count": null,
   "metadata": {},
   "outputs": [],
   "source": []
  }
 ]
}